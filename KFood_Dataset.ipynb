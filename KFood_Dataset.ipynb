{
  "nbformat": 4,
  "nbformat_minor": 0,
  "metadata": {
    "colab": {
      "name": "KFood_Dataset.ipynb",
      "provenance": [],
      "authorship_tag": "ABX9TyNE/PO5cniUzG08kIPjqR9/",
      "include_colab_link": true
    },
    "kernelspec": {
      "name": "python3",
      "display_name": "Python 3"
    },
    "language_info": {
      "name": "python"
    }
  },
  "cells": [
    {
      "cell_type": "markdown",
      "metadata": {
        "id": "view-in-github",
        "colab_type": "text"
      },
      "source": [
        "<a href=\"https://colab.research.google.com/github/kimhwijin/HandsOnMachineLearing/blob/main/KFood_Dataset.ipynb\" target=\"_parent\"><img src=\"https://colab.research.google.com/assets/colab-badge.svg\" alt=\"Open In Colab\"/></a>"
      ]
    },
    {
      "cell_type": "code",
      "execution_count": 1,
      "metadata": {
        "id": "u7ybrbjuAx_B"
      },
      "outputs": [],
      "source": [
        "import tensorflow as tf\n",
        "import numpy as np\n",
        "from tensorflow import keras\n",
        "import os\n",
        "from pathlib import Path\n",
        "import matplotlib.pyplot as plt\n",
        "import matplotlib as mpl\n",
        "import csv"
      ]
    },
    {
      "cell_type": "code",
      "source": [
        "keras.backend.clear_session()\n",
        "REDUCTION_FILTERS = {\n",
        "    'Inception-v4' : {\n",
        "        'k' : 192,\n",
        "        'l' : 224,\n",
        "        'm' : 256,\n",
        "        'n' : 384\n",
        "    },\n",
        "    'Inception-ResNet-v2' : {\n",
        "        'k' : 256,\n",
        "        'l' : 256,\n",
        "        'm' : 384,\n",
        "        'n' : 384\n",
        "    }\n",
        "}\n",
        "WEIGHTS_TYPE = 'Inception-v4'"
      ],
      "metadata": {
        "id": "3LvxO_9_A2xt"
      },
      "execution_count": 2,
      "outputs": []
    },
    {
      "cell_type": "code",
      "source": [
        ""
      ],
      "metadata": {
        "id": "7yHFUj8sA45T"
      },
      "execution_count": null,
      "outputs": []
    }
  ]
}