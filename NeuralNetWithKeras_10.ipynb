{
  "nbformat": 4,
  "nbformat_minor": 0,
  "metadata": {
    "colab": {
      "name": "NeuralNetWithKeras_10.ipynb",
      "provenance": [],
      "collapsed_sections": [],
      "toc_visible": true,
      "authorship_tag": "ABX9TyN8HsD+i3tG5XdcKbvuyhf3",
      "include_colab_link": true
    },
    "kernelspec": {
      "name": "python3",
      "display_name": "Python 3"
    },
    "language_info": {
      "name": "python"
    },
    "accelerator": "GPU"
  },
  "cells": [
    {
      "cell_type": "markdown",
      "metadata": {
        "id": "view-in-github",
        "colab_type": "text"
      },
      "source": [
        "<a href=\"https://colab.research.google.com/github/kimhwijin/HandsOnMachineLearing/blob/main/NeuralNetWithKeras_10.ipynb\" target=\"_parent\"><img src=\"https://colab.research.google.com/assets/colab-badge.svg\" alt=\"Open In Colab\"/></a>"
      ]
    },
    {
      "cell_type": "code",
      "metadata": {
        "id": "8XTjQ-5jkYNa"
      },
      "source": [
        "from sklearn.linear_model import Perceptron\n",
        "from sklearn.datasets import load_iris\n",
        "\n",
        "import tensorflow as tf\n",
        "from tensorflow import keras\n",
        "import matplotlib.pyplot as plt\n",
        "import numpy as np\n",
        "import pandas as pd\n",
        "\n",
        "from sklearn.datasets import fetch_california_housing\n",
        "from sklearn.model_selection import train_test_split\n",
        "from sklearn.preprocessing import StandardScaler\n"
      ],
      "execution_count": 7,
      "outputs": []
    },
    {
      "cell_type": "code",
      "metadata": {
        "colab": {
          "base_uri": "https://localhost:8080/"
        },
        "id": "lpZHOi8ekoi7",
        "outputId": "f820ba0b-7be4-4bae-9ef8-19905804e882"
      },
      "source": [
        "iris = load_iris()\n",
        "X = iris.data[:, (2,3)]\n",
        "y = (iris.target == 0).astype(np.int)\n",
        "\n",
        "per_clf = Perceptron()\n",
        "per_clf.fit(X, y)\n"
      ],
      "execution_count": null,
      "outputs": [
        {
          "output_type": "execute_result",
          "data": {
            "text/plain": [
              "Perceptron(alpha=0.0001, class_weight=None, early_stopping=False, eta0=1.0,\n",
              "           fit_intercept=True, max_iter=1000, n_iter_no_change=5, n_jobs=None,\n",
              "           penalty=None, random_state=0, shuffle=True, tol=0.001,\n",
              "           validation_fraction=0.1, verbose=0, warm_start=False)"
            ]
          },
          "metadata": {},
          "execution_count": 2
        }
      ]
    },
    {
      "cell_type": "code",
      "metadata": {
        "colab": {
          "base_uri": "https://localhost:8080/"
        },
        "id": "C0UuKNUFA2Fk",
        "outputId": "d1b03abc-ee24-4abc-e5d7-917aff413809"
      },
      "source": [
        "(X_train_full, y_train_full), (X_test, y_test) = keras.datasets.fashion_mnist.load_data()\n",
        "X_valid, X_train = X_train_full[:5000] / 255., X_train_full[5000:] / 255.\n",
        "y_valid, y_train = y_train_full[:5000], y_train_full[5000:]\n",
        "X_test = X_test / 255."
      ],
      "execution_count": null,
      "outputs": [
        {
          "output_type": "stream",
          "name": "stdout",
          "text": [
            "Downloading data from https://storage.googleapis.com/tensorflow/tf-keras-datasets/train-labels-idx1-ubyte.gz\n",
            "32768/29515 [=================================] - 0s 0us/step\n",
            "40960/29515 [=========================================] - 0s 0us/step\n",
            "Downloading data from https://storage.googleapis.com/tensorflow/tf-keras-datasets/train-images-idx3-ubyte.gz\n",
            "26427392/26421880 [==============================] - 0s 0us/step\n",
            "26435584/26421880 [==============================] - 0s 0us/step\n",
            "Downloading data from https://storage.googleapis.com/tensorflow/tf-keras-datasets/t10k-labels-idx1-ubyte.gz\n",
            "16384/5148 [===============================================================================================] - 0s 0us/step\n",
            "Downloading data from https://storage.googleapis.com/tensorflow/tf-keras-datasets/t10k-images-idx3-ubyte.gz\n",
            "4423680/4422102 [==============================] - 0s 0us/step\n",
            "4431872/4422102 [==============================] - 0s 0us/step\n"
          ]
        }
      ]
    },
    {
      "cell_type": "code",
      "metadata": {
        "colab": {
          "base_uri": "https://localhost:8080/"
        },
        "id": "UwB_LbnxBHPj",
        "outputId": "444ff081-c718-4d19-8ac9-b0a059bc4d4a"
      },
      "source": [
        "plt.imshow(X_train[0], cmap=\"binary\")\n",
        "plt.axis('off')\n",
        "plt.show()\n",
        "\n",
        "print(np.unique(y_train))\n",
        "class_names = [\"T-shirt/top\", \"Trouser\", \"Pullover\", \"Dress\", \"Coat\",\n",
        "               \"Sandal\", \"Shirt\", \"Sneaker\", \"Bag\", \"Ankle boot\"]"
      ],
      "execution_count": null,
      "outputs": [
        {
          "output_type": "display_data",
          "data": {
            "image/png": "[encoded data removed]",
            "text/plain": [
              "<Figure size 432x288 with 1 Axes>"
            ]
          },
          "metadata": {
            "needs_background": "light"
          }
        },
        {
          "output_type": "stream",
          "name": "stdout",
          "text": [
            "[0 1 2 3 4 5 6 7 8 9]\n"
          ]
        }
      ]
    },
    {
      "cell_type": "code",
      "metadata": {
        "colab": {
          "base_uri": "https://localhost:8080/"
        },
        "id": "06_Sh1QzBXyq",
        "outputId": "2d8ff94c-e824-407d-bb9e-79cfcfa24eb1"
      },
      "source": [
        "n_row = 4\n",
        "n_col = 10\n",
        "\n",
        "plt.figure(figsize=(n_col*1.2, n_row*1.2))\n",
        "for row in range(n_row):\n",
        "    for col in range(n_col):\n",
        "        index = n_col * row + col\n",
        "        plt.subplot(n_row, n_col, index+1)\n",
        "        plt.imshow(X_train[index], cmap='binary', interpolation=\"nearest\")\n",
        "        plt.axis('off')\n",
        "        plt.title(class_names[y_train[index]], fontsize=12)\n",
        "\n",
        "plt.subplots_adjust(wspace=0.2, hspace=0.5)\n",
        "plt.show()"
      ],
      "execution_count": null,
      "outputs": [
        {
          "output_type": "display_data",
          "data": {
            "image/png": "[encoded data removed]",
            "text/plain": [
              "<Figure size 864x345.6 with 40 Axes>"
            ]
          },
          "metadata": {
            "needs_background": "light"
          }
        }
      ]
    },
    {
      "cell_type": "code",
      "metadata": {
        "colab": {
          "base_uri": "https://localhost:8080/",
          "height": 805
        },
        "id": "33fBxNjECgog",
        "outputId": "90ac894a-c7a9-4c86-c2fb-6c7a0b77adba"
      },
      "source": [
        "model = keras.models.Sequential()\n",
        "model.add(keras.layers.Flatten(input_shape=[28, 28]))\n",
        "model.add(keras.layers.Dense(300, activation=\"relu\"))\n",
        "model.add(keras.layers.Dense(100, activation=\"relu\"))\n",
        "model.add(keras.layers.Dense(10, activation=\"softmax\"))\n",
        "\n",
        "model.summary()\n",
        "\n",
        "keras.utils.plot_model(model, show_shapes=True) "
      ],
      "execution_count": null,
      "outputs": [
        {
          "output_type": "stream",
          "name": "stdout",
          "text": [
            "Model: \"sequential\"\n",
            "_________________________________________________________________\n",
            "Layer (type)                 Output Shape              Param #   \n",
            "=================================================================\n",
            "flatten (Flatten)            (None, 784)               0         \n",
            "_________________________________________________________________\n",
            "dense (Dense)                (None, 300)               235500    \n",
            "_________________________________________________________________\n",
            "dense_1 (Dense)              (None, 100)               30100     \n",
            "_________________________________________________________________\n",
            "dense_2 (Dense)              (None, 10)                1010      \n",
            "=================================================================\n",
            "Total params: 266,610\n",
            "Trainable params: 266,610\n",
            "Non-trainable params: 0\n",
            "_________________________________________________________________\n"
          ]
        },
        {
          "output_type": "execute_result",
          "data": {
            "image/png": "[encoded data removed]",
            "text/plain": [
              "<IPython.core.display.Image object>"
            ]
          },
          "metadata": {},
          "execution_count": 7
        }
      ]
    },
    {
      "cell_type": "code",
      "metadata": {
        "colab": {
          "base_uri": "https://localhost:8080/"
        },
        "id": "zCrNJPUwDS0m",
        "outputId": "7d1ff265-2f46-44c6-cdde-72b37ee25753"
      },
      "source": [
        "hidden1 = model.layers[1]\n",
        "weights, bias = model.get_layer(hidden1.name).get_weights()\n",
        "print(hidden1.name)\n",
        "print(weights.shape, bias.shape)"
      ],
      "execution_count": null,
      "outputs": [
        {
          "output_type": "stream",
          "name": "stdout",
          "text": [
            "dense\n",
            "(784, 300) (300,)\n"
          ]
        }
      ]
    },
    {
      "cell_type": "code",
      "metadata": {
        "id": "YupkSoCUDtlg"
      },
      "source": [
        "model.compile(loss=keras.losses.sparse_categorical_crossentropy,\n",
        "              optimizer=keras.optimizers.SGD(),\n",
        "              metrics=[keras.metrics.sparse_categorical_accuracy])\n"
      ],
      "execution_count": null,
      "outputs": []
    },
    {
      "cell_type": "code",
      "metadata": {
        "colab": {
          "base_uri": "https://localhost:8080/"
        },
        "id": "9RzWPL67EA34",
        "outputId": "03492d75-b1d4-479d-f584-5da342d42b73"
      },
      "source": [
        "history = model.fit(X_train, y_train, epochs=30,\n",
        "                    validation_data=(X_valid, y_valid))"
      ],
      "execution_count": null,
      "outputs": [
        {
          "output_type": "stream",
          "name": "stdout",
          "text": [
            "Epoch 1/30\n",
            "1719/1719 [==============================] - 5s 2ms/step - loss: 0.7130 - sparse_categorical_accuracy: 0.7685 - val_loss: 0.4918 - val_sparse_categorical_accuracy: 0.8324\n",
            "Epoch 2/30\n",
            "1719/1719 [==============================] - 3s 2ms/step - loss: 0.4824 - sparse_categorical_accuracy: 0.8321 - val_loss: 0.4659 - val_sparse_categorical_accuracy: 0.8354\n",
            "Epoch 3/30\n",
            "1719/1719 [==============================] - 3s 2ms/step - loss: 0.4387 - sparse_categorical_accuracy: 0.8466 - val_loss: 0.4323 - val_sparse_categorical_accuracy: 0.8522\n",
            "Epoch 4/30\n",
            "1719/1719 [==============================] - 3s 2ms/step - loss: 0.4124 - sparse_categorical_accuracy: 0.8557 - val_loss: 0.4066 - val_sparse_categorical_accuracy: 0.8614\n",
            "Epoch 5/30\n",
            "1719/1719 [==============================] - 3s 2ms/step - loss: 0.3916 - sparse_categorical_accuracy: 0.8613 - val_loss: 0.3784 - val_sparse_categorical_accuracy: 0.8680\n",
            "Epoch 6/30\n",
            "1719/1719 [==============================] - 3s 2ms/step - loss: 0.3747 - sparse_categorical_accuracy: 0.8673 - val_loss: 0.3756 - val_sparse_categorical_accuracy: 0.8688\n",
            "Epoch 7/30\n",
            "1719/1719 [==============================] - 3s 2ms/step - loss: 0.3627 - sparse_categorical_accuracy: 0.8713 - val_loss: 0.3616 - val_sparse_categorical_accuracy: 0.8740\n",
            "Epoch 8/30\n",
            "1719/1719 [==============================] - 4s 2ms/step - loss: 0.3507 - sparse_categorical_accuracy: 0.8757 - val_loss: 0.3659 - val_sparse_categorical_accuracy: 0.8728\n",
            "Epoch 9/30\n",
            "1719/1719 [==============================] - 3s 2ms/step - loss: 0.3408 - sparse_categorical_accuracy: 0.8790 - val_loss: 0.3571 - val_sparse_categorical_accuracy: 0.8746\n",
            "Epoch 10/30\n",
            "1719/1719 [==============================] - 3s 2ms/step - loss: 0.3311 - sparse_categorical_accuracy: 0.8812 - val_loss: 0.3378 - val_sparse_categorical_accuracy: 0.8798\n",
            "Epoch 11/30\n",
            "1719/1719 [==============================] - 3s 2ms/step - loss: 0.3228 - sparse_categorical_accuracy: 0.8847 - val_loss: 0.3407 - val_sparse_categorical_accuracy: 0.8742\n",
            "Epoch 12/30\n",
            "1719/1719 [==============================] - 3s 2ms/step - loss: 0.3153 - sparse_categorical_accuracy: 0.8875 - val_loss: 0.3334 - val_sparse_categorical_accuracy: 0.8800\n",
            "Epoch 13/30\n",
            "1719/1719 [==============================] - 3s 2ms/step - loss: 0.3072 - sparse_categorical_accuracy: 0.8894 - val_loss: 0.3243 - val_sparse_categorical_accuracy: 0.8854\n",
            "Epoch 14/30\n",
            "1719/1719 [==============================] - 3s 2ms/step - loss: 0.3013 - sparse_categorical_accuracy: 0.8921 - val_loss: 0.3177 - val_sparse_categorical_accuracy: 0.8854\n",
            "Epoch 15/30\n",
            "1719/1719 [==============================] - 3s 2ms/step - loss: 0.2943 - sparse_categorical_accuracy: 0.8945 - val_loss: 0.3232 - val_sparse_categorical_accuracy: 0.8814\n",
            "Epoch 16/30\n",
            "1719/1719 [==============================] - 3s 2ms/step - loss: 0.2886 - sparse_categorical_accuracy: 0.8961 - val_loss: 0.3087 - val_sparse_categorical_accuracy: 0.8894\n",
            "Epoch 17/30\n",
            "1719/1719 [==============================] - 3s 2ms/step - loss: 0.2833 - sparse_categorical_accuracy: 0.8982 - val_loss: 0.3253 - val_sparse_categorical_accuracy: 0.8826\n",
            "Epoch 18/30\n",
            "1719/1719 [==============================] - 3s 2ms/step - loss: 0.2777 - sparse_categorical_accuracy: 0.8985 - val_loss: 0.3130 - val_sparse_categorical_accuracy: 0.8864\n",
            "Epoch 19/30\n",
            "1719/1719 [==============================] - 3s 2ms/step - loss: 0.2720 - sparse_categorical_accuracy: 0.9025 - val_loss: 0.3157 - val_sparse_categorical_accuracy: 0.8866\n",
            "Epoch 20/30\n",
            "1719/1719 [==============================] - 3s 2ms/step - loss: 0.2673 - sparse_categorical_accuracy: 0.9028 - val_loss: 0.3097 - val_sparse_categorical_accuracy: 0.8896\n",
            "Epoch 21/30\n",
            "1719/1719 [==============================] - 3s 2ms/step - loss: 0.2629 - sparse_categorical_accuracy: 0.9051 - val_loss: 0.3090 - val_sparse_categorical_accuracy: 0.8852\n",
            "Epoch 22/30\n",
            "1719/1719 [==============================] - 3s 2ms/step - loss: 0.2576 - sparse_categorical_accuracy: 0.9067 - val_loss: 0.2953 - val_sparse_categorical_accuracy: 0.8928\n",
            "Epoch 23/30\n",
            "1719/1719 [==============================] - 3s 2ms/step - loss: 0.2531 - sparse_categorical_accuracy: 0.9084 - val_loss: 0.3038 - val_sparse_categorical_accuracy: 0.8890\n",
            "Epoch 24/30\n",
            "1719/1719 [==============================] - 3s 2ms/step - loss: 0.2495 - sparse_categorical_accuracy: 0.9093 - val_loss: 0.2992 - val_sparse_categorical_accuracy: 0.8904\n",
            "Epoch 25/30\n",
            "1719/1719 [==============================] - 3s 2ms/step - loss: 0.2452 - sparse_categorical_accuracy: 0.9112 - val_loss: 0.3024 - val_sparse_categorical_accuracy: 0.8886\n",
            "Epoch 26/30\n",
            "1719/1719 [==============================] - 3s 2ms/step - loss: 0.2406 - sparse_categorical_accuracy: 0.9130 - val_loss: 0.3113 - val_sparse_categorical_accuracy: 0.8836\n",
            "Epoch 27/30\n",
            "1719/1719 [==============================] - 3s 2ms/step - loss: 0.2373 - sparse_categorical_accuracy: 0.9138 - val_loss: 0.3027 - val_sparse_categorical_accuracy: 0.8904\n",
            "Epoch 28/30\n",
            "1719/1719 [==============================] - 3s 2ms/step - loss: 0.2329 - sparse_categorical_accuracy: 0.9168 - val_loss: 0.3192 - val_sparse_categorical_accuracy: 0.8864\n",
            "Epoch 29/30\n",
            "1719/1719 [==============================] - 3s 2ms/step - loss: 0.2291 - sparse_categorical_accuracy: 0.9172 - val_loss: 0.2933 - val_sparse_categorical_accuracy: 0.8924\n",
            "Epoch 30/30\n",
            "1719/1719 [==============================] - 3s 2ms/step - loss: 0.2255 - sparse_categorical_accuracy: 0.9186 - val_loss: 0.3006 - val_sparse_categorical_accuracy: 0.8876\n"
          ]
        }
      ]
    },
    {
      "cell_type": "code",
      "metadata": {
        "colab": {
          "base_uri": "https://localhost:8080/"
        },
        "id": "UXpvp8WjElpb",
        "outputId": "e8b2890b-6535-4be8-a863-dd8618feaf04"
      },
      "source": [
        "print(history.params)\n",
        "print(history.history.items())"
      ],
      "execution_count": null,
      "outputs": [
        {
          "output_type": "stream",
          "name": "stdout",
          "text": [
            "{'verbose': 1, 'epochs': 30, 'steps': 1719}\n",
            "dict_items([('loss', [0.7130199670791626, 0.48237472772598267, 0.4386763870716095, 0.4124148190021515, 0.39163944125175476, 0.3747013211250305, 0.3627447187900543, 0.35069748759269714, 0.34082940220832825, 0.33114534616470337, 0.32284262776374817, 0.31533390283584595, 0.30715203285217285, 0.30128830671310425, 0.29432880878448486, 0.2885501980781555, 0.28326815366744995, 0.2776681184768677, 0.2719927430152893, 0.2673071026802063, 0.2629074156284332, 0.2575828731060028, 0.2530711591243744, 0.24954640865325928, 0.24523107707500458, 0.24057435989379883, 0.23734499514102936, 0.23287448287010193, 0.2290657013654709, 0.2254769653081894]), ('sparse_categorical_accuracy', [0.7684909105300903, 0.8320545554161072, 0.8465636372566223, 0.8557454347610474, 0.8613272905349731, 0.8673090934753418, 0.871254563331604, 0.8756545186042786, 0.8789818286895752, 0.8812363743782043, 0.8846727013587952, 0.8875272870063782, 0.8893818259239197, 0.892054557800293, 0.8944545388221741, 0.8960545659065247, 0.8982181549072266, 0.8985090851783752, 0.9024545550346375, 0.9027636647224426, 0.9051272869110107, 0.9067272543907166, 0.9084363579750061, 0.9093454480171204, 0.9111818075180054, 0.9129636287689209, 0.9137636423110962, 0.9168182015419006, 0.9172363877296448, 0.9186000227928162]), ('val_loss', [0.49177607893943787, 0.4658566415309906, 0.43231630325317383, 0.40661385655403137, 0.37843453884124756, 0.37562352418899536, 0.3615832030773163, 0.3659297823905945, 0.35707682371139526, 0.3377540111541748, 0.3406657576560974, 0.3333665132522583, 0.32431092858314514, 0.3177059292793274, 0.32318243384361267, 0.30867671966552734, 0.32532694935798645, 0.31304731965065, 0.31567737460136414, 0.3096558749675751, 0.3089938759803772, 0.29528218507766724, 0.303823858499527, 0.29917362332344055, 0.3023947477340698, 0.31134116649627686, 0.30266016721725464, 0.3192204236984253, 0.293305367231369, 0.30055972933769226]), ('val_sparse_categorical_accuracy', [0.8324000239372253, 0.8353999853134155, 0.8521999716758728, 0.8614000082015991, 0.8679999709129333, 0.8687999844551086, 0.8740000128746033, 0.8727999925613403, 0.8745999932289124, 0.879800021648407, 0.8741999864578247, 0.8799999952316284, 0.8853999972343445, 0.8853999972343445, 0.8813999891281128, 0.8894000053405762, 0.8826000094413757, 0.8863999843597412, 0.8866000175476074, 0.8895999789237976, 0.885200023651123, 0.892799973487854, 0.8889999985694885, 0.8903999924659729, 0.8885999917984009, 0.8835999965667725, 0.8903999924659729, 0.8863999843597412, 0.8924000263214111, 0.8876000046730042])])\n"
          ]
        }
      ]
    },
    {
      "cell_type": "code",
      "metadata": {
        "colab": {
          "base_uri": "https://localhost:8080/"
        },
        "id": "WzZ80h0FExOA",
        "outputId": "a9775e4e-4834-4a27-f3d7-2d197191367c"
      },
      "source": [
        "import pandas as pd\n",
        "\n",
        "pd.DataFrame(history.history).plot(figsize=(8, 5))\n",
        "plt.grid(True)\n",
        "plt.gca().set_ylim(0, 1)\n",
        "plt.show()"
      ],
      "execution_count": null,
      "outputs": [
        {
          "output_type": "display_data",
          "data": {
            "image/png": "[encoded data removed]",
            "text/plain": [
              "<Figure size 576x360 with 1 Axes>"
            ]
          },
          "metadata": {
            "needs_background": "light"
          }
        }
      ]
    },
    {
      "cell_type": "code",
      "metadata": {
        "colab": {
          "base_uri": "https://localhost:8080/"
        },
        "id": "2HN36utuFA2y",
        "outputId": "a0dadd61-a9d4-4d5b-83bc-56a12f3209ab"
      },
      "source": [
        "model.evaluate(X_test, y_test)"
      ],
      "execution_count": null,
      "outputs": [
        {
          "output_type": "stream",
          "name": "stdout",
          "text": [
            "313/313 [==============================] - 1s 2ms/step - loss: 0.3377 - sparse_categorical_accuracy: 0.8786\n"
          ]
        },
        {
          "output_type": "execute_result",
          "data": {
            "text/plain": [
              "[0.33768031001091003, 0.878600001335144]"
            ]
          },
          "metadata": {},
          "execution_count": 13
        }
      ]
    },
    {
      "cell_type": "code",
      "metadata": {
        "colab": {
          "base_uri": "https://localhost:8080/"
        },
        "id": "5kIFp3KOFRZI",
        "outputId": "deeb96b4-5567-440e-f756-a83d3b966a14"
      },
      "source": [
        "#predict\n",
        "X_new = X_test[:3]\n",
        "y_proba = model.predict(X_new)\n",
        "y_pred = np.argmax(y_proba, axis=1)\n",
        "print(y_pred)\n",
        "print(np.array(class_names)[y_pred])"
      ],
      "execution_count": null,
      "outputs": [
        {
          "output_type": "stream",
          "name": "stdout",
          "text": [
            "[9 2 1]\n",
            "['Ankle boot' 'Pullover' 'Trouser']\n"
          ]
        }
      ]
    },
    {
      "cell_type": "markdown",
      "metadata": {
        "id": "7NBQ1VDoNu2n"
      },
      "source": [
        "# 회귀\n"
      ]
    },
    {
      "cell_type": "code",
      "metadata": {
        "id": "hQvHtsJNFuC2",
        "colab": {
          "base_uri": "https://localhost:8080/"
        },
        "outputId": "8ad09771-7b85-4e17-fe3a-272faf3de8b8"
      },
      "source": [
        "\n",
        "#Regressor\n",
        "\n",
        "housing = fetch_california_housing()\n",
        "X_train_full , X_test, y_train_full, y_test = train_test_split(housing['data'], housing['target'])\n",
        "X_train, X_valid, y_train, y_valid = train_test_split(X_train_full, y_train_full)\n",
        "\n",
        "scaler = StandardScaler()\n",
        "X_train = scaler.fit_transform(X_train)\n",
        "X_valid = scaler.transform(X_valid)\n",
        "X_test = scaler.transform(X_test)\n",
        "print(X_train.shape, X_valid.shape, X_test.shape)"
      ],
      "execution_count": 9,
      "outputs": [
        {
          "output_type": "stream",
          "name": "stdout",
          "text": [
            "(11610, 8) (3870, 8) (5160, 8)\n"
          ]
        }
      ]
    },
    {
      "cell_type": "code",
      "metadata": {
        "id": "wCzP5MaeOY7T"
      },
      "source": [
        "model = keras.models.Sequential([\n",
        "                                 keras.layers.Dense(30, activation=keras.activations.relu, input_shape=X_train.shape[1:]),\n",
        "                                 keras.layers.Dense(1)\n",
        "])\n",
        "\n",
        "model.compile(loss=keras.losses.mean_squared_error, optimizer=keras.optimizers.SGD())"
      ],
      "execution_count": 10,
      "outputs": []
    },
    {
      "cell_type": "code",
      "metadata": {
        "colab": {
          "base_uri": "https://localhost:8080/"
        },
        "id": "sgRi2_8kOrH7",
        "outputId": "5c6794d7-5f49-4d73-c92e-0c120e3a2b6b"
      },
      "source": [
        "history = model.fit(X_train, y_train, epochs=20, validation_data=(X_valid, y_valid))\n",
        "mse_test = model.evaluate(X_test, y_test)"
      ],
      "execution_count": 11,
      "outputs": [
        {
          "output_type": "stream",
          "name": "stdout",
          "text": [
            "Epoch 1/20\n",
            "363/363 [==============================] - 1s 3ms/step - loss: 1.2195 - val_loss: 0.5443\n",
            "Epoch 2/20\n",
            "363/363 [==============================] - 1s 3ms/step - loss: 0.4997 - val_loss: 0.4593\n",
            "Epoch 3/20\n",
            "363/363 [==============================] - 1s 3ms/step - loss: 0.4489 - val_loss: 0.4282\n",
            "Epoch 4/20\n",
            "363/363 [==============================] - 1s 3ms/step - loss: 0.4317 - val_loss: 0.4172\n",
            "Epoch 5/20\n",
            "363/363 [==============================] - 1s 3ms/step - loss: 0.4215 - val_loss: 0.4132\n",
            "Epoch 6/20\n",
            "363/363 [==============================] - 1s 3ms/step - loss: 0.4116 - val_loss: 0.4087\n",
            "Epoch 7/20\n",
            "363/363 [==============================] - 1s 3ms/step - loss: 0.4051 - val_loss: 0.4050\n",
            "Epoch 8/20\n",
            "363/363 [==============================] - 1s 3ms/step - loss: 0.3994 - val_loss: 0.3930\n",
            "Epoch 9/20\n",
            "363/363 [==============================] - 1s 3ms/step - loss: 0.3949 - val_loss: 0.3899\n",
            "Epoch 10/20\n",
            "363/363 [==============================] - 1s 3ms/step - loss: 0.3909 - val_loss: 0.3876\n",
            "Epoch 11/20\n",
            "363/363 [==============================] - 1s 3ms/step - loss: 0.3872 - val_loss: 0.3938\n",
            "Epoch 12/20\n",
            "363/363 [==============================] - 1s 3ms/step - loss: 0.3836 - val_loss: 0.3810\n",
            "Epoch 13/20\n",
            "363/363 [==============================] - 1s 3ms/step - loss: 0.3806 - val_loss: 0.3817\n",
            "Epoch 14/20\n",
            "363/363 [==============================] - 1s 3ms/step - loss: 0.3788 - val_loss: 0.3773\n",
            "Epoch 15/20\n",
            "363/363 [==============================] - 1s 3ms/step - loss: 0.3767 - val_loss: 0.3794\n",
            "Epoch 16/20\n",
            "363/363 [==============================] - 1s 3ms/step - loss: 0.3742 - val_loss: 0.3774\n",
            "Epoch 17/20\n",
            "363/363 [==============================] - 1s 3ms/step - loss: 0.3715 - val_loss: 0.3788\n",
            "Epoch 18/20\n",
            "363/363 [==============================] - 1s 3ms/step - loss: 0.3701 - val_loss: 0.3783\n",
            "Epoch 19/20\n",
            "363/363 [==============================] - 1s 3ms/step - loss: 0.3670 - val_loss: 0.3683\n",
            "Epoch 20/20\n",
            "363/363 [==============================] - 1s 3ms/step - loss: 0.3659 - val_loss: 0.3710\n",
            "162/162 [==============================] - 0s 2ms/step - loss: 0.4042\n"
          ]
        }
      ]
    },
    {
      "cell_type": "code",
      "metadata": {
        "colab": {
          "base_uri": "https://localhost:8080/",
          "height": 303
        },
        "id": "Az9wupl-P803",
        "outputId": "4b9b2edf-1098-44ae-8dd9-97fae62d00f2"
      },
      "source": [
        "y_pred = model.predict(X_test[:3])\n",
        "print(y_test[:3])\n",
        "print(y_pred.reshape(-1))\n",
        "\n",
        "plt.plot(pd.DataFrame(history.history))\n",
        "plt.grid(True)\n",
        "plt.gca().set_ylim(0, 1)\n",
        "plt.show()"
      ],
      "execution_count": 12,
      "outputs": [
        {
          "output_type": "stream",
          "name": "stdout",
          "text": [
            "[0.953 2.84  2.202]\n",
            "[1.5250672 2.8972933 2.503006 ]\n"
          ]
        },
        {
          "output_type": "display_data",
          "data": {
            "image/png": "[encoded data removed]",
            "text/plain": [
              "<Figure size 432x288 with 1 Axes>"
            ]
          },
          "metadata": {
            "needs_background": "light"
          }
        }
      ]
    },
    {
      "cell_type": "markdown",
      "metadata": {
        "id": "fA2m1Kk1QblG"
      },
      "source": [
        "# 함수형 "
      ]
    },
    {
      "cell_type": "code",
      "metadata": {
        "id": "YwCIxeOeQepo"
      },
      "source": [
        "#Funtional\n",
        "\n",
        "np.random.seed(42)\n",
        "tf.random.set_seed(42)\n",
        "\n",
        "\n",
        "#1개의 입력\n",
        "input_ = keras.layers.Input(shape=X_train.shape[1:])\n",
        "hidden1 = keras.layers.Dense(30, activation=\"relu\")(input_)\n",
        "hidden2 = keras.layers.Dense(30, activation=\"relu\")(hidden1)\n",
        "concat = keras.layers.concatenate([input_, hidden2])\n",
        "output = keras.layers.Dense(1)(concat)\n",
        "model = keras.models.Model(inputs=[input_], outputs=[output])\n",
        "\n",
        "model.compile(loss=\"mean_squared_error\", optimizer=keras.optimizers.SGD(learning_rate=1e-3))\n",
        "\n",
        "\n",
        "#2개의 입력\n",
        "input_A = keras.layers.Input(shape=[5], name=\"wide_input\")\n",
        "input_B = keras.layers.Input(shape=[6], name=\"deep_input\")\n",
        "hidden1 = keras.layers.Dense(30, activation=\"relu\")(input_B)\n",
        "hidden2 = keras.layers.Dense(30, activation=\"relu\")(hidden1)\n",
        "concat = keras.layers.concatenate([input_A, hidden2])\n",
        "output = keras.layers.Dense(1, name=\"output\")(concat)\n",
        "model2 = keras.models.Model(inputs=[input_A, input_B], outputs=[output])\n",
        "\n",
        "model2.compile(loss=keras.losses.mean_squared_error, optimizer=keras.optimizers.SGD(learning_rate=1e-3))\n",
        "\n",
        "\n",
        "\n",
        "\n",
        "#2개의 입력 2개의 출력\n",
        "input_A = keras.layers.Input(shape=[5], name=\"wide_input\")\n",
        "input_B = keras.layers.Input(shape=[6], name=\"deep_input\")\n",
        "hidden1 = keras.layers.Dense(30, activation=\"relu\")(input_B)\n",
        "hidden2 = keras.layers.Dense(30, activation=\"relu\")(hidden1)\n",
        "concat = keras.layers.concatenate([input_A, hidden2])\n",
        "output = keras.layers.Dense(1, name=\"main_output\")(concat)\n",
        "aux_output = keras.layers.Dense(1, name=\"aux_output\")(hidden2)\n",
        "model3 = keras.models.Model(inputs=[input_A, input_B],\n",
        "                           outputs=[output, aux_output])\n",
        "\n",
        "model3.compile(loss=[keras.losses.mean_squared_error, keras.losses.mean_squared_error], loss_weights=[0.9, 0.1], optimizer=keras.optimizers.SGD(learning_rate=1e-3))"
      ],
      "execution_count": 18,
      "outputs": []
    },
    {
      "cell_type": "code",
      "metadata": {
        "id": "vT6qrk4qtc-G"
      },
      "source": [
        "X_train_A, X_train_B = X_train[:, :5], X_train[:, 2:]\n",
        "X_valid_A, X_valid_B = X_valid[:, :5], X_valid[:, 2:]\n",
        "X_test_A, X_test_B = X_test[:, :5], X_test[:, 2:]\n",
        "X_new_A, X_new_B = X_test_A[:3], X_test_B[:3]\n",
        "X_new = X_test[:3]\n",
        "y_new = y_test[:3]"
      ],
      "execution_count": 22,
      "outputs": []
    },
    {
      "cell_type": "code",
      "metadata": {
        "colab": {
          "base_uri": "https://localhost:8080/"
        },
        "id": "X7PIrmPotihG",
        "outputId": "b8e8bac9-4632-4a1f-d72b-79e81f121e80"
      },
      "source": [
        "history = model.fit(X_train, y_train, epochs=20, validation_data=(X_valid, y_valid))\n",
        "mse_test = model.evaluate(X_test, y_test)\n",
        "y_pred = model.predict(X_new)\n",
        "\n",
        "history2 = model2.fit((X_train_A, X_train_B), y_train, epochs=20,\n",
        "                    validation_data=((X_valid_A, X_valid_B), y_valid))\n",
        "mse_test2 = model2.evaluate((X_test_A, X_test_B), y_test)\n",
        "y_pred2 = model2.predict((X_new_A, X_new_B))\n",
        "\n",
        "history3 = model3.fit([X_train_A, X_train_B], [y_train, y_train], epochs=20, validation_data=([X_valid_A, X_valid_B], [y_valid, y_valid]))\n",
        "total_loss, main_loss, aux_loss = model3.evaluate([X_test_A, X_test_B], [y_test, y_test])\n",
        "y_pred_main, y_pred_aux = model3.predict([X_new_A, X_new_B])"
      ],
      "execution_count": 23,
      "outputs": [
        {
          "output_type": "stream",
          "name": "stdout",
          "text": [
            "Epoch 1/20\n",
            "363/363 [==============================] - 1s 3ms/step - loss: 0.4056 - val_loss: 0.3989\n",
            "Epoch 2/20\n",
            "363/363 [==============================] - 1s 3ms/step - loss: 0.4046 - val_loss: 0.3978\n",
            "Epoch 3/20\n",
            "363/363 [==============================] - 1s 3ms/step - loss: 0.4032 - val_loss: 0.3961\n",
            "Epoch 4/20\n",
            "363/363 [==============================] - 1s 3ms/step - loss: 0.4017 - val_loss: 0.3946\n",
            "Epoch 5/20\n",
            "363/363 [==============================] - 1s 3ms/step - loss: 0.4007 - val_loss: 0.3943\n",
            "Epoch 6/20\n",
            "363/363 [==============================] - 1s 3ms/step - loss: 0.3994 - val_loss: 0.3930\n",
            "Epoch 7/20\n",
            "363/363 [==============================] - 1s 3ms/step - loss: 0.3980 - val_loss: 0.3932\n",
            "Epoch 8/20\n",
            "363/363 [==============================] - 1s 3ms/step - loss: 0.3969 - val_loss: 0.3904\n",
            "Epoch 9/20\n",
            "363/363 [==============================] - 1s 3ms/step - loss: 0.3955 - val_loss: 0.3895\n",
            "Epoch 10/20\n",
            "363/363 [==============================] - 1s 3ms/step - loss: 0.3946 - val_loss: 0.3883\n",
            "Epoch 11/20\n",
            "363/363 [==============================] - 1s 3ms/step - loss: 0.3930 - val_loss: 0.3889\n",
            "Epoch 12/20\n",
            "363/363 [==============================] - 1s 3ms/step - loss: 0.3921 - val_loss: 0.3876\n",
            "Epoch 13/20\n",
            "363/363 [==============================] - 1s 3ms/step - loss: 0.3910 - val_loss: 0.3851\n",
            "Epoch 14/20\n",
            "363/363 [==============================] - 1s 3ms/step - loss: 0.3897 - val_loss: 0.3837\n",
            "Epoch 15/20\n",
            "363/363 [==============================] - 1s 3ms/step - loss: 0.3886 - val_loss: 0.3844\n",
            "Epoch 16/20\n",
            "363/363 [==============================] - 1s 3ms/step - loss: 0.3876 - val_loss: 0.3825\n",
            "Epoch 17/20\n",
            "363/363 [==============================] - 1s 3ms/step - loss: 0.3863 - val_loss: 0.3825\n",
            "Epoch 18/20\n",
            "363/363 [==============================] - 1s 3ms/step - loss: 0.3852 - val_loss: 0.3807\n",
            "Epoch 19/20\n",
            "363/363 [==============================] - 1s 3ms/step - loss: 0.3845 - val_loss: 0.3801\n",
            "Epoch 20/20\n",
            "363/363 [==============================] - 1s 3ms/step - loss: 0.3832 - val_loss: 0.3794\n",
            "162/162 [==============================] - 0s 2ms/step - loss: 0.4112\n",
            "Epoch 1/20\n",
            "363/363 [==============================] - 2s 4ms/step - loss: 1.7677 - val_loss: 0.8678\n",
            "Epoch 2/20\n",
            "363/363 [==============================] - 1s 3ms/step - loss: 0.7711 - val_loss: 0.7083\n",
            "Epoch 3/20\n",
            "363/363 [==============================] - 1s 3ms/step - loss: 0.6777 - val_loss: 0.6453\n",
            "Epoch 4/20\n",
            "363/363 [==============================] - 1s 3ms/step - loss: 0.6301 - val_loss: 0.6063\n",
            "Epoch 5/20\n",
            "363/363 [==============================] - 1s 3ms/step - loss: 0.5978 - val_loss: 0.5784\n",
            "Epoch 6/20\n",
            "363/363 [==============================] - 1s 3ms/step - loss: 0.5742 - val_loss: 0.5575\n",
            "Epoch 7/20\n",
            "363/363 [==============================] - 1s 3ms/step - loss: 0.5562 - val_loss: 0.5400\n",
            "Epoch 8/20\n",
            "363/363 [==============================] - 1s 3ms/step - loss: 0.5421 - val_loss: 0.5278\n",
            "Epoch 9/20\n",
            "363/363 [==============================] - 1s 3ms/step - loss: 0.5304 - val_loss: 0.5166\n",
            "Epoch 10/20\n",
            "363/363 [==============================] - 1s 3ms/step - loss: 0.5208 - val_loss: 0.5099\n",
            "Epoch 11/20\n",
            "363/363 [==============================] - 1s 3ms/step - loss: 0.5127 - val_loss: 0.5064\n",
            "Epoch 12/20\n",
            "363/363 [==============================] - 1s 3ms/step - loss: 0.5062 - val_loss: 0.4946\n",
            "Epoch 13/20\n",
            "363/363 [==============================] - 1s 3ms/step - loss: 0.5006 - val_loss: 0.4900\n",
            "Epoch 14/20\n",
            "363/363 [==============================] - 1s 3ms/step - loss: 0.4954 - val_loss: 0.4868\n",
            "Epoch 15/20\n",
            "363/363 [==============================] - 1s 3ms/step - loss: 0.4912 - val_loss: 0.4832\n",
            "Epoch 16/20\n",
            "363/363 [==============================] - 1s 3ms/step - loss: 0.4874 - val_loss: 0.4800\n",
            "Epoch 17/20\n",
            "363/363 [==============================] - 1s 3ms/step - loss: 0.4839 - val_loss: 0.4756\n",
            "Epoch 18/20\n",
            "363/363 [==============================] - 1s 3ms/step - loss: 0.4809 - val_loss: 0.4739\n",
            "Epoch 19/20\n",
            "363/363 [==============================] - 1s 3ms/step - loss: 0.4785 - val_loss: 0.4707\n",
            "Epoch 20/20\n",
            "363/363 [==============================] - 1s 3ms/step - loss: 0.4758 - val_loss: 0.4700\n",
            "162/162 [==============================] - 0s 2ms/step - loss: 0.5029\n",
            "WARNING:tensorflow:5 out of the last 6 calls to <function Model.make_predict_function.<locals>.predict_function at 0x7f3c1bc79a70> triggered tf.function retracing. Tracing is expensive and the excessive number of tracings could be due to (1) creating @tf.function repeatedly in a loop, (2) passing tensors with different shapes, (3) passing Python objects instead of tensors. For (1), please define your @tf.function outside of the loop. For (2), @tf.function has experimental_relax_shapes=True option that relaxes argument shapes that can avoid unnecessary retracing. For (3), please refer to https://www.tensorflow.org/guide/function#controlling_retracing and https://www.tensorflow.org/api_docs/python/tf/function for  more details.\n",
            "Epoch 1/20\n",
            "363/363 [==============================] - 2s 5ms/step - loss: 2.7452 - main_output_loss: 2.2702 - aux_output_loss: 7.0194 - val_loss: 1.5261 - val_main_output_loss: 1.0784 - val_aux_output_loss: 5.5551\n",
            "Epoch 2/20\n",
            "363/363 [==============================] - 2s 4ms/step - loss: 1.1974 - main_output_loss: 0.8571 - aux_output_loss: 4.2598 - val_loss: 1.0135 - val_main_output_loss: 0.7797 - val_aux_output_loss: 3.1180\n",
            "Epoch 3/20\n",
            "363/363 [==============================] - 2s 4ms/step - loss: 0.8927 - main_output_loss: 0.7123 - aux_output_loss: 2.5168 - val_loss: 0.8252 - val_main_output_loss: 0.6902 - val_aux_output_loss: 2.0396\n",
            "Epoch 4/20\n",
            "363/363 [==============================] - 2s 5ms/step - loss: 0.7652 - main_output_loss: 0.6533 - aux_output_loss: 1.7725 - val_loss: 0.7347 - val_main_output_loss: 0.6383 - val_aux_output_loss: 1.6024\n",
            "Epoch 5/20\n",
            "363/363 [==============================] - 2s 4ms/step - loss: 0.6991 - main_output_loss: 0.6141 - aux_output_loss: 1.4639 - val_loss: 0.6825 - val_main_output_loss: 0.6012 - val_aux_output_loss: 1.4147\n",
            "Epoch 6/20\n",
            "363/363 [==============================] - 2s 4ms/step - loss: 0.6588 - main_output_loss: 0.5853 - aux_output_loss: 1.3206 - val_loss: 0.6477 - val_main_output_loss: 0.5735 - val_aux_output_loss: 1.3160\n",
            "Epoch 7/20\n",
            "363/363 [==============================] - 2s 4ms/step - loss: 0.6307 - main_output_loss: 0.5630 - aux_output_loss: 1.2398 - val_loss: 0.6226 - val_main_output_loss: 0.5528 - val_aux_output_loss: 1.2509\n",
            "Epoch 8/20\n",
            "363/363 [==============================] - 2s 4ms/step - loss: 0.6102 - main_output_loss: 0.5462 - aux_output_loss: 1.1855 - val_loss: 0.6043 - val_main_output_loss: 0.5378 - val_aux_output_loss: 1.2027\n",
            "Epoch 9/20\n",
            "363/363 [==============================] - 2s 5ms/step - loss: 0.5943 - main_output_loss: 0.5332 - aux_output_loss: 1.1441 - val_loss: 0.5891 - val_main_output_loss: 0.5255 - val_aux_output_loss: 1.1618\n",
            "Epoch 10/20\n",
            "363/363 [==============================] - 2s 4ms/step - loss: 0.5819 - main_output_loss: 0.5233 - aux_output_loss: 1.1095 - val_loss: 0.5790 - val_main_output_loss: 0.5179 - val_aux_output_loss: 1.1289\n",
            "Epoch 11/20\n",
            "363/363 [==============================] - 2s 4ms/step - loss: 0.5719 - main_output_loss: 0.5154 - aux_output_loss: 1.0808 - val_loss: 0.5700 - val_main_output_loss: 0.5113 - val_aux_output_loss: 1.0982\n",
            "Epoch 12/20\n",
            "363/363 [==============================] - 2s 4ms/step - loss: 0.5638 - main_output_loss: 0.5093 - aux_output_loss: 1.0544 - val_loss: 0.5596 - val_main_output_loss: 0.5031 - val_aux_output_loss: 1.0688\n",
            "Epoch 13/20\n",
            "363/363 [==============================] - 2s 4ms/step - loss: 0.5570 - main_output_loss: 0.5044 - aux_output_loss: 1.0306 - val_loss: 0.5546 - val_main_output_loss: 0.5000 - val_aux_output_loss: 1.0454\n",
            "Epoch 14/20\n",
            "363/363 [==============================] - 2s 4ms/step - loss: 0.5508 - main_output_loss: 0.4999 - aux_output_loss: 1.0088 - val_loss: 0.5480 - val_main_output_loss: 0.4954 - val_aux_output_loss: 1.0216\n",
            "Epoch 15/20\n",
            "363/363 [==============================] - 2s 4ms/step - loss: 0.5454 - main_output_loss: 0.4962 - aux_output_loss: 0.9879 - val_loss: 0.5430 - val_main_output_loss: 0.4923 - val_aux_output_loss: 0.9996\n",
            "Epoch 16/20\n",
            "363/363 [==============================] - 2s 4ms/step - loss: 0.5406 - main_output_loss: 0.4930 - aux_output_loss: 0.9688 - val_loss: 0.5384 - val_main_output_loss: 0.4895 - val_aux_output_loss: 0.9791\n",
            "Epoch 17/20\n",
            "363/363 [==============================] - 2s 4ms/step - loss: 0.5359 - main_output_loss: 0.4899 - aux_output_loss: 0.9501 - val_loss: 0.5333 - val_main_output_loss: 0.4859 - val_aux_output_loss: 0.9599\n",
            "Epoch 18/20\n",
            "363/363 [==============================] - 2s 5ms/step - loss: 0.5318 - main_output_loss: 0.4872 - aux_output_loss: 0.9335 - val_loss: 0.5303 - val_main_output_loss: 0.4844 - val_aux_output_loss: 0.9426\n",
            "Epoch 19/20\n",
            "363/363 [==============================] - 2s 4ms/step - loss: 0.5284 - main_output_loss: 0.4852 - aux_output_loss: 0.9171 - val_loss: 0.5261 - val_main_output_loss: 0.4816 - val_aux_output_loss: 0.9263\n",
            "Epoch 20/20\n",
            "363/363 [==============================] - 2s 5ms/step - loss: 0.5246 - main_output_loss: 0.4826 - aux_output_loss: 0.9021 - val_loss: 0.5233 - val_main_output_loss: 0.4802 - val_aux_output_loss: 0.9112\n",
            "162/162 [==============================] - 0s 3ms/step - loss: 0.5454 - main_output_loss: 0.5072 - aux_output_loss: 0.8892\n",
            "WARNING:tensorflow:6 out of the last 7 calls to <function Model.make_predict_function.<locals>.predict_function at 0x7f3c1cfd0440> triggered tf.function retracing. Tracing is expensive and the excessive number of tracings could be due to (1) creating @tf.function repeatedly in a loop, (2) passing tensors with different shapes, (3) passing Python objects instead of tensors. For (1), please define your @tf.function outside of the loop. For (2), @tf.function has experimental_relax_shapes=True option that relaxes argument shapes that can avoid unnecessary retracing. For (3), please refer to https://www.tensorflow.org/guide/function#controlling_retracing and https://www.tensorflow.org/api_docs/python/tf/function for  more details.\n"
          ]
        }
      ]
    },
    {
      "cell_type": "code",
      "metadata": {
        "colab": {
          "base_uri": "https://localhost:8080/"
        },
        "id": "9v2lOs4Ww8hI",
        "outputId": "abffc905-d7cf-4592-e2f3-510d8254ce5f"
      },
      "source": [
        "print(y_new)\n",
        "print(y_pred.reshape(-1))\n",
        "print(y_pred2.reshape(-1))\n",
        "print(y_pred_main.reshape(-1), y_pred_aux.reshape(-1))"
      ],
      "execution_count": 28,
      "outputs": [
        {
          "output_type": "stream",
          "name": "stdout",
          "text": [
            "[0.953 2.84  2.202]\n",
            "[1.5481619 2.9637146 2.4183147]\n",
            "[1.2134268 2.7486088 2.6360793]\n",
            "[1.3215098 2.7880406 2.738461 ] [2.2034822 2.184329  2.5697756]\n"
          ]
        }
      ]
    },
    {
      "cell_type": "markdown",
      "metadata": {
        "id": "4fRukHtHvO3C"
      },
      "source": [
        "# 서브 클래싱"
      ]
    },
    {
      "cell_type": "code",
      "metadata": {
        "id": "QneMytH4t-Vo"
      },
      "source": [
        "#Sub Classing\n",
        "\n",
        "class WideAndDeepModel(keras.models.Model):\n",
        "    def __init__(self, units=30, activation=\"relu\", **kwargs):\n",
        "        super().__init__(**kwargs)\n",
        "        self.hidden1 = keras.layers.Dense(units, activation=activation)\n",
        "        self.hidden2 = keras.layers.Dense(units, activation=activation)\n",
        "        self.main_output = keras.layers.Dense(1)\n",
        "        self.aux_output = keras.layers.Dense(1)\n",
        "        \n",
        "    def call(self, inputs):\n",
        "        input_A, input_B = inputs\n",
        "        hidden1 = self.hidden1(input_B)\n",
        "        hidden2 = self.hidden2(hidden1)\n",
        "        concat = keras.layers.concatenate([input_A, hidden2])\n",
        "        main_output = self.main_output(concat)\n",
        "        aux_output = self.aux_output(hidden2)\n",
        "        return main_output, aux_output\n",
        "\n",
        "model = WideAndDeepModel(30, activation=\"relu\")\n",
        "model.compile(loss=keras.losses.mean_squared_error, loss_weights=[0.9, 0.1], optimizer=keras.optimizers.SGD(learning_rate=1e-3))"
      ],
      "execution_count": 31,
      "outputs": []
    },
    {
      "cell_type": "code",
      "metadata": {
        "colab": {
          "base_uri": "https://localhost:8080/"
        },
        "id": "BZrWDIQ5tinZ",
        "outputId": "953f6022-2009-4119-9de8-31c0e404cef4"
      },
      "source": [
        "history = model.fit((X_train_A, X_train_B), (y_train, y_train), epochs=10,validation_data=((X_valid_A, X_valid_B), (y_valid, y_valid)))\n",
        "total_loss, main_loss, aux_loss = model.evaluate((X_test_A, X_test_B), (y_test, y_test))\n",
        "y_pred_main, y_pred_aux = model.predict((X_new_A, X_new_B))"
      ],
      "execution_count": 32,
      "outputs": [
        {
          "output_type": "stream",
          "name": "stdout",
          "text": [
            "Epoch 1/10\n",
            "363/363 [==============================] - 2s 5ms/step - loss: 2.7186 - output_1_loss: 2.4222 - output_2_loss: 5.3863 - val_loss: 1.3614 - val_output_1_loss: 0.9978 - val_output_2_loss: 4.6341\n",
            "Epoch 2/10\n",
            "363/363 [==============================] - 2s 5ms/step - loss: 1.1169 - output_1_loss: 0.8095 - output_2_loss: 3.8833 - val_loss: 0.9468 - val_output_1_loss: 0.7103 - val_output_2_loss: 3.0750\n",
            "Epoch 3/10\n",
            "363/363 [==============================] - 2s 4ms/step - loss: 0.8796 - output_1_loss: 0.6786 - output_2_loss: 2.6888 - val_loss: 0.8123 - val_output_1_loss: 0.6494 - val_output_2_loss: 2.2787\n",
            "Epoch 4/10\n",
            "363/363 [==============================] - 2s 5ms/step - loss: 0.7799 - output_1_loss: 0.6333 - output_2_loss: 2.0995 - val_loss: 0.7430 - val_output_1_loss: 0.6133 - val_output_2_loss: 1.9101\n",
            "Epoch 5/10\n",
            "363/363 [==============================] - 2s 5ms/step - loss: 0.7264 - output_1_loss: 0.6054 - output_2_loss: 1.8154 - val_loss: 0.7026 - val_output_1_loss: 0.5876 - val_output_2_loss: 1.7377\n",
            "Epoch 6/10\n",
            "363/363 [==============================] - 2s 4ms/step - loss: 0.6905 - output_1_loss: 0.5824 - output_2_loss: 1.6634 - val_loss: 0.6725 - val_output_1_loss: 0.5656 - val_output_2_loss: 1.6342\n",
            "Epoch 7/10\n",
            "363/363 [==============================] - 2s 5ms/step - loss: 0.6636 - output_1_loss: 0.5635 - output_2_loss: 1.5643 - val_loss: 0.6491 - val_output_1_loss: 0.5478 - val_output_2_loss: 1.5603\n",
            "Epoch 8/10\n",
            "363/363 [==============================] - 2s 5ms/step - loss: 0.6421 - output_1_loss: 0.5478 - output_2_loss: 1.4910 - val_loss: 0.6298 - val_output_1_loss: 0.5330 - val_output_2_loss: 1.5010\n",
            "Epoch 9/10\n",
            "363/363 [==============================] - 2s 4ms/step - loss: 0.6239 - output_1_loss: 0.5341 - output_2_loss: 1.4320 - val_loss: 0.6134 - val_output_1_loss: 0.5203 - val_output_2_loss: 1.4509\n",
            "Epoch 10/10\n",
            "363/363 [==============================] - 2s 4ms/step - loss: 0.6089 - output_1_loss: 0.5229 - output_2_loss: 1.3831 - val_loss: 0.6022 - val_output_1_loss: 0.5127 - val_output_2_loss: 1.4076\n",
            "162/162 [==============================] - 0s 3ms/step - loss: 0.6183 - output_1_loss: 0.5366 - output_2_loss: 1.3534\n"
          ]
        }
      ]
    },
    {
      "cell_type": "markdown",
      "metadata": {
        "id": "x-9OO3_j2g6f"
      },
      "source": [
        "# 모델 저장과 복원\n",
        "\n"
      ]
    },
    {
      "cell_type": "code",
      "metadata": {
        "id": "WyfWs8pp2fle"
      },
      "source": [
        "model = keras.models.Sequential([\n",
        "    keras.layers.Dense(30, activation=\"relu\", input_shape=[8]),\n",
        "    keras.layers.Dense(30, activation=\"relu\"),\n",
        "    keras.layers.Dense(1)\n",
        "])\n",
        "\n",
        "model.compile(loss=keras.losses.mean_squared_error, optimizer=keras.optimizers.SGD(learning_rate=1e-3))"
      ],
      "execution_count": 33,
      "outputs": []
    },
    {
      "cell_type": "code",
      "metadata": {
        "colab": {
          "base_uri": "https://localhost:8080/"
        },
        "id": "9eB2Cfhc20fB",
        "outputId": "8a6557a6-1343-4aff-cc38-f0eae1909012"
      },
      "source": [
        "history = model.fit(X_train, y_train, epochs=10, validation_data=(X_valid, y_valid))\n",
        "mse_test = model.evaluate(X_test, y_test)\n",
        "model.save('keras_model.h5')"
      ],
      "execution_count": 35,
      "outputs": [
        {
          "output_type": "stream",
          "name": "stdout",
          "text": [
            "Epoch 1/10\n",
            "363/363 [==============================] - 1s 3ms/step - loss: 0.5227 - val_loss: 0.5104\n",
            "Epoch 2/10\n",
            "363/363 [==============================] - 1s 3ms/step - loss: 0.5104 - val_loss: 0.4998\n",
            "Epoch 3/10\n",
            "363/363 [==============================] - 1s 3ms/step - loss: 0.4999 - val_loss: 0.4891\n",
            "Epoch 4/10\n",
            "363/363 [==============================] - 1s 3ms/step - loss: 0.4905 - val_loss: 0.4807\n",
            "Epoch 5/10\n",
            "363/363 [==============================] - 1s 3ms/step - loss: 0.4826 - val_loss: 0.4737\n",
            "Epoch 6/10\n",
            "363/363 [==============================] - 1s 3ms/step - loss: 0.4753 - val_loss: 0.4673\n",
            "Epoch 7/10\n",
            "363/363 [==============================] - 1s 3ms/step - loss: 0.4688 - val_loss: 0.4621\n",
            "Epoch 8/10\n",
            "363/363 [==============================] - 1s 3ms/step - loss: 0.4634 - val_loss: 0.4568\n",
            "Epoch 9/10\n",
            "363/363 [==============================] - 1s 3ms/step - loss: 0.4584 - val_loss: 0.4522\n",
            "Epoch 10/10\n",
            "363/363 [==============================] - 1s 3ms/step - loss: 0.4539 - val_loss: 0.4486\n",
            "162/162 [==============================] - 0s 2ms/step - loss: 0.4870\n"
          ]
        }
      ]
    },
    {
      "cell_type": "code",
      "metadata": {
        "colab": {
          "base_uri": "https://localhost:8080/"
        },
        "id": "vfVF065K3i2O",
        "outputId": "a44c3f8e-fb81-4b92-b831-3be2cc4a7499"
      },
      "source": [
        "model = keras.models.load_model('keras_model.h5')\n",
        "model.predict(X_new)"
      ],
      "execution_count": 37,
      "outputs": [
        {
          "output_type": "execute_result",
          "data": {
            "text/plain": [
              "array([[1.3957124],\n",
              "       [2.9314675],\n",
              "       [2.8085494]], dtype=float32)"
            ]
          },
          "metadata": {},
          "execution_count": 37
        }
      ]
    },
    {
      "cell_type": "markdown",
      "metadata": {
        "id": "4UuWzEDhB49-"
      },
      "source": [
        "# 콜백\n"
      ]
    },
    {
      "cell_type": "code",
      "metadata": {
        "colab": {
          "base_uri": "https://localhost:8080/"
        },
        "id": "5OrCN4QJ3okH",
        "outputId": "55970ef3-1d8e-492a-aa0f-5bce5931cf45"
      },
      "source": [
        "model = keras.models.Sequential([\n",
        "    keras.layers.Dense(30, activation=\"relu\", input_shape=[8]),\n",
        "    keras.layers.Dense(30, activation=\"relu\"),\n",
        "    keras.layers.Dense(1)\n",
        "])\n",
        "model.compile(loss=keras.losses.mean_squared_error, optimizer=keras.optimizers.SGD(learning_rate=1e-3))\n",
        "\n",
        "checkpoint_cb = keras.callbacks.ModelCheckpoint(\"keras_model.h5\", save_best_only=True)\n",
        "\n",
        "history = model.fit(X_train, y_train, epochs=10,\n",
        "                    validation_data=(X_valid, y_valid),\n",
        "                    callbacks=[checkpoint_cb])\n",
        "\n",
        "model = keras.models.load_model(\"keras_model.h5\") # 최상의 모델로 롤백\n",
        "mse_test = model.evaluate(X_test, y_test)"
      ],
      "execution_count": 40,
      "outputs": [
        {
          "output_type": "stream",
          "name": "stdout",
          "text": [
            "Epoch 1/10\n",
            "363/363 [==============================] - 2s 4ms/step - loss: 2.7069 - val_loss: 1.2054\n",
            "Epoch 2/10\n",
            "363/363 [==============================] - 1s 3ms/step - loss: 0.9370 - val_loss: 0.7988\n",
            "Epoch 3/10\n",
            "363/363 [==============================] - 1s 3ms/step - loss: 0.7239 - val_loss: 0.6829\n",
            "Epoch 4/10\n",
            "363/363 [==============================] - 1s 3ms/step - loss: 0.6507 - val_loss: 0.6339\n",
            "Epoch 5/10\n",
            "363/363 [==============================] - 1s 3ms/step - loss: 0.6135 - val_loss: 0.6029\n",
            "Epoch 6/10\n",
            "363/363 [==============================] - 1s 3ms/step - loss: 0.5869 - val_loss: 0.5787\n",
            "Epoch 7/10\n",
            "363/363 [==============================] - 1s 3ms/step - loss: 0.5648 - val_loss: 0.5567\n",
            "Epoch 8/10\n",
            "363/363 [==============================] - 1s 3ms/step - loss: 0.5467 - val_loss: 0.5390\n",
            "Epoch 9/10\n",
            "363/363 [==============================] - 1s 3ms/step - loss: 0.5308 - val_loss: 0.5230\n",
            "Epoch 10/10\n",
            "363/363 [==============================] - 1s 3ms/step - loss: 0.5175 - val_loss: 0.5111\n",
            "162/162 [==============================] - 0s 2ms/step - loss: 0.5368\n"
          ]
        }
      ]
    },
    {
      "cell_type": "code",
      "metadata": {
        "colab": {
          "base_uri": "https://localhost:8080/"
        },
        "id": "407ZSFK1CxBr",
        "outputId": "4671585a-77e5-4fb9-80a6-1e1850a2e13d"
      },
      "source": [
        "model.compile(loss=keras.losses.mean_squared_error, optimizer=keras.optimizers.SGD(learning_rate=1e-3))\n",
        "early_stopping_cb = keras.callbacks.EarlyStopping(patience=5, restore_best_weights=True)\n",
        "history = model.fit(X_train, y_train, epochs=100, validation_data=(X_valid, y_valid), callbacks=[checkpoint_cb, early_stopping_cb])\n",
        "mse_test = model.evaluate(X_test, y_test)"
      ],
      "execution_count": 41,
      "outputs": [
        {
          "output_type": "stream",
          "name": "stdout",
          "text": [
            "Epoch 1/100\n",
            "363/363 [==============================] - 2s 3ms/step - loss: 0.5062 - val_loss: 0.4989\n",
            "Epoch 2/100\n",
            "363/363 [==============================] - 1s 3ms/step - loss: 0.4967 - val_loss: 0.4897\n",
            "Epoch 3/100\n",
            "363/363 [==============================] - 1s 3ms/step - loss: 0.4889 - val_loss: 0.4813\n",
            "Epoch 4/100\n",
            "363/363 [==============================] - 1s 3ms/step - loss: 0.4820 - val_loss: 0.4745\n",
            "Epoch 5/100\n",
            "363/363 [==============================] - 1s 3ms/step - loss: 0.4764 - val_loss: 0.4692\n",
            "Epoch 6/100\n",
            "363/363 [==============================] - 1s 3ms/step - loss: 0.4714 - val_loss: 0.4647\n",
            "Epoch 7/100\n",
            "363/363 [==============================] - 1s 3ms/step - loss: 0.4670 - val_loss: 0.4604\n",
            "Epoch 8/100\n",
            "363/363 [==============================] - 1s 3ms/step - loss: 0.4634 - val_loss: 0.4571\n",
            "Epoch 9/100\n",
            "363/363 [==============================] - 1s 3ms/step - loss: 0.4598 - val_loss: 0.4534\n",
            "Epoch 10/100\n",
            "363/363 [==============================] - 1s 3ms/step - loss: 0.4566 - val_loss: 0.4519\n",
            "Epoch 11/100\n",
            "363/363 [==============================] - 1s 3ms/step - loss: 0.4535 - val_loss: 0.4507\n",
            "Epoch 12/100\n",
            "363/363 [==============================] - 1s 3ms/step - loss: 0.4509 - val_loss: 0.4456\n",
            "Epoch 13/100\n",
            "363/363 [==============================] - 1s 3ms/step - loss: 0.4482 - val_loss: 0.4436\n",
            "Epoch 14/100\n",
            "363/363 [==============================] - 1s 3ms/step - loss: 0.4455 - val_loss: 0.4415\n",
            "Epoch 15/100\n",
            "363/363 [==============================] - 1s 3ms/step - loss: 0.4431 - val_loss: 0.4405\n",
            "Epoch 16/100\n",
            "363/363 [==============================] - 1s 3ms/step - loss: 0.4410 - val_loss: 0.4379\n",
            "Epoch 17/100\n",
            "363/363 [==============================] - 1s 3ms/step - loss: 0.4386 - val_loss: 0.4352\n",
            "Epoch 18/100\n",
            "363/363 [==============================] - 1s 3ms/step - loss: 0.4365 - val_loss: 0.4337\n",
            "Epoch 19/100\n",
            "363/363 [==============================] - 1s 3ms/step - loss: 0.4347 - val_loss: 0.4309\n",
            "Epoch 20/100\n",
            "363/363 [==============================] - 1s 3ms/step - loss: 0.4325 - val_loss: 0.4307\n",
            "Epoch 21/100\n",
            "363/363 [==============================] - 1s 3ms/step - loss: 0.4309 - val_loss: 0.4288\n",
            "Epoch 22/100\n",
            "363/363 [==============================] - 1s 3ms/step - loss: 0.4288 - val_loss: 0.4271\n",
            "Epoch 23/100\n",
            "363/363 [==============================] - 1s 3ms/step - loss: 0.4271 - val_loss: 0.4244\n",
            "Epoch 24/100\n",
            "363/363 [==============================] - 1s 3ms/step - loss: 0.4256 - val_loss: 0.4230\n",
            "Epoch 25/100\n",
            "363/363 [==============================] - 1s 3ms/step - loss: 0.4235 - val_loss: 0.4228\n",
            "Epoch 26/100\n",
            "363/363 [==============================] - 1s 3ms/step - loss: 0.4222 - val_loss: 0.4207\n",
            "Epoch 27/100\n",
            "363/363 [==============================] - 1s 3ms/step - loss: 0.4208 - val_loss: 0.4198\n",
            "Epoch 28/100\n",
            "363/363 [==============================] - 1s 3ms/step - loss: 0.4192 - val_loss: 0.4179\n",
            "Epoch 29/100\n",
            "363/363 [==============================] - 1s 3ms/step - loss: 0.4177 - val_loss: 0.4162\n",
            "Epoch 30/100\n",
            "363/363 [==============================] - 1s 3ms/step - loss: 0.4160 - val_loss: 0.4151\n",
            "Epoch 31/100\n",
            "363/363 [==============================] - 1s 3ms/step - loss: 0.4149 - val_loss: 0.4153\n",
            "Epoch 32/100\n",
            "363/363 [==============================] - 1s 3ms/step - loss: 0.4137 - val_loss: 0.4136\n",
            "Epoch 33/100\n",
            "363/363 [==============================] - 1s 3ms/step - loss: 0.4123 - val_loss: 0.4129\n",
            "Epoch 34/100\n",
            "363/363 [==============================] - 1s 3ms/step - loss: 0.4110 - val_loss: 0.4104\n",
            "Epoch 35/100\n",
            "363/363 [==============================] - 1s 3ms/step - loss: 0.4097 - val_loss: 0.4105\n",
            "Epoch 36/100\n",
            "363/363 [==============================] - 1s 3ms/step - loss: 0.4085 - val_loss: 0.4087\n",
            "Epoch 37/100\n",
            "363/363 [==============================] - 1s 3ms/step - loss: 0.4073 - val_loss: 0.4075\n",
            "Epoch 38/100\n",
            "363/363 [==============================] - 1s 3ms/step - loss: 0.4063 - val_loss: 0.4071\n",
            "Epoch 39/100\n",
            "363/363 [==============================] - 1s 3ms/step - loss: 0.4048 - val_loss: 0.4066\n",
            "Epoch 40/100\n",
            "363/363 [==============================] - 1s 3ms/step - loss: 0.4042 - val_loss: 0.4055\n",
            "Epoch 41/100\n",
            "363/363 [==============================] - 1s 3ms/step - loss: 0.4027 - val_loss: 0.4043\n",
            "Epoch 42/100\n",
            "363/363 [==============================] - 1s 3ms/step - loss: 0.4019 - val_loss: 0.4041\n",
            "Epoch 43/100\n",
            "363/363 [==============================] - 1s 3ms/step - loss: 0.4007 - val_loss: 0.4027\n",
            "Epoch 44/100\n",
            "363/363 [==============================] - 1s 3ms/step - loss: 0.3997 - val_loss: 0.4021\n",
            "Epoch 45/100\n",
            "363/363 [==============================] - 1s 3ms/step - loss: 0.3986 - val_loss: 0.4016\n",
            "Epoch 46/100\n",
            "363/363 [==============================] - 1s 3ms/step - loss: 0.3977 - val_loss: 0.4023\n",
            "Epoch 47/100\n",
            "363/363 [==============================] - 1s 3ms/step - loss: 0.3971 - val_loss: 0.4004\n",
            "Epoch 48/100\n",
            "363/363 [==============================] - 1s 3ms/step - loss: 0.3959 - val_loss: 0.3991\n",
            "Epoch 49/100\n",
            "363/363 [==============================] - 1s 3ms/step - loss: 0.3953 - val_loss: 0.3975\n",
            "Epoch 50/100\n",
            "363/363 [==============================] - 1s 3ms/step - loss: 0.3939 - val_loss: 0.3983\n",
            "Epoch 51/100\n",
            "363/363 [==============================] - 1s 3ms/step - loss: 0.3933 - val_loss: 0.3957\n",
            "Epoch 52/100\n",
            "363/363 [==============================] - 1s 3ms/step - loss: 0.3923 - val_loss: 0.3945\n",
            "Epoch 53/100\n",
            "363/363 [==============================] - 1s 3ms/step - loss: 0.3915 - val_loss: 0.3950\n",
            "Epoch 54/100\n",
            "363/363 [==============================] - 1s 3ms/step - loss: 0.3904 - val_loss: 0.3934\n",
            "Epoch 55/100\n",
            "363/363 [==============================] - 1s 3ms/step - loss: 0.3896 - val_loss: 0.3923\n",
            "Epoch 56/100\n",
            "363/363 [==============================] - 1s 3ms/step - loss: 0.3884 - val_loss: 0.3914\n",
            "Epoch 57/100\n",
            "363/363 [==============================] - 1s 3ms/step - loss: 0.3874 - val_loss: 0.3915\n",
            "Epoch 58/100\n",
            "363/363 [==============================] - 1s 3ms/step - loss: 0.3869 - val_loss: 0.3905\n",
            "Epoch 59/100\n",
            "363/363 [==============================] - 1s 3ms/step - loss: 0.3861 - val_loss: 0.3886\n",
            "Epoch 60/100\n",
            "363/363 [==============================] - 1s 3ms/step - loss: 0.3852 - val_loss: 0.3885\n",
            "Epoch 61/100\n",
            "363/363 [==============================] - 1s 3ms/step - loss: 0.3845 - val_loss: 0.3878\n",
            "Epoch 62/100\n",
            "363/363 [==============================] - 1s 3ms/step - loss: 0.3835 - val_loss: 0.3877\n",
            "Epoch 63/100\n",
            "363/363 [==============================] - 1s 3ms/step - loss: 0.3829 - val_loss: 0.3862\n",
            "Epoch 64/100\n",
            "363/363 [==============================] - 1s 3ms/step - loss: 0.3819 - val_loss: 0.3852\n",
            "Epoch 65/100\n",
            "363/363 [==============================] - 1s 3ms/step - loss: 0.3811 - val_loss: 0.3842\n",
            "Epoch 66/100\n",
            "363/363 [==============================] - 1s 3ms/step - loss: 0.3801 - val_loss: 0.3843\n",
            "Epoch 67/100\n",
            "363/363 [==============================] - 1s 3ms/step - loss: 0.3795 - val_loss: 0.3826\n",
            "Epoch 68/100\n",
            "363/363 [==============================] - 1s 3ms/step - loss: 0.3786 - val_loss: 0.3822\n",
            "Epoch 69/100\n",
            "363/363 [==============================] - 1s 3ms/step - loss: 0.3780 - val_loss: 0.3818\n",
            "Epoch 70/100\n",
            "363/363 [==============================] - 1s 3ms/step - loss: 0.3770 - val_loss: 0.3804\n",
            "Epoch 71/100\n",
            "363/363 [==============================] - 1s 3ms/step - loss: 0.3762 - val_loss: 0.3808\n",
            "Epoch 72/100\n",
            "363/363 [==============================] - 1s 3ms/step - loss: 0.3757 - val_loss: 0.3796\n",
            "Epoch 73/100\n",
            "363/363 [==============================] - 1s 3ms/step - loss: 0.3747 - val_loss: 0.3783\n",
            "Epoch 74/100\n",
            "363/363 [==============================] - 1s 3ms/step - loss: 0.3739 - val_loss: 0.3777\n",
            "Epoch 75/100\n",
            "363/363 [==============================] - 1s 3ms/step - loss: 0.3734 - val_loss: 0.3769\n",
            "Epoch 76/100\n",
            "363/363 [==============================] - 1s 3ms/step - loss: 0.3727 - val_loss: 0.3764\n",
            "Epoch 77/100\n",
            "363/363 [==============================] - 1s 3ms/step - loss: 0.3720 - val_loss: 0.3752\n",
            "Epoch 78/100\n",
            "363/363 [==============================] - 1s 3ms/step - loss: 0.3713 - val_loss: 0.3749\n",
            "Epoch 79/100\n",
            "363/363 [==============================] - 1s 3ms/step - loss: 0.3706 - val_loss: 0.3741\n",
            "Epoch 80/100\n",
            "363/363 [==============================] - 1s 3ms/step - loss: 0.3698 - val_loss: 0.3732\n",
            "Epoch 81/100\n",
            "363/363 [==============================] - 1s 3ms/step - loss: 0.3691 - val_loss: 0.3742\n",
            "Epoch 82/100\n",
            "363/363 [==============================] - 1s 3ms/step - loss: 0.3684 - val_loss: 0.3722\n",
            "Epoch 83/100\n",
            "363/363 [==============================] - 1s 3ms/step - loss: 0.3679 - val_loss: 0.3722\n",
            "Epoch 84/100\n",
            "363/363 [==============================] - 1s 3ms/step - loss: 0.3673 - val_loss: 0.3710\n",
            "Epoch 85/100\n",
            "363/363 [==============================] - 1s 3ms/step - loss: 0.3666 - val_loss: 0.3706\n",
            "Epoch 86/100\n",
            "363/363 [==============================] - 1s 3ms/step - loss: 0.3660 - val_loss: 0.3697\n",
            "Epoch 87/100\n",
            "363/363 [==============================] - 1s 3ms/step - loss: 0.3653 - val_loss: 0.3691\n",
            "Epoch 88/100\n",
            "363/363 [==============================] - 1s 3ms/step - loss: 0.3648 - val_loss: 0.3692\n",
            "Epoch 89/100\n",
            "363/363 [==============================] - 1s 3ms/step - loss: 0.3641 - val_loss: 0.3681\n",
            "Epoch 90/100\n",
            "363/363 [==============================] - 1s 3ms/step - loss: 0.3635 - val_loss: 0.3668\n",
            "Epoch 91/100\n",
            "363/363 [==============================] - 1s 3ms/step - loss: 0.3629 - val_loss: 0.3665\n",
            "Epoch 92/100\n",
            "363/363 [==============================] - 1s 3ms/step - loss: 0.3621 - val_loss: 0.3670\n",
            "Epoch 93/100\n",
            "363/363 [==============================] - 1s 3ms/step - loss: 0.3618 - val_loss: 0.3652\n",
            "Epoch 94/100\n",
            "363/363 [==============================] - 1s 3ms/step - loss: 0.3609 - val_loss: 0.3650\n",
            "Epoch 95/100\n",
            "363/363 [==============================] - 1s 3ms/step - loss: 0.3605 - val_loss: 0.3648\n",
            "Epoch 96/100\n",
            "363/363 [==============================] - 1s 3ms/step - loss: 0.3598 - val_loss: 0.3631\n",
            "Epoch 97/100\n",
            "363/363 [==============================] - 1s 3ms/step - loss: 0.3592 - val_loss: 0.3635\n",
            "Epoch 98/100\n",
            "363/363 [==============================] - 1s 3ms/step - loss: 0.3585 - val_loss: 0.3624\n",
            "Epoch 99/100\n",
            "363/363 [==============================] - 1s 3ms/step - loss: 0.3580 - val_loss: 0.3626\n",
            "Epoch 100/100\n",
            "363/363 [==============================] - 1s 3ms/step - loss: 0.3577 - val_loss: 0.3611\n",
            "162/162 [==============================] - 0s 2ms/step - loss: 0.3931\n"
          ]
        }
      ]
    },
    {
      "cell_type": "code",
      "metadata": {
        "colab": {
          "base_uri": "https://localhost:8080/"
        },
        "id": "NP1MskqRC_3F",
        "outputId": "19c83813-d9e6-406d-9670-b68c50a0d6e6"
      },
      "source": [
        "class PrintValTrainRatioCallback(keras.callbacks.Callback):\n",
        "    def on_epoch_end(self, epoch, logs):\n",
        "        print(\"\\nval/train: {:.2f}\".format(logs[\"val_loss\"] / logs[\"loss\"]))\n",
        "\n",
        "val_train_ratio_cb = PrintValTrainRatioCallback()\n",
        "history = model.fit(X_train, y_train, epochs=5, validation_data=(X_valid, y_valid), callbacks=[val_train_ratio_cb])"
      ],
      "execution_count": 43,
      "outputs": [
        {
          "output_type": "stream",
          "name": "stdout",
          "text": [
            "Epoch 1/5\n",
            "363/363 [==============================] - 1s 3ms/step - loss: 0.3569 - val_loss: 0.3604\n",
            "\n",
            "val/train: 1.01\n",
            "Epoch 2/5\n",
            "363/363 [==============================] - 1s 3ms/step - loss: 0.3562 - val_loss: 0.3613\n",
            "\n",
            "val/train: 1.01\n",
            "Epoch 3/5\n",
            "363/363 [==============================] - 1s 3ms/step - loss: 0.3559 - val_loss: 0.3598\n",
            "\n",
            "val/train: 1.01\n",
            "Epoch 4/5\n",
            "363/363 [==============================] - 1s 3ms/step - loss: 0.3553 - val_loss: 0.3587\n",
            "\n",
            "val/train: 1.01\n",
            "Epoch 5/5\n",
            "363/363 [==============================] - 1s 3ms/step - loss: 0.3549 - val_loss: 0.3579\n",
            "\n",
            "val/train: 1.01\n"
          ]
        }
      ]
    },
    {
      "cell_type": "code",
      "metadata": {
        "id": "03Xof5PCDk8n"
      },
      "source": [
        ""
      ],
      "execution_count": null,
      "outputs": []
    }
  ]
}