{
  "nbformat": 4,
  "nbformat_minor": 0,
  "metadata": {
    "colab": {
      "name": "Custom_Model_Training_12.ipynb",
      "provenance": [],
      "collapsed_sections": [],
      "toc_visible": true,
      "authorship_tag": "ABX9TyOUWg+Q81vkiLF0WuCAxIY8",
      "include_colab_link": true
    },
    "kernelspec": {
      "name": "python3",
      "display_name": "Python 3"
    },
    "language_info": {
      "name": "python"
    },
    "accelerator": "TPU"
  },
  "cells": [
    {
      "cell_type": "markdown",
      "metadata": {
        "id": "view-in-github",
        "colab_type": "text"
      },
      "source": [
        "<a href=\"https://colab.research.google.com/github/kimhwijin/HandsOnMachineLearing/blob/main/Custom_Model_Training_12.ipynb\" target=\"_parent\"><img src=\"https://colab.research.google.com/assets/colab-badge.svg\" alt=\"Open In Colab\"/></a>"
      ]
    },
    {
      "cell_type": "code",
      "metadata": {
        "id": "m64_E6zmM8gu"
      },
      "source": [
        "import tensorflow as tf\n",
        "import numpy as np\n",
        "from tensorflow import keras\n",
        "import matplotlib.pyplot as plt\n"
      ],
      "execution_count": 1,
      "outputs": []
    },
    {
      "cell_type": "markdown",
      "metadata": {
        "id": "nlvoHmLYm6q-"
      },
      "source": [
        "# Tensor Calculation"
      ]
    },
    {
      "cell_type": "code",
      "metadata": {
        "colab": {
          "base_uri": "https://localhost:8080/"
        },
        "id": "Q7Ug2OnLh8bb",
        "outputId": "50b00c0a-94ad-4cba-de7e-aa27e14cb13c"
      },
      "source": [
        "print(tf.constant([[1., 2., 3.], [4., 5., 6.]]))\n",
        "print(tf.constant(42))\n",
        "t = tf.constant([[1., 2., 3.], [4., 5., 6.]])\n",
        "print(t.shape)\n",
        "print(t.dtype)"
      ],
      "execution_count": 2,
      "outputs": [
        {
          "output_type": "stream",
          "name": "stdout",
          "text": [
            "tf.Tensor(\n",
            "[[1. 2. 3.]\n",
            " [4. 5. 6.]], shape=(2, 3), dtype=float32)\n",
            "tf.Tensor(42, shape=(), dtype=int32)\n",
            "(2, 3)\n",
            "<dtype: 'float32'>\n"
          ]
        }
      ]
    },
    {
      "cell_type": "code",
      "metadata": {
        "colab": {
          "base_uri": "https://localhost:8080/"
        },
        "id": "9-69vB86iXTW",
        "outputId": "6080d8db-4bd6-4191-9650-bb6751a35401"
      },
      "source": [
        "print(t[:, 1:])\n",
        "print(t[..., 1, tf.newaxis])"
      ],
      "execution_count": 3,
      "outputs": [
        {
          "output_type": "stream",
          "name": "stdout",
          "text": [
            "tf.Tensor(\n",
            "[[2. 3.]\n",
            " [5. 6.]], shape=(2, 2), dtype=float32)\n",
            "tf.Tensor(\n",
            "[[2.]\n",
            " [5.]], shape=(2, 1), dtype=float32)\n"
          ]
        }
      ]
    },
    {
      "cell_type": "code",
      "metadata": {
        "colab": {
          "base_uri": "https://localhost:8080/"
        },
        "id": "zcvlDR5mjd04",
        "outputId": "3c3b51c1-25d5-4d3c-c99a-ecddc30323ad"
      },
      "source": [
        "print(t + 10) #print(tf.add(t, 10))\n",
        "print(tf.square(t))\n",
        "print(t @ tf.transpose(t))\n"
      ],
      "execution_count": 4,
      "outputs": [
        {
          "output_type": "stream",
          "name": "stdout",
          "text": [
            "tf.Tensor(\n",
            "[[11. 12. 13.]\n",
            " [14. 15. 16.]], shape=(2, 3), dtype=float32)\n",
            "tf.Tensor(\n",
            "[[ 1.  4.  9.]\n",
            " [16. 25. 36.]], shape=(2, 3), dtype=float32)\n",
            "tf.Tensor(\n",
            "[[14. 32.]\n",
            " [32. 77.]], shape=(2, 2), dtype=float32)\n"
          ]
        }
      ]
    },
    {
      "cell_type": "code",
      "metadata": {
        "colab": {
          "base_uri": "https://localhost:8080/"
        },
        "id": "ZfEptqWGk7Pd",
        "outputId": "02e2aaea-e931-46ca-a8f2-89a5c156d174"
      },
      "source": [
        "n = np.array([2., 3., 4.])\n",
        "print(tf.constant(n))\n",
        "print(t.numpy())\n",
        "print(tf.square(n))\n",
        "print(np.square(t))\n"
      ],
      "execution_count": 5,
      "outputs": [
        {
          "output_type": "stream",
          "name": "stdout",
          "text": [
            "tf.Tensor([2. 3. 4.], shape=(3,), dtype=float64)\n",
            "[[1. 2. 3.]\n",
            " [4. 5. 6.]]\n",
            "tf.Tensor([ 4.  9. 16.], shape=(3,), dtype=float64)\n",
            "[[ 1.  4.  9.]\n",
            " [16. 25. 36.]]\n"
          ]
        }
      ]
    },
    {
      "cell_type": "code",
      "metadata": {
        "colab": {
          "base_uri": "https://localhost:8080/"
        },
        "id": "XjBUOcbsl8Oj",
        "outputId": "ce83a447-19fa-40d4-f2b5-1d9e80681db0"
      },
      "source": [
        "try:\n",
        "    tf.constant(2.) + tf.constant(40)\n",
        "except tf.errors.InvalidArgumentError as ex:\n",
        "    print(ex)"
      ],
      "execution_count": 6,
      "outputs": [
        {
          "output_type": "stream",
          "name": "stdout",
          "text": [
            "cannot compute AddV2 as input #1(zero-based) was expected to be a float tensor but is a int32 tensor [Op:AddV2]\n"
          ]
        }
      ]
    },
    {
      "cell_type": "code",
      "metadata": {
        "colab": {
          "base_uri": "https://localhost:8080/"
        },
        "id": "7sK2GWzXl8Uk",
        "outputId": "8e4785ff-2c04-4df5-ea0c-e28adbd95640"
      },
      "source": [
        "t2 = tf.constant(40., dtype=tf.float64)\n",
        "tf.constant(2.) + tf.cast(t2, tf.float32)"
      ],
      "execution_count": 7,
      "outputs": [
        {
          "output_type": "execute_result",
          "data": {
            "text/plain": [
              "<tf.Tensor: shape=(), dtype=float32, numpy=42.0>"
            ]
          },
          "metadata": {},
          "execution_count": 7
        }
      ]
    },
    {
      "cell_type": "markdown",
      "metadata": {
        "id": "jybV2FE0m4JM"
      },
      "source": [
        "# Variable"
      ]
    },
    {
      "cell_type": "code",
      "metadata": {
        "colab": {
          "base_uri": "https://localhost:8080/"
        },
        "id": "rYWjpeDrm3tY",
        "outputId": "f20d319a-dc02-4469-c006-3c931aff27f5"
      },
      "source": [
        "v = tf.Variable([[1., 2., 3.], [4., 5., 6.]])\n",
        "print(v)"
      ],
      "execution_count": 8,
      "outputs": [
        {
          "output_type": "stream",
          "name": "stdout",
          "text": [
            "<tf.Variable 'Variable:0' shape=(2, 3) dtype=float32, numpy=\n",
            "array([[1., 2., 3.],\n",
            "       [4., 5., 6.]], dtype=float32)>\n"
          ]
        }
      ]
    },
    {
      "cell_type": "code",
      "metadata": {
        "colab": {
          "base_uri": "https://localhost:8080/"
        },
        "id": "feKNF6TSoY5I",
        "outputId": "ddae0557-ba69-464d-d28f-ed35862153e9"
      },
      "source": [
        "print(v)\n",
        "v.assign(v * 2)\n",
        "print(v)\n",
        "v[0, 1].assign(42)\n",
        "print(v)\n",
        "v[:, 2].assign([0., 1.])\n",
        "print(v)\n",
        "v.scatter_nd_update(indices=[[0, 0], [1,2]], updates=[100., 200.])\n",
        "print(v)\n",
        "\n"
      ],
      "execution_count": 9,
      "outputs": [
        {
          "output_type": "stream",
          "name": "stdout",
          "text": [
            "<tf.Variable 'Variable:0' shape=(2, 3) dtype=float32, numpy=\n",
            "array([[1., 2., 3.],\n",
            "       [4., 5., 6.]], dtype=float32)>\n",
            "<tf.Variable 'Variable:0' shape=(2, 3) dtype=float32, numpy=\n",
            "array([[ 2.,  4.,  6.],\n",
            "       [ 8., 10., 12.]], dtype=float32)>\n",
            "<tf.Variable 'Variable:0' shape=(2, 3) dtype=float32, numpy=\n",
            "array([[ 2., 42.,  6.],\n",
            "       [ 8., 10., 12.]], dtype=float32)>\n",
            "<tf.Variable 'Variable:0' shape=(2, 3) dtype=float32, numpy=\n",
            "array([[ 2., 42.,  0.],\n",
            "       [ 8., 10.,  1.]], dtype=float32)>\n",
            "<tf.Variable 'Variable:0' shape=(2, 3) dtype=float32, numpy=\n",
            "array([[100.,  42.,   0.],\n",
            "       [  8.,  10., 200.]], dtype=float32)>\n"
          ]
        }
      ]
    },
    {
      "cell_type": "markdown",
      "metadata": {
        "id": "Wb0sasb22YXq"
      },
      "source": [
        "# String"
      ]
    },
    {
      "cell_type": "code",
      "metadata": {
        "colab": {
          "base_uri": "https://localhost:8080/"
        },
        "id": "f-b8yllwxpGj",
        "outputId": "2704d88e-602b-4948-cd3f-20dd5f7bed0d"
      },
      "source": [
        "#byte code\n",
        "s = tf.constant(b\"hello world\")\n",
        "print(s)\n",
        "#unicode\n",
        "us = tf.constant(\"카페\")\n",
        "print(us)\n",
        "#unicode to int32\n",
        "u = tf.constant([ord(c) for c in \"카페\"])\n",
        "print(u)\n",
        "#int32 to unicode encode , same as tf.constant(\"카페\")\n",
        "b = tf.strings.unicode_encode(u, \"UTF-8\")\n",
        "print(b)\n",
        "#unicode decode to int32 , same as u\n",
        "du = tf.strings.unicode_decode(b, \"UTF-8\")\n",
        "print(du)"
      ],
      "execution_count": 10,
      "outputs": [
        {
          "output_type": "stream",
          "name": "stdout",
          "text": [
            "tf.Tensor(b'hello world', shape=(), dtype=string)\n",
            "tf.Tensor(b'\\xec\\xb9\\xb4\\xed\\x8e\\x98', shape=(), dtype=string)\n",
            "tf.Tensor([52852 54168], shape=(2,), dtype=int32)\n",
            "tf.Tensor(b'\\xec\\xb9\\xb4\\xed\\x8e\\x98', shape=(), dtype=string)\n",
            "tf.Tensor([52852 54168], shape=(2,), dtype=int32)\n"
          ]
        }
      ]
    },
    {
      "cell_type": "markdown",
      "metadata": {
        "id": "ivUW2CO22bNd"
      },
      "source": [
        "# String Array, Ragged Tensor"
      ]
    },
    {
      "cell_type": "code",
      "metadata": {
        "colab": {
          "base_uri": "https://localhost:8080/"
        },
        "id": "eFGIq0XFzPri",
        "outputId": "f86d38f6-ad54-4dfe-e520-519cdd67f167"
      },
      "source": [
        "#string tensor array\n",
        "p = tf.constant([\"카페\", \"Coffee\", \"caffè\", \"咖啡\"])\n",
        "print(p)\n",
        "#int32 decode string ragged tensor\n",
        "r = tf.strings.unicode_decode(p, \"UTF8\")\n",
        "print(r)\n",
        "t = r.to_tensor()\n",
        "print(t)"
      ],
      "execution_count": 11,
      "outputs": [
        {
          "output_type": "stream",
          "name": "stdout",
          "text": [
            "tf.Tensor(\n",
            "[b'\\xec\\xb9\\xb4\\xed\\x8e\\x98' b'Coffee' b'caff\\xc3\\xa8'\n",
            " b'\\xe5\\x92\\x96\\xe5\\x95\\xa1'], shape=(4,), dtype=string)\n",
            "<tf.RaggedTensor [[52852, 54168], [67, 111, 102, 102, 101, 101], [99, 97, 102, 102, 232], [21654, 21857]]>\n",
            "tf.Tensor(\n",
            "[[52852 54168     0     0     0     0]\n",
            " [   67   111   102   102   101   101]\n",
            " [   99    97   102   102   232     0]\n",
            " [21654 21857     0     0     0     0]], shape=(4, 6), dtype=int32)\n"
          ]
        }
      ]
    },
    {
      "cell_type": "markdown",
      "metadata": {
        "id": "BbYrtRYn2d5t"
      },
      "source": [
        "# Sparse Tensor"
      ]
    },
    {
      "cell_type": "code",
      "metadata": {
        "colab": {
          "base_uri": "https://localhost:8080/"
        },
        "id": "5fw-oTUJ0L6_",
        "outputId": "3273541b-76de-45f6-d487-29ffeb0f1b77"
      },
      "source": [
        "#sparse tensor\n",
        "s = tf.SparseTensor(indices=[[0, 1], [1, 0], [2, 3]],\n",
        "                    values=[1., 2., 3.],\n",
        "                    dense_shape=[5, 4])\n",
        "print(\"-- sparse tensor\\n\", s)\n",
        "#sparse to dense tensor\n",
        "ds = tf.sparse.to_dense(s)\n",
        "print(\"-- sparse to dense tensor\\n\" , ds)\n",
        "#sparse matmul dense\n",
        "ms = tf.sparse.sparse_dense_matmul(s, tf.transpose(ds))\n",
        "print(\"-- matmul sparse, dense tensor\\n\", ms)\n",
        "#indices reorder\n",
        "print(\"-- reorder\")\n",
        "rs = tf.SparseTensor(indices=[[0, 2], [0, 1]],\n",
        "                     values=[1., 2.],\n",
        "                     dense_shape=[3, 4])\n",
        "print(rs)\n",
        "try:\n",
        "    tf.sparse.to_dense(rs)\n",
        "except tf.errors.InvalidArgumentError as ex:\n",
        "    print(ex)\n",
        "    rs = tf.sparse.reorder(rs)\n",
        "    print(rs)\n",
        "    print(tf.sparse.to_dense(rs))"
      ],
      "execution_count": 12,
      "outputs": [
        {
          "output_type": "stream",
          "name": "stdout",
          "text": [
            "-- sparse tensor\n",
            " SparseTensor(indices=tf.Tensor(\n",
            "[[0 1]\n",
            " [1 0]\n",
            " [2 3]], shape=(3, 2), dtype=int64), values=tf.Tensor([1. 2. 3.], shape=(3,), dtype=float32), dense_shape=tf.Tensor([5 4], shape=(2,), dtype=int64))\n",
            "-- sparse to dense tensor\n",
            " tf.Tensor(\n",
            "[[0. 1. 0. 0.]\n",
            " [2. 0. 0. 0.]\n",
            " [0. 0. 0. 3.]\n",
            " [0. 0. 0. 0.]\n",
            " [0. 0. 0. 0.]], shape=(5, 4), dtype=float32)\n",
            "-- matmul sparse, dense tensor\n",
            " tf.Tensor(\n",
            "[[1. 0. 0. 0. 0.]\n",
            " [0. 4. 0. 0. 0.]\n",
            " [0. 0. 9. 0. 0.]\n",
            " [0. 0. 0. 0. 0.]\n",
            " [0. 0. 0. 0. 0.]], shape=(5, 5), dtype=float32)\n",
            "-- reorder\n",
            "SparseTensor(indices=tf.Tensor(\n",
            "[[0 2]\n",
            " [0 1]], shape=(2, 2), dtype=int64), values=tf.Tensor([1. 2.], shape=(2,), dtype=float32), dense_shape=tf.Tensor([3 4], shape=(2,), dtype=int64))\n",
            "indices[1] = [0,1] is out of order. Many sparse ops require sorted indices.\n",
            "    Use `tf.sparse.reorder` to create a correctly ordered copy.\n",
            "\n",
            " [Op:SparseToDense]\n",
            "SparseTensor(indices=tf.Tensor(\n",
            "[[0 1]\n",
            " [0 2]], shape=(2, 2), dtype=int64), values=tf.Tensor([2. 1.], shape=(2,), dtype=float32), dense_shape=tf.Tensor([3 4], shape=(2,), dtype=int64))\n",
            "tf.Tensor(\n",
            "[[0. 2. 1. 0.]\n",
            " [0. 0. 0. 0.]\n",
            " [0. 0. 0. 0.]], shape=(3, 4), dtype=float32)\n"
          ]
        }
      ]
    },
    {
      "cell_type": "markdown",
      "metadata": {
        "id": "OuviqYdH2z1m"
      },
      "source": [
        "# Set"
      ]
    },
    {
      "cell_type": "code",
      "metadata": {
        "colab": {
          "base_uri": "https://localhost:8080/"
        },
        "id": "E7zaSpPC2Scx",
        "outputId": "f0c59408-5a50-4065-edb9-af869c63d7df"
      },
      "source": [
        "set1 = tf.constant([[2, 3, 5, 7], [7, 9, 0, 0]])\n",
        "set2 = tf.constant([[4, 5, 6], [9, 10, 0]])\n",
        "print(set1, set2, sep='\\n')\n",
        "#{2,3,7}, {7}\n",
        "difs = tf.sets.difference(set1, set2)\n",
        "print(difs)\n",
        "ds = tf.sparse.to_dense(difs)\n",
        "print(ds)\n"
      ],
      "execution_count": 13,
      "outputs": [
        {
          "output_type": "stream",
          "name": "stdout",
          "text": [
            "tf.Tensor(\n",
            "[[2 3 5 7]\n",
            " [7 9 0 0]], shape=(2, 4), dtype=int32)\n",
            "tf.Tensor(\n",
            "[[ 4  5  6]\n",
            " [ 9 10  0]], shape=(2, 3), dtype=int32)\n",
            "SparseTensor(indices=tf.Tensor(\n",
            "[[0 0]\n",
            " [0 1]\n",
            " [0 2]\n",
            " [1 0]], shape=(4, 2), dtype=int64), values=tf.Tensor([2 3 7 7], shape=(4,), dtype=int32), dense_shape=tf.Tensor([2 3], shape=(2,), dtype=int64))\n",
            "tf.Tensor(\n",
            "[[2 3 7]\n",
            " [7 0 0]], shape=(2, 3), dtype=int32)\n"
          ]
        }
      ]
    },
    {
      "cell_type": "markdown",
      "metadata": {
        "id": "bd2dHVXj7ceh"
      },
      "source": [
        "# User Define Loss Function\n"
      ]
    },
    {
      "cell_type": "code",
      "metadata": {
        "id": "n5uXzsar76EF"
      },
      "source": [
        "#데이터 준비\n",
        "from sklearn.datasets import fetch_california_housing\n",
        "from sklearn.model_selection import train_test_split\n",
        "from sklearn.preprocessing import StandardScaler\n",
        "\n",
        "housing = fetch_california_housing()\n",
        "X_train_full, X_test, y_train_full, y_test = train_test_split(\n",
        "    housing.data, housing.target.reshape(-1, 1), random_state=42)\n",
        "X_train, X_valid, y_train, y_valid = train_test_split(\n",
        "    X_train_full, y_train_full, random_state=42)\n",
        "\n",
        "scaler = StandardScaler()\n",
        "X_train_scaled = scaler.fit_transform(X_train)\n",
        "X_valid_scaled = scaler.transform(X_valid)\n",
        "X_test_scaled = scaler.transform(X_test)\n",
        "\n",
        "#모델 생성\n",
        "input_shape = X_train.shape[1:]\n",
        "\n",
        "model = keras.models.Sequential([\n",
        "    keras.layers.Dense(30, activation=\"selu\", kernel_initializer=\"lecun_normal\",\n",
        "                       input_shape=input_shape),\n",
        "    keras.layers.Dense(1),\n",
        "])\n",
        "\n",
        "mse_model = keras.models.Sequential([\n",
        "    keras.layers.Dense(30, activation=\"selu\", kernel_initializer=\"lecun_normal\",\n",
        "                       input_shape=input_shape),\n",
        "    keras.layers.Dense(1),\n",
        "])\n"
      ],
      "execution_count": 14,
      "outputs": []
    },
    {
      "cell_type": "code",
      "metadata": {
        "id": "zc5NS2po7e5p"
      },
      "source": [
        "def huber_fn(y_true, y_pred):\n",
        "    error = y_true - y_pred\n",
        "    is_small_error = tf.abs(error) < 1\n",
        "    squared_loss = tf.square(error) / 2\n",
        "    linear_loss = tf.abs(error) - 0.5\n",
        "    return tf.where(is_small_error, squared_loss, linear_loss)\n",
        "\n",
        "model.compile(loss=huber_fn, optimizer=\"nadam\", metrics=[\"mae\"])\n",
        "mse_model.compile(loss=\"mse\", optimizer='nadam', metrics=[\"mse\"])"
      ],
      "execution_count": 15,
      "outputs": []
    },
    {
      "cell_type": "code",
      "metadata": {
        "colab": {
          "base_uri": "https://localhost:8080/"
        },
        "id": "4o3nqfIi8VdP",
        "outputId": "f83f88c9-cec5-4a16-8896-ac21edc5a3fd"
      },
      "source": [
        "history = model.fit(X_train_scaled, y_train, epochs=10,\n",
        "          validation_data=(X_valid_scaled, y_valid))\n",
        "mse_history = mse_model.fit(X_train_scaled, y_train, epochs=10, validation_data=(X_valid_scaled, y_valid))"
      ],
      "execution_count": 16,
      "outputs": [
        {
          "output_type": "stream",
          "name": "stdout",
          "text": [
            "Epoch 1/10\n",
            "363/363 [==============================] - 2s 3ms/step - loss: 0.5584 - mae: 0.9107 - val_loss: 0.2605 - val_mae: 0.5542\n",
            "Epoch 2/10\n",
            "363/363 [==============================] - 1s 2ms/step - loss: 0.2128 - mae: 0.5051 - val_loss: 0.2000 - val_mae: 0.4817\n",
            "Epoch 3/10\n",
            "363/363 [==============================] - 1s 2ms/step - loss: 0.1967 - mae: 0.4833 - val_loss: 0.1907 - val_mae: 0.4713\n",
            "Epoch 4/10\n",
            "363/363 [==============================] - 1s 2ms/step - loss: 0.1924 - mae: 0.4781 - val_loss: 0.1887 - val_mae: 0.4677\n",
            "Epoch 5/10\n",
            "363/363 [==============================] - 1s 2ms/step - loss: 0.1897 - mae: 0.4732 - val_loss: 0.1924 - val_mae: 0.4697\n",
            "Epoch 6/10\n",
            "363/363 [==============================] - 1s 2ms/step - loss: 0.1878 - mae: 0.4704 - val_loss: 0.1831 - val_mae: 0.4580\n",
            "Epoch 7/10\n",
            "363/363 [==============================] - 1s 2ms/step - loss: 0.1852 - mae: 0.4666 - val_loss: 0.1757 - val_mae: 0.4505\n",
            "Epoch 8/10\n",
            "363/363 [==============================] - 1s 2ms/step - loss: 0.1840 - mae: 0.4648 - val_loss: 0.1718 - val_mae: 0.4494\n",
            "Epoch 9/10\n",
            "363/363 [==============================] - 1s 2ms/step - loss: 0.1820 - mae: 0.4613 - val_loss: 0.1955 - val_mae: 0.4744\n",
            "Epoch 10/10\n",
            "363/363 [==============================] - 1s 2ms/step - loss: 0.1812 - mae: 0.4602 - val_loss: 0.1892 - val_mae: 0.4594\n",
            "Epoch 1/10\n",
            "363/363 [==============================] - 1s 2ms/step - loss: 1.9556 - mse: 1.9556 - val_loss: 13.4056 - val_mse: 13.4056\n",
            "Epoch 2/10\n",
            "363/363 [==============================] - 1s 2ms/step - loss: 0.5792 - mse: 0.5792 - val_loss: 5.5556 - val_mse: 5.5556\n",
            "Epoch 3/10\n",
            "363/363 [==============================] - 1s 2ms/step - loss: 0.4993 - mse: 0.4993 - val_loss: 1.6009 - val_mse: 1.6009\n",
            "Epoch 4/10\n",
            "363/363 [==============================] - 1s 2ms/step - loss: 0.4626 - mse: 0.4626 - val_loss: 0.6813 - val_mse: 0.6813\n",
            "Epoch 5/10\n",
            "363/363 [==============================] - 1s 2ms/step - loss: 0.4534 - mse: 0.4534 - val_loss: 0.4825 - val_mse: 0.4825\n",
            "Epoch 6/10\n",
            "363/363 [==============================] - 1s 2ms/step - loss: 0.4451 - mse: 0.4451 - val_loss: 0.4501 - val_mse: 0.4501\n",
            "Epoch 7/10\n",
            "363/363 [==============================] - 1s 2ms/step - loss: 0.4405 - mse: 0.4405 - val_loss: 0.5499 - val_mse: 0.5499\n",
            "Epoch 8/10\n",
            "363/363 [==============================] - 1s 2ms/step - loss: 0.4358 - mse: 0.4358 - val_loss: 0.4244 - val_mse: 0.4244\n",
            "Epoch 9/10\n",
            "363/363 [==============================] - 1s 2ms/step - loss: 0.4314 - mse: 0.4314 - val_loss: 0.4640 - val_mse: 0.4640\n",
            "Epoch 10/10\n",
            "363/363 [==============================] - 1s 2ms/step - loss: 0.4267 - mse: 0.4267 - val_loss: 0.5065 - val_mse: 0.5065\n"
          ]
        }
      ]
    },
    {
      "cell_type": "code",
      "metadata": {
        "colab": {
          "base_uri": "https://localhost:8080/",
          "height": 265
        },
        "id": "MJftnvK49CfN",
        "outputId": "c840396f-d654-4b16-9ea0-b349ced3b3b2"
      },
      "source": [
        "plt.figure(figsize=(8, 4))\n",
        "plt.plot(list(range(1, 11)), history.history['loss'], label='huber')\n",
        "plt.plot(list(range(1, 11)), mse_history.history['loss'], label='mse')\n",
        "plt.legend(fontsize=15)\n",
        "plt.show()"
      ],
      "execution_count": 17,
      "outputs": [
        {
          "output_type": "display_data",
          "data": {
            "image/png": "[encoded data removed]",
            "text/plain": [
              "<Figure size 576x288 with 1 Axes>"
            ]
          },
          "metadata": {
            "needs_background": "light"
          }
        }
      ]
    },
    {
      "cell_type": "markdown",
      "metadata": {
        "id": "fDqkw3zz-Owk"
      },
      "source": [
        "# User Define Model Save And Load"
      ]
    },
    {
      "cell_type": "code",
      "metadata": {
        "colab": {
          "base_uri": "https://localhost:8080/"
        },
        "id": "3RC4Ihg_9CZT",
        "outputId": "ee2c54da-003e-494a-d2e1-623b4fc59738"
      },
      "source": [
        "#저장 - 문제없음\n",
        "model.save(\"custom_loss_regressor_model.h5\")\n",
        "#로드 - 맵핑 필요\n",
        "try:\n",
        "    model = keras.models.load_model(\"custom_loss_regressor_model.h5\")\n",
        "except ValueError as ex:\n",
        "    print(ex)\n",
        "    model = keras.models.load_model(\"custom_loss_regressor_model.h5\", custom_objects={\"huber_fn\": huber_fn})"
      ],
      "execution_count": 18,
      "outputs": [
        {
          "output_type": "stream",
          "name": "stdout",
          "text": [
            "Unknown loss function: huber_fn. Please ensure this object is passed to the `custom_objects` argument. See https://www.tensorflow.org/guide/keras/save_and_serialize#registering_the_custom_object for details.\n"
          ]
        }
      ]
    },
    {
      "cell_type": "code",
      "metadata": {
        "id": "H25mSOvaAP_W"
      },
      "source": [
        "#매개변수 지정 사용자 정의 함수\n",
        "def create_huber_loss(threshold=1.0):\n",
        "    def huber_fn(y_true, y_pred):\n",
        "        error = y_true - y_pred\n",
        "        is_small_error = tf.abs(error) < threshold\n",
        "        squared_loss = tf.square(error) / 2\n",
        "        linear_loss = threshold * tf.abs(error) - threshold**2 / 2\n",
        "        return tf.where(is_small_error, squared_loss, linear_loss)\n",
        "    return huber_fn\n",
        "\n",
        "model.compile(loss=create_huber_loss(2.), optimizer='nadam', metrics=['mse'])"
      ],
      "execution_count": 19,
      "outputs": []
    },
    {
      "cell_type": "code",
      "metadata": {
        "id": "nqaqZwOkBGzz"
      },
      "source": [
        "#keras.losses.Loss 상속후 사용자 로스함수 정의\n",
        "#get_config 에 추가해서 매개변수 지정\n",
        "class HuberLoss(keras.losses.Loss):\n",
        "    def __init__(self, threshold=1.0, **kwargs):\n",
        "        self.threshold = threshold\n",
        "        super().__init__(**kwargs)\n",
        "    def call(self, y_true, y_pred):\n",
        "        error = y_true - y_pred\n",
        "        is_small_error = tf.abs(error) < self.threshold\n",
        "        squared_loss = tf.square(error) / 2\n",
        "        linear_loss = self.threshold * tf.abs(error) - self.threshold ** 2 / 2 \n",
        "        return tf.where(is_small_error, squared_loss, linear_loss)\n",
        "    def get_config(self):\n",
        "        base_config = super().get_config()\n",
        "        #언패킹 연산자 * , 딕셔너리 언패킹 연산자 **\n",
        "        return {**base_config, \"threshold\": self.threshold}\n",
        "\n",
        "model = keras.models.Sequential([\n",
        "    keras.layers.Dense(30, activation=\"selu\", kernel_initializer=\"lecun_normal\",\n",
        "                       input_shape=input_shape),\n",
        "    keras.layers.Dense(1),\n",
        "])\n",
        "\n",
        "model.compile(loss=HuberLoss(2.), optimizer='nadam', metrics=['mse'])"
      ],
      "execution_count": 41,
      "outputs": []
    },
    {
      "cell_type": "code",
      "metadata": {
        "colab": {
          "base_uri": "https://localhost:8080/"
        },
        "id": "AOD7inNWG6no",
        "outputId": "8ab1148e-b457-43a5-b74c-d4219d38af70"
      },
      "source": [
        "history = model.fit(X_train_scaled, y_train, epochs=2,\n",
        "          validation_data=(X_valid_scaled, y_valid))"
      ],
      "execution_count": 42,
      "outputs": [
        {
          "output_type": "stream",
          "name": "stdout",
          "text": [
            "Epoch 1/2\n",
            "363/363 [==============================] - 2s 3ms/step - loss: 0.6912 - mse: 1.8845 - val_loss: 0.5031 - val_mse: 27.8837\n",
            "Epoch 2/2\n",
            "363/363 [==============================] - 1s 3ms/step - loss: 0.2526 - mse: 0.7427 - val_loss: 0.4098 - val_mse: 14.3238\n"
          ]
        }
      ]
    },
    {
      "cell_type": "code",
      "metadata": {
        "colab": {
          "base_uri": "https://localhost:8080/"
        },
        "id": "omnvwRaxG9gQ",
        "outputId": "2231ffce-3103-4ec7-b991-04a0668ba063"
      },
      "source": [
        "print(model.loss.threshold)\n",
        "print(model.optimizer.learning_rate)\n",
        "model = keras.models.load_model('custom_loss_regressor_model.h5', custom_objects={'huber_fn' : HuberLoss})"
      ],
      "execution_count": 43,
      "outputs": [
        {
          "output_type": "stream",
          "name": "stdout",
          "text": [
            "2.0\n",
            "<tf.Variable 'Nadam/learning_rate:0' shape=() dtype=float32, numpy=0.001>\n"
          ]
        }
      ]
    },
    {
      "cell_type": "markdown",
      "metadata": {
        "id": "BE3jOTx1EK5g"
      },
      "source": [
        "#User_Define_Activation_Initialization_Regularization_Constraint"
      ]
    },
    {
      "cell_type": "code",
      "metadata": {
        "id": "VowpqnGMDD4e"
      },
      "source": [
        "#활성화함수\n",
        "def custom_softplus(z):\n",
        "    return tf.math.log(tf.exp(z) + 1.0)\n",
        "\n",
        "#가중치 초기화 함수\n",
        "def custom_glorot_initializer(shape, dtype=tf.float32):\n",
        "    stddev = tf.sqrt(2. / (shape[0] + shape[1]))\n",
        "    return tf.random.normal(shape, stddev=stddev, dtype=dtype)\n",
        "\n",
        "#규제 함수\n",
        "def custom_l1_regularizer(weights):\n",
        "    return tf.reduce_sum(tf.abs(0.01 * weights))\n",
        "\n",
        "#가중치 제한 함수\n",
        "def custom_positive_weights(weights):\n",
        "    return tf.where(weights < 0., tf.zeros_like(weights), weights)"
      ],
      "execution_count": 46,
      "outputs": []
    },
    {
      "cell_type": "code",
      "metadata": {
        "id": "iLpbgCogFcMr"
      },
      "source": [
        "keras.backend.clear_session()\n",
        "np.random.seed(42)\n",
        "tf.random.set_seed(42)\n",
        "\n",
        "layer = keras.layers.Dense(30, activation=custom_softplus,\n",
        "                           kernel_initializer=custom_glorot_initializer,\n",
        "                           kernel_regularizer=custom_l1_regularizer,\n",
        "                           kernel_constraint=custom_positive_weights\n",
        "                           )\n",
        "\n",
        "model = keras.models.Sequential([\n",
        "    keras.layers.Dense(30, activation=\"selu\", kernel_initializer=\"lecun_normal\",\n",
        "                       input_shape=input_shape),\n",
        "    layer,\n",
        "])\n",
        "model.compile(loss=\"mse\", optimizer=\"nadam\", metrics=[\"mae\"])"
      ],
      "execution_count": 47,
      "outputs": []
    },
    {
      "cell_type": "code",
      "metadata": {
        "colab": {
          "base_uri": "https://localhost:8080/"
        },
        "id": "6Uso81irGkJj",
        "outputId": "873b97c3-f718-4015-a3e3-02b8233e41a8"
      },
      "source": [
        "model.fit(X_train_scaled, y_train, epochs=2,\n",
        "          validation_data=(X_valid_scaled, y_valid))"
      ],
      "execution_count": 48,
      "outputs": [
        {
          "output_type": "stream",
          "name": "stdout",
          "text": [
            "Epoch 1/2\n",
            "363/363 [==============================] - 2s 3ms/step - loss: 2.4459 - mae: 1.0051 - val_loss: inf - val_mae: inf\n",
            "Epoch 2/2\n",
            "363/363 [==============================] - 1s 2ms/step - loss: 1.3113 - mae: 0.5760 - val_loss: inf - val_mae: inf\n"
          ]
        },
        {
          "output_type": "execute_result",
          "data": {
            "text/plain": [
              "<keras.callbacks.History at 0x7fec173d0c90>"
            ]
          },
          "metadata": {},
          "execution_count": 48
        }
      ]
    },
    {
      "cell_type": "code",
      "metadata": {
        "id": "N_FJPHQ5JubB"
      },
      "source": [
        "#커스텀 함수 저장 및 로드 (파라미터 없을 경우)\n",
        "model.save(\"custom_model.h5\")\n",
        "\n",
        "model = keras.models.load_model(\n",
        "    \"custom_model.h5\",\n",
        "    custom_objects={\n",
        "       \"custom_l1_regularizer\": custom_l1_regularizer,\n",
        "       \"custom_positive_weights\": custom_positive_weights,\n",
        "       \"custom_glorot_initializer\": custom_glorot_initializer,\n",
        "       \"custom_softplus\": custom_softplus,\n",
        "    })"
      ],
      "execution_count": 49,
      "outputs": []
    },
    {
      "cell_type": "code",
      "metadata": {
        "id": "6KEybNgPKFPB"
      },
      "source": [
        "#파라미터를 모델에 저장하기 위한 클래스 상속\n",
        "class CustomL1Regularizer(keras.regularizers.Regularizer):\n",
        "    def __init__(self, factor):\n",
        "        self.factor = factor\n",
        "    def __call__(self, weights):\n",
        "        return tf.reduce_sum(tf.abs(self.factor * weights))\n",
        "    def get_config(self):\n",
        "        return {\"factor\": self.factor}\n",
        "\n",
        "\n",
        "keras.backend.clear_session()\n",
        "np.random.seed(42)\n",
        "tf.random.set_seed(42)"
      ],
      "execution_count": 53,
      "outputs": []
    },
    {
      "cell_type": "code",
      "metadata": {
        "id": "air-tcYqKg1H"
      },
      "source": [
        "model = keras.models.Sequential([\n",
        "    keras.layers.Dense(30, activation=\"selu\", kernel_initializer=\"lecun_normal\",\n",
        "                       input_shape=input_shape),\n",
        "    keras.layers.Dense(1, activation=custom_softplus,\n",
        "                       kernel_regularizer=CustomL1Regularizer(0.01),\n",
        "                       kernel_constraint=custom_positive_weights,\n",
        "                       kernel_initializer=custom_glorot_initializer),\n",
        "])\n",
        "model.compile(loss='mse', optimizer='nadam', metrics=['mse'])"
      ],
      "execution_count": 54,
      "outputs": []
    },
    {
      "cell_type": "code",
      "metadata": {
        "colab": {
          "base_uri": "https://localhost:8080/"
        },
        "id": "jLNtNsm8KsgQ",
        "outputId": "e4c2bbd1-6158-4d82-c40a-5a8b31e50064"
      },
      "source": [
        "model.fit(X_train_scaled, y_train, epochs=2,\n",
        "          validation_data=(X_valid_scaled, y_valid))"
      ],
      "execution_count": 55,
      "outputs": [
        {
          "output_type": "stream",
          "name": "stdout",
          "text": [
            "Epoch 1/2\n",
            "363/363 [==============================] - 2s 3ms/step - loss: 1.5542 - mse: 1.5178 - val_loss: 1.4154 - val_mse: 1.3718\n",
            "Epoch 2/2\n",
            "363/363 [==============================] - 1s 2ms/step - loss: 0.5943 - mse: 0.5514 - val_loss: 1.4399 - val_mse: 1.3976\n"
          ]
        },
        {
          "output_type": "execute_result",
          "data": {
            "text/plain": [
              "<keras.callbacks.History at 0x7fec13777ad0>"
            ]
          },
          "metadata": {},
          "execution_count": 55
        }
      ]
    },
    {
      "cell_type": "code",
      "metadata": {
        "colab": {
          "base_uri": "https://localhost:8080/"
        },
        "id": "t4n6r8AMK3xq",
        "outputId": "fb54637d-452f-4d06-85c2-f07bb0e7c945"
      },
      "source": [
        "model.save(\"custom_params_saved_model.h5\")\n",
        "model = keras.models.load_model(\n",
        "    \"custom_params_saved_model.h5\",\n",
        "    custom_objects={\n",
        "       \"CustomL1Regularizer\": CustomL1Regularizer,\n",
        "       \"custom_positive_weights\": custom_positive_weights,\n",
        "       \"custom_glorot_initializer\": custom_glorot_initializer,\n",
        "       \"custom_softplus\": custom_softplus,\n",
        "    })\n",
        "print(*model.get_config()['layers'][2]['config'].items(), sep='\\n')"
      ],
      "execution_count": 76,
      "outputs": [
        {
          "output_type": "stream",
          "name": "stdout",
          "text": [
            "('name', 'dense_1')\n",
            "('trainable', True)\n",
            "('dtype', 'float32')\n",
            "('units', 1)\n",
            "('activation', 'custom_softplus')\n",
            "('use_bias', True)\n",
            "('kernel_initializer', 'custom_glorot_initializer')\n",
            "('bias_initializer', {'class_name': 'Zeros', 'config': {}})\n",
            "('kernel_regularizer', {'class_name': 'CustomL1Regularizer', 'config': {'factor': 0.01}})\n",
            "('bias_regularizer', None)\n",
            "('activity_regularizer', None)\n",
            "('kernel_constraint', 'custom_positive_weights')\n",
            "('bias_constraint', None)\n"
          ]
        }
      ]
    },
    {
      "cell_type": "markdown",
      "metadata": {
        "id": "SuGBh2C3M-Ym"
      },
      "source": [
        "# User_Define_Metrics"
      ]
    },
    {
      "cell_type": "code",
      "metadata": {
        "id": "sRcFWysgNIJZ"
      },
      "source": [
        "keras.backend.clear_session()\n",
        "np.random.seed(42)\n",
        "tf.random.set_seed(42)\n",
        "\n",
        "#사용자 정의 스트리밍 지표\n",
        "class HuberMetric(keras.metrics.Metric):\n",
        "    def __init__(self, threshold=1.0, **kwargs):\n",
        "        super().__init__(**kwargs)\n",
        "        self.threshold = threshold\n",
        "        self.huber_fn = create_huber_loss(self.threshold)\n",
        "        #변수 생성 메서드\n",
        "        self.total = self.add_weight(\"total\", initializer='zeros')\n",
        "        self.count = self.add_weight(\"count\", initializer='zeros')\n",
        "    \n",
        "    def update_state(self, y_true, y_pred, sample_weight=None):\n",
        "        metric = self.huber_fn(y_true, y_pred)\n",
        "        self.total.assign_add(tf.reduce_sum(metric))\n",
        "        self.count.assign_add(tf.cast(tf.size(y_true), tf.float32))\n",
        "    \n",
        "    def result(self):\n",
        "        return self.total / self.count\n",
        "    def get_config(self):\n",
        "        base_config = super().get_config()\n",
        "        return {**base_config, \"threshold\": self.threshold}\n",
        "    "
      ],
      "execution_count": 115,
      "outputs": []
    },
    {
      "cell_type": "code",
      "metadata": {
        "id": "H9h_H0LDSC7r"
      },
      "source": [
        "model = keras.models.Sequential([\n",
        "    keras.layers.Dense(30, activation=\"selu\", kernel_initializer=\"lecun_normal\",\n",
        "                       input_shape=input_shape),\n",
        "    keras.layers.Dense(1),\n",
        "])\n",
        "\n",
        "model.compile(loss='mse', optimizer='nadam', metrics=[HuberMetric(2.)])\n",
        "\n",
        "class MetricPrint(keras.callbacks.Callback):\n",
        "    def on_epoch_end(self, epoch, logs=None):\n",
        "        huberMetric = self.model.metrics[-1]\n",
        "        print()\n",
        "        print(\"-\"*30)\n",
        "        print(*huberMetric.variables)\n",
        "        print(huberMetric.result())\n",
        "        print(\"-\"*30)\n",
        "\n",
        "metric_cb = MetricPrint()"
      ],
      "execution_count": 119,
      "outputs": []
    },
    {
      "cell_type": "code",
      "metadata": {
        "colab": {
          "base_uri": "https://localhost:8080/"
        },
        "id": "cfaM4_e0SPBu",
        "outputId": "acc06eba-2ec5-497d-98de-9f1bb049686e"
      },
      "source": [
        "model.fit(X_train_scaled.astype(np.float32), y_train.astype(np.float32), epochs=2, callbacks=[metric_cb])"
      ],
      "execution_count": 117,
      "outputs": [
        {
          "output_type": "stream",
          "name": "stdout",
          "text": [
            "Epoch 1/2\n",
            "357/363 [============================>.] - ETA: 0s - loss: 2.1212 - huber_metric: 0.9287\n",
            "------------------------------\n",
            "<tf.Variable 'total:0' shape=() dtype=float32, numpy=10671.655> <tf.Variable 'count:0' shape=() dtype=float32, numpy=11610.0>\n",
            "tf.Tensor(0.9191779, shape=(), dtype=float32)\n",
            "------------------------------\n",
            "363/363 [==============================] - 1s 2ms/step - loss: 2.0982 - huber_metric: 0.9192\n",
            "Epoch 2/2\n",
            "359/363 [============================>.] - ETA: 0s - loss: 0.6059 - huber_metric: 0.2734\n",
            "------------------------------\n",
            "<tf.Variable 'total:0' shape=() dtype=float32, numpy=3173.1255> <tf.Variable 'count:0' shape=() dtype=float32, numpy=11610.0>\n",
            "tf.Tensor(0.27330968, shape=(), dtype=float32)\n",
            "------------------------------\n",
            "363/363 [==============================] - 1s 2ms/step - loss: 0.6052 - huber_metric: 0.2733\n"
          ]
        },
        {
          "output_type": "execute_result",
          "data": {
            "text/plain": [
              "<keras.callbacks.History at 0x7fec17814110>"
            ]
          },
          "metadata": {},
          "execution_count": 117
        }
      ]
    },
    {
      "cell_type": "markdown",
      "metadata": {
        "id": "VIitukdyU4kE"
      },
      "source": [
        "# User_Define_Layer"
      ]
    },
    {
      "cell_type": "code",
      "metadata": {
        "colab": {
          "base_uri": "https://localhost:8080/"
        },
        "id": "y_p1BS4yV3zN",
        "outputId": "cce69ee6-c536-419b-9023-7463dfbb6409"
      },
      "source": [
        "keras.backend.clear_session()\n",
        "tf.random.set_seed(42)\n",
        "np.random.seed(42)\n",
        "\n",
        "def exp(x):\n",
        "    return tf.exp(x)\n",
        "exponential_layer = keras.layers.Lambda(exp)\n",
        "print(exponential_layer([-1., 0., 1.]))\n",
        "exponential_layer = keras.layers.Lambda(lambda x: tf.exp(x))\n",
        "print(exponential_layer([-1., 0., 1.]))"
      ],
      "execution_count": 127,
      "outputs": [
        {
          "output_type": "stream",
          "name": "stdout",
          "text": [
            "tf.Tensor([0.36787945 1.         2.7182817 ], shape=(3,), dtype=float32)\n",
            "tf.Tensor([0.36787945 1.         2.7182817 ], shape=(3,), dtype=float32)\n"
          ]
        }
      ]
    },
    {
      "cell_type": "code",
      "metadata": {
        "colab": {
          "base_uri": "https://localhost:8080/",
          "height": 381
        },
        "id": "kinBwO0saEvq",
        "outputId": "18ded5fb-15c9-4923-b78b-d3f1f7a050ac"
      },
      "source": [
        "#Dense 레이어 구현해보기\n",
        "class CustomDense(keras.layers.Layer):\n",
        "    def __init__(self, units, activation=None, **kwargs):\n",
        "        super().__init__(**kwargs)\n",
        "        self.units = units\n",
        "        self.activation = keras.activations.get(activation)\n",
        "    \n",
        "    def build(self, batch_input_shape):\n",
        "        self.kernel = self.add_weight( name=\"kernel\", shape=[batch_input_shape[-1], self.units], initializer=\"glorot_normal\")\n",
        "        self.bias = self.add_weight(\n",
        "            name=\"bias\", shape=[self.units], initializer=\"zeros\")\n",
        "        super().build(batch_input_shape) # must be at the end\n",
        "\n",
        "\n",
        "    def call(self, X):\n",
        "        self.activation(X @ self.kernel + self.bias)\n",
        "    \n",
        "    def compute_output_shape(self, batch_input_shape):\n",
        "        print(batch_input_shape)\n",
        "        return tf.TensorShape(batch_input_shape.as_list()[:-1] + [self.units])\n",
        "\n",
        "    def get_config(self):\n",
        "        base_config = super().get_config()\n",
        "        #활성화 함수의 전체 설정 저장을 위한 serialize\n",
        "        return {**base_config, \"units\" : self.units, \"activation\": keras.activations.serialize(self.activation)}\n",
        "\n",
        "\n",
        "model = keras.models.Sequential([\n",
        "    CustomDense(30, activation=\"relu\", input_shape=input_shape),\n",
        "    CustomDense(1)\n",
        "])\n",
        "\n",
        "model.compile(loss=\"mse\", optimizer=\"nadam\")\n",
        "model.fit(X_train_scaled, y_train, epochs=2,\n",
        "          validation_data=(X_valid_scaled, y_valid))\n",
        "model.evaluate(X_test_scaled, y_test)"
      ],
      "execution_count": 140,
      "outputs": [
        {
          "output_type": "error",
          "ename": "TypeError",
          "evalue": "ignored",
          "traceback": [
            "\u001b[0;31m---------------------------------------------------------------------------\u001b[0m",
            "\u001b[0;31mTypeError\u001b[0m                                 Traceback (most recent call last)",
            "\u001b[0;32m<ipython-input-140-84212ae7a194>\u001b[0m in \u001b[0;36m<module>\u001b[0;34m()\u001b[0m\n\u001b[1;32m     28\u001b[0m model = keras.models.Sequential([\n\u001b[1;32m     29\u001b[0m     \u001b[0mCustomDense\u001b[0m\u001b[0;34m(\u001b[0m\u001b[0;36m30\u001b[0m\u001b[0;34m,\u001b[0m \u001b[0mactivation\u001b[0m\u001b[0;34m=\u001b[0m\u001b[0;34m\"relu\"\u001b[0m\u001b[0;34m,\u001b[0m \u001b[0minput_shape\u001b[0m\u001b[0;34m=\u001b[0m\u001b[0minput_shape\u001b[0m\u001b[0;34m)\u001b[0m\u001b[0;34m,\u001b[0m\u001b[0;34m\u001b[0m\u001b[0;34m\u001b[0m\u001b[0m\n\u001b[0;32m---> 30\u001b[0;31m     \u001b[0mCustomDense\u001b[0m\u001b[0;34m(\u001b[0m\u001b[0;36m1\u001b[0m\u001b[0;34m)\u001b[0m\u001b[0;34m\u001b[0m\u001b[0;34m\u001b[0m\u001b[0m\n\u001b[0m\u001b[1;32m     31\u001b[0m ])\n\u001b[1;32m     32\u001b[0m \u001b[0;34m\u001b[0m\u001b[0m\n",
            "\u001b[0;32m/usr/local/lib/python3.7/dist-packages/tensorflow/python/training/tracking/base.py\u001b[0m in \u001b[0;36m_method_wrapper\u001b[0;34m(self, *args, **kwargs)\u001b[0m\n\u001b[1;32m    528\u001b[0m     \u001b[0mself\u001b[0m\u001b[0;34m.\u001b[0m\u001b[0m_self_setattr_tracking\u001b[0m \u001b[0;34m=\u001b[0m \u001b[0;32mFalse\u001b[0m  \u001b[0;31m# pylint: disable=protected-access\u001b[0m\u001b[0;34m\u001b[0m\u001b[0;34m\u001b[0m\u001b[0m\n\u001b[1;32m    529\u001b[0m     \u001b[0;32mtry\u001b[0m\u001b[0;34m:\u001b[0m\u001b[0;34m\u001b[0m\u001b[0;34m\u001b[0m\u001b[0m\n\u001b[0;32m--> 530\u001b[0;31m       \u001b[0mresult\u001b[0m \u001b[0;34m=\u001b[0m \u001b[0mmethod\u001b[0m\u001b[0;34m(\u001b[0m\u001b[0mself\u001b[0m\u001b[0;34m,\u001b[0m \u001b[0;34m*\u001b[0m\u001b[0margs\u001b[0m\u001b[0;34m,\u001b[0m \u001b[0;34m**\u001b[0m\u001b[0mkwargs\u001b[0m\u001b[0;34m)\u001b[0m\u001b[0;34m\u001b[0m\u001b[0;34m\u001b[0m\u001b[0m\n\u001b[0m\u001b[1;32m    531\u001b[0m     \u001b[0;32mfinally\u001b[0m\u001b[0;34m:\u001b[0m\u001b[0;34m\u001b[0m\u001b[0;34m\u001b[0m\u001b[0m\n\u001b[1;32m    532\u001b[0m       \u001b[0mself\u001b[0m\u001b[0;34m.\u001b[0m\u001b[0m_self_setattr_tracking\u001b[0m \u001b[0;34m=\u001b[0m \u001b[0mprevious_value\u001b[0m  \u001b[0;31m# pylint: disable=protected-access\u001b[0m\u001b[0;34m\u001b[0m\u001b[0;34m\u001b[0m\u001b[0m\n",
            "\u001b[0;32m/usr/local/lib/python3.7/dist-packages/keras/utils/traceback_utils.py\u001b[0m in \u001b[0;36merror_handler\u001b[0;34m(*args, **kwargs)\u001b[0m\n\u001b[1;32m     65\u001b[0m     \u001b[0;32mexcept\u001b[0m \u001b[0mException\u001b[0m \u001b[0;32mas\u001b[0m \u001b[0me\u001b[0m\u001b[0;34m:\u001b[0m  \u001b[0;31m# pylint: disable=broad-except\u001b[0m\u001b[0;34m\u001b[0m\u001b[0;34m\u001b[0m\u001b[0m\n\u001b[1;32m     66\u001b[0m       \u001b[0mfiltered_tb\u001b[0m \u001b[0;34m=\u001b[0m \u001b[0m_process_traceback_frames\u001b[0m\u001b[0;34m(\u001b[0m\u001b[0me\u001b[0m\u001b[0;34m.\u001b[0m\u001b[0m__traceback__\u001b[0m\u001b[0;34m)\u001b[0m\u001b[0;34m\u001b[0m\u001b[0;34m\u001b[0m\u001b[0m\n\u001b[0;32m---> 67\u001b[0;31m       \u001b[0;32mraise\u001b[0m \u001b[0me\u001b[0m\u001b[0;34m.\u001b[0m\u001b[0mwith_traceback\u001b[0m\u001b[0;34m(\u001b[0m\u001b[0mfiltered_tb\u001b[0m\u001b[0;34m)\u001b[0m \u001b[0;32mfrom\u001b[0m \u001b[0;32mNone\u001b[0m\u001b[0;34m\u001b[0m\u001b[0;34m\u001b[0m\u001b[0m\n\u001b[0m\u001b[1;32m     68\u001b[0m     \u001b[0;32mfinally\u001b[0m\u001b[0;34m:\u001b[0m\u001b[0;34m\u001b[0m\u001b[0;34m\u001b[0m\u001b[0m\n\u001b[1;32m     69\u001b[0m       \u001b[0;32mdel\u001b[0m \u001b[0mfiltered_tb\u001b[0m\u001b[0;34m\u001b[0m\u001b[0;34m\u001b[0m\u001b[0m\n",
            "\u001b[0;32m<ipython-input-140-84212ae7a194>\u001b[0m in \u001b[0;36mbuild\u001b[0;34m(self, input_shape)\u001b[0m\n\u001b[1;32m      7\u001b[0m \u001b[0;34m\u001b[0m\u001b[0m\n\u001b[1;32m      8\u001b[0m     \u001b[0;32mdef\u001b[0m \u001b[0mbuild\u001b[0m\u001b[0;34m(\u001b[0m\u001b[0mself\u001b[0m\u001b[0;34m,\u001b[0m \u001b[0minput_shape\u001b[0m\u001b[0;34m)\u001b[0m\u001b[0;34m:\u001b[0m\u001b[0;34m\u001b[0m\u001b[0;34m\u001b[0m\u001b[0m\n\u001b[0;32m----> 9\u001b[0;31m         \u001b[0mself\u001b[0m\u001b[0;34m.\u001b[0m\u001b[0mkernel\u001b[0m \u001b[0;34m=\u001b[0m \u001b[0mself\u001b[0m\u001b[0;34m.\u001b[0m\u001b[0madd_weight\u001b[0m\u001b[0;34m(\u001b[0m \u001b[0mname\u001b[0m\u001b[0;34m=\u001b[0m\u001b[0;34m\"kernel\"\u001b[0m\u001b[0;34m,\u001b[0m \u001b[0mshape\u001b[0m\u001b[0;34m=\u001b[0m\u001b[0;34m[\u001b[0m\u001b[0minput_shape\u001b[0m\u001b[0;34m[\u001b[0m\u001b[0;34m-\u001b[0m\u001b[0;36m1\u001b[0m\u001b[0;34m]\u001b[0m\u001b[0;34m,\u001b[0m \u001b[0mself\u001b[0m\u001b[0;34m.\u001b[0m\u001b[0munits\u001b[0m\u001b[0;34m]\u001b[0m\u001b[0;34m,\u001b[0m \u001b[0minitializer\u001b[0m\u001b[0;34m=\u001b[0m\u001b[0;34m\"glorot_normal\"\u001b[0m\u001b[0;34m)\u001b[0m\u001b[0;34m\u001b[0m\u001b[0;34m\u001b[0m\u001b[0m\n\u001b[0m\u001b[1;32m     10\u001b[0m         self.bias = self.add_weight(\n\u001b[1;32m     11\u001b[0m             name=\"bias\", shape=[self.units], initializer=\"zeros\")\n",
            "\u001b[0;31mTypeError\u001b[0m: int() argument must be a string, a bytes-like object or a number, not 'NoneType'"
          ]
        }
      ]
    },
    {
      "cell_type": "code",
      "metadata": {
        "id": "0WRmAhRbW23F"
      },
      "source": [
        "#여러개의 입력과 여러개의 출력을 반환하는 사용자 정의층\n",
        "class MultiLayer(keras.layers.Layer):\n",
        "    def call(self, X):\n",
        "        X1, X2 = X\n",
        "        return [X1 + X2, X1 * X2, X1 / X2]\n",
        "    def compute_output_shape(self, batch_input_shape):\n",
        "        b1, b2 = batch_input_shape\n",
        "        return [b1, b1, b1]\n",
        "\n"
      ],
      "execution_count": null,
      "outputs": []
    }
  ]
}