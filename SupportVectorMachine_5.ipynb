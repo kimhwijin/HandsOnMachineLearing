{
  "nbformat": 4,
  "nbformat_minor": 0,
  "metadata": {
    "colab": {
      "name": "SupportVectorMachine_5.ipynb",
      "provenance": [],
      "authorship_tag": "ABX9TyO1SgXiE5+PiU8zArQf427W",
      "include_colab_link": true
    },
    "kernelspec": {
      "name": "python3",
      "display_name": "Python 3"
    },
    "language_info": {
      "name": "python"
    },
    "accelerator": "TPU"
  },
  "cells": [
    {
      "cell_type": "markdown",
      "metadata": {
        "id": "view-in-github",
        "colab_type": "text"
      },
      "source": [
        "<a href=\"https://colab.research.google.com/github/kimhwijin/HandsOnMachineLearing/blob/main/SupportVectorMachine_5.ipynb\" target=\"_parent\"><img src=\"https://colab.research.google.com/assets/colab-badge.svg\" alt=\"Open In Colab\"/></a>"
      ]
    },
    {
      "cell_type": "code",
      "metadata": {
        "colab": {
          "base_uri": "https://localhost:8080/"
        },
        "id": "G1VVVkgr0szV",
        "outputId": "927668e0-673f-42db-dda9-20ed772d7b2f"
      },
      "source": [
        "#선형 SVM iris 모델 훈련\n",
        "import numpy as np\n",
        "from sklearn import datasets\n",
        "from sklearn.pipeline import Pipeline\n",
        "from sklearn.preprocessing import StandardScaler\n",
        "from sklearn.svm import LinearSVC\n",
        "import matplotlib.pyplot as plt\n",
        "\n",
        "iris = datasets.load_iris()\n",
        "X = iris['data'][:, (2, 3)] #꽃잎 길이, 꽃잎 너비\n",
        "y = (iris['target'] == 2).astype(np.float64)\n",
        "\n",
        "svm_clf = Pipeline([\n",
        "                    ('scaler', StandardScaler()),\n",
        "                    ('linear_svc', LinearSVC(C=1, loss='hinge')),\n",
        "])\n",
        "svm_clf.fit(X, y)"
      ],
      "execution_count": 46,
      "outputs": [
        {
          "output_type": "execute_result",
          "data": {
            "text/plain": [
              "Pipeline(memory=None,\n",
              "         steps=[('scaler',\n",
              "                 StandardScaler(copy=True, with_mean=True, with_std=True)),\n",
              "                ('linear_svc',\n",
              "                 LinearSVC(C=1, class_weight=None, dual=True,\n",
              "                           fit_intercept=True, intercept_scaling=1,\n",
              "                           loss='hinge', max_iter=1000, multi_class='ovr',\n",
              "                           penalty='l2', random_state=None, tol=0.0001,\n",
              "                           verbose=0))],\n",
              "         verbose=False)"
            ]
          },
          "metadata": {},
          "execution_count": 46
        }
      ]
    },
    {
      "cell_type": "code",
      "metadata": {
        "colab": {
          "base_uri": "https://localhost:8080/"
        },
        "id": "5rMHgmkr1eMJ",
        "outputId": "2bfd79dd-7f0f-485a-c2cf-2994547d51cd"
      },
      "source": [
        "#LinearSVC 분류기는 확률을 제공하지 않는다.\n",
        "#또한 보통 SVC와는 다르게 편향을 포함해 규제한다.\n",
        "#따라서 Scaler가 반드시 필요하다.\n",
        "#훈련할때 일반적으로 확률적 경사 하강법을 적용한다.\n",
        "print(svm_clf.predict([[5.5, 1.7]]))"
      ],
      "execution_count": 2,
      "outputs": [
        {
          "output_type": "stream",
          "name": "stdout",
          "text": [
            "[1.]\n"
          ]
        }
      ]
    },
    {
      "cell_type": "code",
      "metadata": {
        "colab": {
          "base_uri": "https://localhost:8080/"
        },
        "id": "2iJdqel-1iqX",
        "outputId": "66ebcc75-d0f9-4491-c247-81e1f97227d9"
      },
      "source": [
        "#비선형 SVM\n",
        "from sklearn.datasets import make_moons\n",
        "from sklearn.preprocessing import PolynomialFeatures\n",
        "\n",
        "X, y = make_moons(n_samples=100, noise=0.15)\n",
        "polynomial_svm_clf = Pipeline([\n",
        "                               ('poly_features', PolynomialFeatures(degree=3)),\n",
        "                               ('scaler', StandardScaler()),\n",
        "                               ('svm_clf', LinearSVC(C=10, loss='hinge')),\n",
        "\n",
        "])\n",
        "\n",
        "polynomial_svm_clf.fit(X, y)"
      ],
      "execution_count": 11,
      "outputs": [
        {
          "output_type": "execute_result",
          "data": {
            "text/plain": [
              "Pipeline(memory=None,\n",
              "         steps=[('poly_features',\n",
              "                 PolynomialFeatures(degree=3, include_bias=True,\n",
              "                                    interaction_only=False, order='C')),\n",
              "                ('scaler',\n",
              "                 StandardScaler(copy=True, with_mean=True, with_std=True)),\n",
              "                ('svm_clf',\n",
              "                 LinearSVC(C=10, class_weight=None, dual=True,\n",
              "                           fit_intercept=True, intercept_scaling=1,\n",
              "                           loss='hinge', max_iter=1000, multi_class='ovr',\n",
              "                           penalty='l2', random_state=None, tol=0.0001,\n",
              "                           verbose=0))],\n",
              "         verbose=False)"
            ]
          },
          "metadata": {},
          "execution_count": 11
        }
      ]
    },
    {
      "cell_type": "code",
      "metadata": {
        "colab": {
          "base_uri": "https://localhost:8080/"
        },
        "id": "huSRhhx73sHY",
        "outputId": "eb059db0-bae0-4805-882a-f2f460c33b1a"
      },
      "source": [
        "print(polynomial_svm_clf['svm_clf'].intercept_, polynomial_svm_clf['svm_clf'].coef_)"
      ],
      "execution_count": 12,
      "outputs": [
        {
          "output_type": "stream",
          "name": "stdout",
          "text": [
            "[0.03532877] [[ 0.         -0.91239097 -1.0759761  -5.00858373 -1.11514331  0.76619039\n",
            "   6.2711562  -0.01955569  1.45081171 -2.31646154]]\n"
          ]
        }
      ]
    },
    {
      "cell_type": "code",
      "metadata": {
        "colab": {
          "base_uri": "https://localhost:8080/"
        },
        "id": "tGp8ccof4XYy",
        "outputId": "58e4ec8d-17a8-40e6-a097-c3f0fd2e785e"
      },
      "source": [
        "#다항식 특성을 추가할 때 커널 트릭kernel trick 기법\n",
        "from sklearn.svm import SVC\n",
        "#3차 다항식 커널을 사용한 SVM 분류기\n",
        "poly_kernel_svm_clf = Pipeline([\n",
        "                                ('scaler', StandardScaler()),\n",
        "                                ('svm_clf', SVC(kernel='poly', degree=3, coef0=1, C=5)),\n",
        "])\n",
        "poly_kernel_svm_clf.fit(X, y)"
      ],
      "execution_count": 14,
      "outputs": [
        {
          "output_type": "execute_result",
          "data": {
            "text/plain": [
              "Pipeline(memory=None,\n",
              "         steps=[('scaler',\n",
              "                 StandardScaler(copy=True, with_mean=True, with_std=True)),\n",
              "                ('svm_clf',\n",
              "                 SVC(C=5, break_ties=False, cache_size=200, class_weight=None,\n",
              "                     coef0=1, decision_function_shape='ovr', degree=3,\n",
              "                     gamma='scale', kernel='poly', max_iter=-1,\n",
              "                     probability=False, random_state=None, shrinking=True,\n",
              "                     tol=0.001, verbose=False))],\n",
              "         verbose=False)"
            ]
          },
          "metadata": {},
          "execution_count": 14
        }
      ]
    },
    {
      "cell_type": "code",
      "metadata": {
        "colab": {
          "base_uri": "https://localhost:8080/"
        },
        "id": "VpKIvgGA5YZu",
        "outputId": "7b03dab2-41d7-40d3-8d6e-ca664968e171"
      },
      "source": [
        "rbf_kernel_svm_clf = Pipeline([\n",
        "                               ('scaler', StandardScaler()),\n",
        "                               ('svm_clf', SVC(kernel='rbf', gamma=5, C=0.0001))\n",
        "])\n",
        "rbf_kernel_svm_clf.fit(X, y)"
      ],
      "execution_count": 49,
      "outputs": [
        {
          "output_type": "execute_result",
          "data": {
            "text/plain": [
              "Pipeline(memory=None,\n",
              "         steps=[('scaler',\n",
              "                 StandardScaler(copy=True, with_mean=True, with_std=True)),\n",
              "                ('svm_clf',\n",
              "                 SVC(C=0.0001, break_ties=False, cache_size=200,\n",
              "                     class_weight=None, coef0=0.0,\n",
              "                     decision_function_shape='ovr', degree=3, gamma=5,\n",
              "                     kernel='rbf', max_iter=-1, probability=False,\n",
              "                     random_state=None, shrinking=True, tol=0.001,\n",
              "                     verbose=False))],\n",
              "         verbose=False)"
            ]
          },
          "metadata": {},
          "execution_count": 49
        }
      ]
    },
    {
      "cell_type": "code",
      "metadata": {
        "colab": {
          "base_uri": "https://localhost:8080/"
        },
        "id": "jwQejRyf-PUL",
        "outputId": "4b860054-231d-46ed-dbc1-e17727aad3e0"
      },
      "source": [
        "#SVM regression\n",
        "from sklearn.svm import LinearSVR\n",
        "svm_reg = LinearSVR(epsilon=1.5)\n",
        "svm_reg.fit(X, y)"
      ],
      "execution_count": 50,
      "outputs": [
        {
          "output_type": "execute_result",
          "data": {
            "text/plain": [
              "LinearSVR(C=1.0, dual=True, epsilon=1.5, fit_intercept=True,\n",
              "          intercept_scaling=1.0, loss='epsilon_insensitive', max_iter=1000,\n",
              "          random_state=None, tol=0.0001, verbose=0)"
            ]
          },
          "metadata": {},
          "execution_count": 50
        }
      ]
    },
    {
      "cell_type": "code",
      "metadata": {
        "colab": {
          "base_uri": "https://localhost:8080/"
        },
        "id": "9mqJfSSIEG8q",
        "outputId": "950e1c27-419a-4a8b-eb26-208c454dd6e7"
      },
      "source": [
        "#SVM 비선형 회귀\n",
        "from sklearn.svm import SVR\n",
        "svm_poly_reg = SVR(kernel='poly', degree=2, C=100, epsilon=1.0)\n",
        "svm_poly_reg.fit(X, y)"
      ],
      "execution_count": 51,
      "outputs": [
        {
          "output_type": "execute_result",
          "data": {
            "text/plain": [
              "SVR(C=100, cache_size=200, coef0=0.0, degree=2, epsilon=1.0, gamma='scale',\n",
              "    kernel='poly', max_iter=-1, shrinking=True, tol=0.001, verbose=False)"
            ]
          },
          "metadata": {},
          "execution_count": 51
        }
      ]
    },
    {
      "cell_type": "code",
      "metadata": {
        "id": "GtAT-NUNEod3"
      },
      "source": [
        ""
      ],
      "execution_count": null,
      "outputs": []
    }
  ]
}