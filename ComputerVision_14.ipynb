{
  "nbformat": 4,
  "nbformat_minor": 0,
  "metadata": {
    "colab": {
      "name": "ComputerVision_14.ipynb",
      "provenance": [],
      "toc_visible": true,
      "authorship_tag": "ABX9TyNIx60O8vwl1i1N+8yN/ITE",
      "include_colab_link": true
    },
    "kernelspec": {
      "name": "python3",
      "display_name": "Python 3"
    },
    "language_info": {
      "name": "python"
    }
  },
  "cells": [
    {
      "cell_type": "markdown",
      "metadata": {
        "id": "view-in-github",
        "colab_type": "text"
      },
      "source": [
        "<a href=\"https://colab.research.google.com/github/kimhwijin/HandsOnMachineLearing/blob/main/ComputerVision_14.ipynb\" target=\"_parent\"><img src=\"https://colab.research.google.com/assets/colab-badge.svg\" alt=\"Open In Colab\"/></a>"
      ]
    },
    {
      "cell_type": "code",
      "metadata": {
        "id": "4Z10OFD6xI8p"
      },
      "source": [
        "import tensorflow as tf\n",
        "import numpy as np\n",
        "import matplotlib.pyplot as plt\n",
        "import tensorflow_datasets as tfds\n",
        "from tensorflow import keras\n",
        "from sklearn.datasets import load_sample_image\n",
        "\n",
        "np.random.seed(42)\n",
        "tf.random.set_seed(42)"
      ],
      "execution_count": 16,
      "outputs": []
    },
    {
      "cell_type": "markdown",
      "metadata": {
        "id": "VBge0NkG1HTY"
      },
      "source": [
        "# Convolution_Tensorflow"
      ]
    },
    {
      "cell_type": "code",
      "metadata": {
        "colab": {
          "base_uri": "https://localhost:8080/"
        },
        "id": "Ar_VDbXq0Z90",
        "outputId": "db0e2774-4233-4ee8-f46e-403337282ad2"
      },
      "source": [
        "#픽셀값을 0~1 로\n",
        "china_image = load_sample_image(\"china.jpg\") / 255.\n",
        "flower_image = load_sample_image(\"flower.jpg\") / 255.\n",
        "images = np.array([china_image, flower_image])\n",
        "batch_size, height, width, channels = images.shape\n",
        "print(images.shape)"
      ],
      "execution_count": 7,
      "outputs": [
        {
          "output_type": "stream",
          "name": "stdout",
          "text": [
            "(2, 427, 640, 3)\n"
          ]
        }
      ]
    },
    {
      "cell_type": "code",
      "metadata": {
        "colab": {
          "base_uri": "https://localhost:8080/",
          "height": 135
        },
        "id": "PAU1Y5eB1M6V",
        "outputId": "41033f31-c4b4-4300-bce6-68df088bac76"
      },
      "source": [
        "#2개의 수직, 수평 필터\n",
        "filters = np.zeros(shape=(7,7, channels, 2), dtype=np.float32)\n",
        "filters[:, 3, : ,0] = 1\n",
        "filters[3, :, :, 1] = 1\n",
        "\n",
        "#저수준 컨볼루션 뉴런 계산\n",
        "outputs = tf.nn.conv2d(images, filters, strides=1, padding='SAME')\n",
        "print(outputs.shape)\n",
        "plt.subplot(1,3,1)\n",
        "plt.imshow(outputs[0, :, :, 1], cmap=\"gray\")\n",
        "plt.subplot(1,3,2)\n",
        "plt.imshow(outputs[1, :, :, 1], cmap=\"gray\")\n",
        "plt.show()"
      ],
      "execution_count": 15,
      "outputs": [
        {
          "output_type": "stream",
          "name": "stdout",
          "text": [
            "(2, 427, 640, 2)\n"
          ]
        },
        {
          "output_type": "display_data",
          "data": {
            "image/png": "[encoded data removed]",
            "text/plain": [
              "<Figure size 432x288 with 2 Axes>"
            ]
          },
          "metadata": {
            "needs_background": "light"
          }
        }
      ]
    },
    {
      "cell_type": "code",
      "metadata": {
        "id": "J5u5aDHr2xMB"
      },
      "source": [
        "#고수준 케라스 컨볼루션 레이어\n",
        "conv = keras.layers.Conv2D(filters=32, kernel_size=3, strides=1, padding='same', activation='relu')\n"
      ],
      "execution_count": null,
      "outputs": []
    }
  ]
}