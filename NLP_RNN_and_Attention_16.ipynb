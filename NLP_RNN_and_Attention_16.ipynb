{
  "cells": [
    {
      "cell_type": "markdown",
      "metadata": {
        "id": "view-in-github",
        "colab_type": "text"
      },
      "source": [
        "<a href=\"https://colab.research.google.com/github/kimhwijin/HandsOnMachineLearing/blob/main/NLP_RNN_and_Attention_16.ipynb\" target=\"_parent\"><img src=\"https://colab.research.google.com/assets/colab-badge.svg\" alt=\"Open In Colab\"/></a>"
      ]
    },
    {
      "cell_type": "code",
      "execution_count": 1,
      "metadata": {
        "id": "tinRW98JrHMf"
      },
      "outputs": [],
      "source": [
        "import tensorflow as tf\n",
        "from tensorflow import keras \n",
        "import matplotlib.pyplot as plt\n",
        "import numpy as np\n",
        "\n",
        "\n",
        "np.random.seed(42)\n",
        "tf.random.set_seed(42)"
      ]
    },
    {
      "cell_type": "code",
      "execution_count": 2,
      "metadata": {
        "colab": {
          "base_uri": "https://localhost:8080/"
        },
        "id": "m48vYq7Br8rA",
        "outputId": "24da10e2-101b-451f-8f77-b9805791b368"
      },
      "outputs": [
        {
          "output_type": "stream",
          "name": "stdout",
          "text": [
            "Downloading data from https://raw.githubusercontent.com/karpathy/char-rnn/master/data/tinyshakespeare/input.txt\n",
            "1122304/1115394 [==============================] - 0s 0us/step\n",
            "1130496/1115394 [==============================] - 0s 0us/step\n"
          ]
        }
      ],
      "source": [
        "dataset_url = \"https://raw.githubusercontent.com/karpathy/char-rnn/master/data/tinyshakespeare/input.txt\"\n",
        "filepath = keras.utils.get_file(\"shakespeare\", dataset_url)\n",
        "with open(filepath) as f:\n",
        "    shakespeare_text = f.read()"
      ]
    },
    {
      "cell_type": "code",
      "execution_count": 3,
      "metadata": {
        "colab": {
          "base_uri": "https://localhost:8080/"
        },
        "id": "Jjs7iwDjsZ0h",
        "outputId": "90156c2f-b1b9-483e-a1a1-b64b5c2f5edf"
      },
      "outputs": [
        {
          "output_type": "stream",
          "name": "stdout",
          "text": [
            "First Citizen:\n",
            "Before we proceed any further, hear me speak.\n",
            "\n",
            "All:\n",
            "Speak, speak.\n",
            "\n",
            "First Citizen:\n",
            "You are all resolved rather to die than to famish?\n",
            "\n"
          ]
        }
      ],
      "source": [
        "print(shakespeare_text[:148])"
      ]
    },
    {
      "cell_type": "code",
      "execution_count": 4,
      "metadata": {
        "colab": {
          "base_uri": "https://localhost:8080/",
          "height": 35
        },
        "id": "ZUC09-L5sqa6",
        "outputId": "0b411e9b-30d2-4144-c6f1-f951c91ece4b"
      },
      "outputs": [
        {
          "output_type": "execute_result",
          "data": {
            "application/vnd.google.colaboratory.intrinsic+json": {
              "type": "string"
            },
            "text/plain": [
              "\"\\n !$&',-.3:;?abcdefghijklmnopqrstuvwxyz\""
            ]
          },
          "metadata": {},
          "execution_count": 4
        }
      ],
      "source": [
        "\"\".join(sorted((set(shakespeare_text.lower()))))"
      ]
    },
    {
      "cell_type": "markdown",
      "metadata": {
        "id": "JEnEbJTVe2G2"
      },
      "source": [
        "# Tokenizer"
      ]
    },
    {
      "cell_type": "code",
      "execution_count": 5,
      "metadata": {
        "id": "X3nTL63yuwIz"
      },
      "outputs": [],
      "source": [
        "tokenizer = keras.preprocessing.text.Tokenizer(char_level=True)\n",
        "tokenizer.fit_on_texts(shakespeare_text)"
      ]
    },
    {
      "cell_type": "code",
      "execution_count": 6,
      "metadata": {
        "colab": {
          "base_uri": "https://localhost:8080/"
        },
        "id": "5Ukl_rAiu2vh",
        "outputId": "035ed42e-5a9d-4001-c133-2fe68144088d"
      },
      "outputs": [
        {
          "output_type": "stream",
          "name": "stdout",
          "text": [
            "{' ': 1, 'e': 2, 't': 3, 'o': 4, 'a': 5, 'i': 6, 'h': 7, 's': 8, 'r': 9, 'n': 10, '\\n': 11, 'l': 12, 'd': 13, 'u': 14, 'm': 15, 'y': 16, 'w': 17, ',': 18, 'c': 19, 'f': 20, 'g': 21, 'b': 22, 'p': 23, ':': 24, 'k': 25, 'v': 26, '.': 27, \"'\": 28, ';': 29, '?': 30, '!': 31, '-': 32, 'j': 33, 'q': 34, 'x': 35, 'z': 36, '3': 37, '&': 38, '$': 39}\n",
            "[[8, 7, 5, 25, 2, 8, 23, 2, 5, 9, 2, 2]]\n",
            "['s h a k e s p e a r e']\n"
          ]
        }
      ],
      "source": [
        "print(tokenizer.word_index)\n",
        "print(tokenizer.texts_to_sequences([\"Shakespeare@e\"]))\n",
        "print(tokenizer.sequences_to_texts([[8, 7, 5, 25, 2, 8, 23, 2, 5, 9, 2]]))"
      ]
    },
    {
      "cell_type": "code",
      "execution_count": 7,
      "metadata": {
        "colab": {
          "base_uri": "https://localhost:8080/"
        },
        "id": "oo1IwAQwwpI7",
        "outputId": "2f178ed0-671a-4115-fbf6-7f9b8ce5629c"
      },
      "outputs": [
        {
          "output_type": "stream",
          "name": "stdout",
          "text": [
            "39\n",
            "1115394\n",
            "1115394\n"
          ]
        }
      ],
      "source": [
        "max_id = len(tokenizer.word_index)\n",
        "print(max_id)\n",
        "dataset_size = tokenizer.document_count\n",
        "print(dataset_size)\n",
        "print(sum(tokenizer.word_counts.values()))"
      ]
    },
    {
      "cell_type": "markdown",
      "metadata": {
        "id": "bJn694OsexA7"
      },
      "source": [
        "# Dataset"
      ]
    },
    {
      "cell_type": "code",
      "execution_count": 8,
      "metadata": {
        "id": "L6Gc4yqkxkXl"
      },
      "outputs": [],
      "source": [
        "#index가 1 부터시작해서 -1 을 해줘서 0 부터로 조정함\n",
        "[encoded] = np.array(tokenizer.texts_to_sequences([shakespeare_text])) - 1\n",
        "train_size = dataset_size * 90 // 100\n",
        "dataset = tf.data.Dataset.from_tensor_slices(encoded[:train_size])"
      ]
    },
    {
      "cell_type": "code",
      "execution_count": 9,
      "metadata": {
        "id": "buNGc3WYyCsz"
      },
      "outputs": [],
      "source": [
        "#수백만개의 1D 차원 시퀀스 데이터를 window() 메서드로 작은 많은 텍스트로 변환한다.\n",
        "n_steps = 100\n",
        "window_length = n_steps + 1 # target = 다음 1 글자 input\n",
        "#shift = 1 이면, 데이터셋을 꽉차게 사용한다. 0~100 , 1~101 , ...\n",
        "#window는 데이터셋을 만들어서, 리스트의 리스트 같이, 중첩 데이터셋을 만듬\n",
        "dataset = dataset.window(window_length, shift=1, drop_remainder=True)"
      ]
    },
    {
      "cell_type": "code",
      "execution_count": 10,
      "metadata": {
        "colab": {
          "base_uri": "https://localhost:8080/"
        },
        "id": "o4LtD8Q-a8al",
        "outputId": "b3452036-1d29-49a8-c631-7edce531a233"
      },
      "outputs": [
        {
          "output_type": "stream",
          "name": "stdout",
          "text": [
            "101 <_VariantDataset shapes: (), types: tf.int64>\n"
          ]
        }
      ],
      "source": [
        "for a in dataset.take(1):\n",
        "    #데이터셋\n",
        "    print(len(a), a)"
      ]
    },
    {
      "cell_type": "code",
      "execution_count": 11,
      "metadata": {
        "colab": {
          "base_uri": "https://localhost:8080/"
        },
        "id": "OscR6hSSboGl",
        "outputId": "7e32bd3b-0fb0-48f8-b1e5-8649d3c076b5"
      },
      "outputs": [
        {
          "output_type": "stream",
          "name": "stdout",
          "text": [
            "101 tf.Tensor(\n",
            "[19  5  8  7  2  0 18  5  2  5 35  1  9 23 10 21  1 19  3  8  1  0 16  1\n",
            "  0 22  8  3 18  1  1 12  0  4  9 15  0 19 13  8  2  6  1  8 17  0  6  1\n",
            "  4  8  0 14  1  0  7 22  1  4 24 26 10 10  4 11 11 23 10  7 22  1  4 24\n",
            " 17  0  7 22  1  4 24 26 10 10 19  5  8  7  2  0 18  5  2  5 35  1  9 23\n",
            " 10 15  3 13  0], shape=(101,), dtype=int64)\n"
          ]
        }
      ],
      "source": [
        "#중첩 데이터셋을 덴서를 포함한 데이터셋으로 변경함.\n",
        "dataset = dataset.flat_map(lambda window : window.batch(window_length))\n",
        "for a in dataset.take(1):\n",
        "    print(len(a), a)"
      ]
    },
    {
      "cell_type": "code",
      "execution_count": 12,
      "metadata": {
        "id": "nlyowzQldW0B"
      },
      "outputs": [],
      "source": [
        "batch_size = 32\n",
        "dataset = dataset.shuffle(10000).batch(batch_size)\n",
        "#이전 100개의 글자와 타깃값 1글자를 분리함\n",
        "dataset = dataset.map(lambda windows: (windows[:, :-1], windows[:, 1:]))"
      ]
    },
    {
      "cell_type": "code",
      "execution_count": 13,
      "metadata": {
        "id": "DNPjtn9nd8yU"
      },
      "outputs": [],
      "source": [
        "#각 글자를 one hot 벡터로 치환한다.\n",
        "#원래는 글자수가 많으면 임베딩을 사용함\n",
        "dataset = dataset.map(lambda X_batch, Y_batch: (tf.one_hot(X_batch, depth=max_id), Y_batch))\n",
        "dataset = dataset.prefetch(1)"
      ]
    },
    {
      "cell_type": "code",
      "execution_count": 14,
      "metadata": {
        "colab": {
          "base_uri": "https://localhost:8080/"
        },
        "id": "BTnhhvmzf7Mk",
        "outputId": "4a8941fe-d814-4d55-c01f-998a15a87408"
      },
      "outputs": [
        {
          "output_type": "stream",
          "name": "stdout",
          "text": [
            "tf.Tensor(\n",
            "[[0. 0. 0. ... 0. 0. 0.]\n",
            " [0. 0. 0. ... 0. 0. 0.]\n",
            " [0. 0. 0. ... 0. 0. 0.]\n",
            " ...\n",
            " [0. 1. 0. ... 0. 0. 0.]\n",
            " [1. 0. 0. ... 0. 0. 0.]\n",
            " [0. 0. 0. ... 0. 0. 0.]], shape=(100, 39), dtype=float32)\n",
            "tf.Tensor(\n",
            "[ 5  7  0  7  4 15  7  0  2  6  1  0 21  1 11 11 15 17  0 14  4  8 24  0\n",
            " 14  1 17 31 31 10 10 19  5  8  7  2  0 18  5  2  5 35  1  9 23 10  4 15\n",
            " 17  0  7  5  8 28  0 16  1 11 11 17  0 16  1 11 11 26 10 10 14  1  9  1\n",
            "  9  5 13  7 23 10 27  2  6  3 13 20  6  0  4 11 11  0  4  2  0  3  9 18\n",
            "  1  0 18  4], shape=(100,), dtype=int64)\n"
          ]
        }
      ],
      "source": [
        "for x, y in dataset.take(1):\n",
        "    print(x[0])\n",
        "    print(y[0])\n"
      ]
    },
    {
      "cell_type": "markdown",
      "metadata": {
        "id": "rU1E5liXe5uM"
      },
      "source": [
        "# Model"
      ]
    },
    {
      "cell_type": "code",
      "execution_count": 15,
      "metadata": {
        "id": "pDvS51Gaeudb"
      },
      "outputs": [],
      "source": [
        "model = keras.models.Sequential([\n",
        "    keras.layers.GRU(128, return_sequences=True, input_shape=[None, max_id],\n",
        "                     dropout=0.2),\n",
        "    keras.layers.GRU(128, return_sequences=True,\n",
        "                     dropout=0.2),\n",
        "    keras.layers.TimeDistributed(keras.layers.Dense(max_id,\n",
        "                                                    activation=\"softmax\"))\n",
        "])\n",
        "model.compile(loss=\"sparse_categorical_crossentropy\", optimizer=\"adam\")"
      ]
    },
    {
      "cell_type": "code",
      "source": [
        "import os\n",
        "model_path = '/content/drive/MyDrive/Model/shakespeare/'\n",
        "model_name = 'shakespeare'\n",
        "model_path = model_path + model_name\n",
        "\n",
        "\n",
        "if not os.path.exists(model_path):\n",
        "    history = model.fit(dataset, epochs=10)\n",
        "    model.save(model_path)\n",
        "    print('-'*20)\n",
        "else:\n",
        "    model = tf.keras.models.load_model(model_path)"
      ],
      "metadata": {
        "id": "Gph1a03tA47U"
      },
      "execution_count": 16,
      "outputs": []
    },
    {
      "cell_type": "markdown",
      "source": [
        "#TextGenerate"
      ],
      "metadata": {
        "id": "QfasCIMp31xk"
      }
    },
    {
      "cell_type": "code",
      "source": [
        "def preprocess(texts):\n",
        "    X = np.array(tokenizer.texts_to_sequences(texts)) - 1\n",
        "    return tf.one_hot(X, max_id)\n",
        "\n",
        "X_new = preprocess([\"who are yo\"])\n",
        "Y_pred = np.argmax(model(X_new), axis=-1)\n",
        "print(\"who are yo\" + tokenizer.sequences_to_texts(Y_pred + 1)[0][-1]) # 1st sentence, last char\n"
      ],
      "metadata": {
        "colab": {
          "base_uri": "https://localhost:8080/"
        },
        "id": "QJRFwUJZ25CD",
        "outputId": "d980b041-c8bb-4133-965b-bd9f676d8018"
      },
      "execution_count": 17,
      "outputs": [
        {
          "output_type": "stream",
          "name": "stdout",
          "text": [
            "who are you\n"
          ]
        }
      ]
    },
    {
      "cell_type": "code",
      "source": [
        "def next_char(text, temperature=1):\n",
        "    #to one_hot arrays\n",
        "    X_new = preprocess([text])\n",
        "    y_proba = model(X_new)[0, -1:, :]\n",
        "    rescaled_logits = tf.math.log(y_proba) / temperature\n",
        "    char_id = tf.random.categorical(rescaled_logits, num_samples=1) + 1\n",
        "    return tokenizer.sequences_to_texts(char_id.numpy())[0]\n",
        "\n",
        "def complete_text(text, n_chars=50, temperature=1):\n",
        "    for _ in range(n_chars):\n",
        "        text += next_char(text, temperature)\n",
        "    return text"
      ],
      "metadata": {
        "id": "SwwkH3l6_I1A"
      },
      "execution_count": 18,
      "outputs": []
    },
    {
      "cell_type": "code",
      "source": [
        "print(complete_text(\"i\", n_chars=100, temperature=0.2))\n",
        "print('---')\n",
        "print(complete_text(\"i\", n_chars=100, temperature=1))"
      ],
      "metadata": {
        "colab": {
          "base_uri": "https://localhost:8080/"
        },
        "id": "yyuzjnSaAkMx",
        "outputId": "f2120273-279d-4fbd-a54c-49b5ddbb3f4e"
      },
      "execution_count": 19,
      "outputs": [
        {
          "output_type": "stream",
          "name": "stdout",
          "text": [
            "in the rest was so beheld and hearting and my father raiment for the rest words signior gremio.\n",
            "\n",
            "grum\n",
            "---\n",
            "ice?\n",
            "\n",
            "petruchio:\n",
            "bepake her burst in all in happy eneep,\n",
            "that s sasder it, sir, yet myself as's solen\n"
          ]
        }
      ]
    },
    {
      "cell_type": "markdown",
      "source": [
        "#StatefulRNN"
      ],
      "metadata": {
        "id": "EuKFVicR5KTG"
      }
    },
    {
      "cell_type": "code",
      "source": [
        "batch_size = 1\n",
        "dataset = tf.data.Dataset.from_tensor_slices(encoded[:train_size])\n",
        "dataset = dataset.window(window_length, shift=n_steps, drop_remainder=True)\n",
        "dataset = dataset.flat_map(lambda window: window.batch(window_length))\n",
        "dataset = dataset.batch(1)\n",
        "dataset = dataset.map(lambda window: (window[:, :-1], window[:, 1:]))\n",
        "dataset = dataset.map(lambda X_batch, Y_batch: (tf.one_hot(X_batch, depth=max_id), Y_batch))\n",
        "dataset = dataset.prefetch(1)"
      ],
      "metadata": {
        "id": "nRTmhsNpxtHe"
      },
      "execution_count": 26,
      "outputs": []
    },
    {
      "cell_type": "markdown",
      "source": [
        "#StatefullRNN_Model"
      ],
      "metadata": {
        "id": "Tq4mykHI7NIg"
      }
    },
    {
      "cell_type": "code",
      "source": [
        "model = keras.models.Sequential([\n",
        "    keras.layers.GRU(128, return_sequences=True, stateful=True, dropout=0.2, batch_input_shape=[batch_size, None, max_id]),\n",
        "    keras.layers.GRU(128, return_sequences=True, stateful=True, dropout=0.2),\n",
        "    keras.layers.TimeDistributed(keras.layers.Dense(max_id, activation=\"softmax\"))\n",
        "])"
      ],
      "metadata": {
        "id": "dxPzEpiq6FO7"
      },
      "execution_count": 27,
      "outputs": []
    },
    {
      "cell_type": "markdown",
      "source": [
        "#CallBack"
      ],
      "metadata": {
        "id": "sP5fhTSk70ZQ"
      }
    },
    {
      "cell_type": "code",
      "source": [
        "class ResetStatesCallback(keras.callbacks.Callback):\n",
        "    def on_epoch_begin(self, epoch, logs):\n",
        "        self.model.reset_states()"
      ],
      "metadata": {
        "id": "4YKw-wIo74hz"
      },
      "execution_count": 28,
      "outputs": []
    },
    {
      "cell_type": "markdown",
      "source": [
        "#StatefullTrain"
      ],
      "metadata": {
        "id": "rr4jv5tW782E"
      }
    },
    {
      "cell_type": "code",
      "source": [
        "model.compile(loss=\"sparse_categorical_crossentropy\", optimizer=\"adam\")"
      ],
      "metadata": {
        "id": "43y27esG78O_"
      },
      "execution_count": null,
      "outputs": []
    },
    {
      "cell_type": "code",
      "source": [
        "import os\n",
        "model_path = '/content/drive/MyDrive/Model/shakespeare/'\n",
        "model_name = 'shakespeare_stateful'\n",
        "model_path = model_path + model_name\n",
        "\n",
        "\n",
        "if not os.path.exists(model_path):\n",
        "    os.mkdir(model_path)\n",
        "    history = model.fit(dataset, epochs=50, callbacks=[ResetStatesCallback()])\n",
        "    model.save(model_path)\n",
        "    print('-'*20)\n",
        "else:\n",
        "    model = tf.keras.models.load_model(model_path)"
      ],
      "metadata": {
        "colab": {
          "base_uri": "https://localhost:8080/"
        },
        "id": "Qp2LUqO68VUn",
        "outputId": "b9e357ee-aa61-46cd-acb3-1c01e18bbf33"
      },
      "execution_count": null,
      "outputs": [
        {
          "output_type": "stream",
          "name": "stdout",
          "text": [
            "Epoch 1/50\n",
            "   2707/Unknown - 32s 12ms/step - loss: 1.9906"
          ]
        }
      ]
    }
  ],
  "metadata": {
    "accelerator": "GPU",
    "colab": {
      "collapsed_sections": [],
      "name": "NLP_RNN_and_Attention_16.ipynb",
      "provenance": [],
      "mount_file_id": "131uxv4-82L7LT1ENzRSjldbyEulIJjRm",
      "authorship_tag": "ABX9TyPtxnS2SGcq+sdK2sOAyiZx",
      "include_colab_link": true
    },
    "kernelspec": {
      "display_name": "Python 3",
      "name": "python3"
    },
    "language_info": {
      "name": "python"
    }
  },
  "nbformat": 4,
  "nbformat_minor": 0
}