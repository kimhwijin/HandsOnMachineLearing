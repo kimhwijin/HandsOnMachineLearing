{
  "nbformat": 4,
  "nbformat_minor": 0,
  "metadata": {
    "colab": {
      "name": "NLP_RNN_and_Attention_16.ipynb",
      "provenance": [],
      "collapsed_sections": [],
      "toc_visible": true,
      "authorship_tag": "ABX9TyNZCuxP5vuqMDXgtfGf9UpA",
      "include_colab_link": true
    },
    "kernelspec": {
      "name": "python3",
      "display_name": "Python 3"
    },
    "language_info": {
      "name": "python"
    },
    "accelerator": "GPU"
  },
  "cells": [
    {
      "cell_type": "markdown",
      "metadata": {
        "id": "view-in-github",
        "colab_type": "text"
      },
      "source": [
        "<a href=\"https://colab.research.google.com/github/kimhwijin/HandsOnMachineLearing/blob/main/NLP_RNN_and_Attention_16.ipynb\" target=\"_parent\"><img src=\"https://colab.research.google.com/assets/colab-badge.svg\" alt=\"Open In Colab\"/></a>"
      ]
    },
    {
      "cell_type": "code",
      "execution_count": null,
      "metadata": {
        "id": "tinRW98JrHMf"
      },
      "outputs": [],
      "source": [
        "import tensorflow as tf\n",
        "from tensorflow import keras \n",
        "import matplotlib.pyplot as plt\n",
        "import numpy as np\n",
        "\n",
        "np.random.seed(42)\n",
        "tf.random.set_seed(42)"
      ]
    },
    {
      "cell_type": "code",
      "source": [
        "dataset_url = \"https://raw.githubusercontent.com/karpathy/char-rnn/master/data/tinyshakespeare/input.txt\"\n",
        "filepath = keras.utils.get_file(\"shakespeare\", dataset_url)\n",
        "with open(filepath) as f:\n",
        "    shakespeare_text = f.read()"
      ],
      "metadata": {
        "id": "m48vYq7Br8rA"
      },
      "execution_count": null,
      "outputs": []
    },
    {
      "cell_type": "code",
      "source": [
        "print(shakespeare_text[:148])"
      ],
      "metadata": {
        "id": "Jjs7iwDjsZ0h"
      },
      "execution_count": null,
      "outputs": []
    },
    {
      "cell_type": "code",
      "source": [
        "\"\".join(sorted((set(shakespeare_text.lower()))))"
      ],
      "metadata": {
        "id": "ZUC09-L5sqa6"
      },
      "execution_count": null,
      "outputs": []
    },
    {
      "cell_type": "markdown",
      "source": [
        "# Tokenizer"
      ],
      "metadata": {
        "id": "JEnEbJTVe2G2"
      }
    },
    {
      "cell_type": "code",
      "source": [
        "tokenizer = keras.preprocessing.text.Tokenizer(char_level=True)\n",
        "tokenizer.fit_on_texts(shakespeare_text)"
      ],
      "metadata": {
        "id": "X3nTL63yuwIz"
      },
      "execution_count": null,
      "outputs": []
    },
    {
      "cell_type": "code",
      "source": [
        "print(tokenizer.word_index)\n",
        "print(tokenizer.texts_to_sequences([\"Shakespeare@e\"]))\n",
        "print(tokenizer.sequences_to_texts([[8, 7, 5, 25, 2, 8, 23, 2, 5, 9, 2]]))"
      ],
      "metadata": {
        "id": "5Ukl_rAiu2vh"
      },
      "execution_count": null,
      "outputs": []
    },
    {
      "cell_type": "code",
      "source": [
        "max_id = len(tokenizer.word_index)\n",
        "print(max_id)\n",
        "dataset_size = tokenizer.document_count\n",
        "print(dataset_size)\n",
        "print(sum(tokenizer.word_counts.values()))"
      ],
      "metadata": {
        "id": "oo1IwAQwwpI7"
      },
      "execution_count": null,
      "outputs": []
    },
    {
      "cell_type": "markdown",
      "source": [
        "# Dataset"
      ],
      "metadata": {
        "id": "bJn694OsexA7"
      }
    },
    {
      "cell_type": "code",
      "source": [
        "#index가 1 부터시작해서 -1 을 해줘서 0 부터로 조정함\n",
        "[encoded] = np.array(tokenizer.texts_to_sequences([shakespeare_text])) - 1\n",
        "train_size = dataset_size * 90 // 100\n",
        "dataset = tf.data.Dataset.from_tensor_slices(encoded[:train_size])"
      ],
      "metadata": {
        "id": "L6Gc4yqkxkXl"
      },
      "execution_count": null,
      "outputs": []
    },
    {
      "cell_type": "code",
      "source": [
        "#수백만개의 1D 차원 시퀀스 데이터를 window() 메서드로 작은 많은 텍스트로 변환한다.\n",
        "n_steps = 100\n",
        "window_length = n_steps + 1 # target = 다음 1 글자 input\n",
        "#shift = 1 이면, 데이터셋을 꽉차게 사용한다. 0~100 , 1~101 , ...\n",
        "#window는 데이터셋을 만들어서, 리스트의 리스트 같이, 중첩 데이터셋을 만듬\n",
        "dataset = dataset.window(window_length, shift=1, drop_remainder=True)"
      ],
      "metadata": {
        "id": "buNGc3WYyCsz"
      },
      "execution_count": null,
      "outputs": []
    },
    {
      "cell_type": "code",
      "source": [
        "for a in dataset.take(1):\n",
        "    #데이터셋\n",
        "    print(len(a), a)"
      ],
      "metadata": {
        "id": "o4LtD8Q-a8al"
      },
      "execution_count": null,
      "outputs": []
    },
    {
      "cell_type": "code",
      "source": [
        "#중첩 데이터셋을 덴서를 포함한 데이터셋으로 변경함.\n",
        "dataset = dataset.flat_map(lambda window : window.batch(window_length))\n",
        "for a in dataset.take(1):\n",
        "    print(len(a), a)"
      ],
      "metadata": {
        "id": "OscR6hSSboGl"
      },
      "execution_count": null,
      "outputs": []
    },
    {
      "cell_type": "code",
      "source": [
        "batch_size = 32\n",
        "dataset = dataset.shuffle(10000).batch(batch_size)\n",
        "#이전 100개의 글자와 타깃값 1글자를 분리함\n",
        "dataset = dataset.map(lambda windows: (windows[:, :-1], windows[:, 1:]))"
      ],
      "metadata": {
        "id": "nlyowzQldW0B"
      },
      "execution_count": null,
      "outputs": []
    },
    {
      "cell_type": "code",
      "source": [
        "#각 글자를 one hot 벡터로 치환한다.\n",
        "#원래는 글자수가 많으면 임베딩을 사용함\n",
        "dataset = dataset.map(lambda X_batch, Y_batch: (tf.one_hot(X_batch, depth=max_id), Y_batch))\n",
        "dataset = dataset.prefetch(1)"
      ],
      "metadata": {
        "id": "DNPjtn9nd8yU"
      },
      "execution_count": null,
      "outputs": []
    },
    {
      "cell_type": "code",
      "source": [
        "for x, y in dataset.take(1):\n",
        "    print(x[0])\n",
        "    print(y[0])\n"
      ],
      "metadata": {
        "id": "BTnhhvmzf7Mk"
      },
      "execution_count": null,
      "outputs": []
    },
    {
      "cell_type": "markdown",
      "source": [
        "# Model"
      ],
      "metadata": {
        "id": "rU1E5liXe5uM"
      }
    },
    {
      "cell_type": "code",
      "source": [
        "model = keras.models.Sequential([\n",
        "    keras.layers.GRU(128, return_sequences=True, input_shape=[None, max_id],\n",
        "                     dropout=0.2),\n",
        "    keras.layers.GRU(128, return_sequences=True,\n",
        "                     dropout=0.2),\n",
        "    keras.layers.TimeDistributed(keras.layers.Dense(max_id,\n",
        "                                                    activation=\"softmax\"))\n",
        "])\n",
        "model.compile(loss=\"sparse_categorical_crossentropy\", optimizer=\"adam\")\n",
        "history = model.fit(dataset, epochs=10)"
      ],
      "metadata": {
        "colab": {
          "base_uri": "https://localhost:8080/"
        },
        "id": "pDvS51Gaeudb",
        "outputId": "42c5c519-6863-41d4-9e32-60802a118463"
      },
      "execution_count": null,
      "outputs": [
        {
          "output_type": "stream",
          "name": "stdout",
          "text": [
            "Epoch 1/10\n",
            "31368/31368 [==============================] - 489s 15ms/step - loss: 1.6206\n",
            "Epoch 2/10\n",
            "31368/31368 [==============================] - 468s 15ms/step - loss: 1.5369\n",
            "Epoch 3/10\n",
            "31368/31368 [==============================] - 484s 15ms/step - loss: 1.5171\n",
            "Epoch 4/10\n",
            "31368/31368 [==============================] - 492s 16ms/step - loss: 1.5054\n",
            "Epoch 5/10\n",
            "31368/31368 [==============================] - 490s 16ms/step - loss: 1.4978\n",
            "Epoch 6/10\n",
            "31368/31368 [==============================] - 489s 16ms/step - loss: 1.4927\n",
            "Epoch 7/10\n",
            "31368/31368 [==============================] - 483s 15ms/step - loss: 1.4895\n",
            "Epoch 8/10\n",
            "31368/31368 [==============================] - 462s 15ms/step - loss: 1.4868\n",
            "Epoch 9/10\n",
            " 6776/31368 [=====>........................] - ETA: 6:01 - loss: 1.4824"
          ]
        }
      ]
    }
  ]
}