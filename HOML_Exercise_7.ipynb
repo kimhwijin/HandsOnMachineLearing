{
  "nbformat": 4,
  "nbformat_minor": 0,
  "metadata": {
    "colab": {
      "name": "HOML_Exercise_7.ipynb",
      "provenance": [],
      "collapsed_sections": [],
      "authorship_tag": "ABX9TyOfyyt8SztUKuEs6o2l6BPK",
      "include_colab_link": true
    },
    "kernelspec": {
      "name": "python3",
      "display_name": "Python 3"
    },
    "language_info": {
      "name": "python"
    }
  },
  "cells": [
    {
      "cell_type": "markdown",
      "metadata": {
        "id": "view-in-github",
        "colab_type": "text"
      },
      "source": [
        "<a href=\"https://colab.research.google.com/github/kimhwijin/HandsOnMachineLearing/blob/main/HOML_Exercise_7.ipynb\" target=\"_parent\"><img src=\"https://colab.research.google.com/assets/colab-badge.svg\" alt=\"Open In Colab\"/></a>"
      ]
    },
    {
      "cell_type": "code",
      "metadata": {
        "id": "wqdPFbqEJ31-"
      },
      "source": [
        "import numpy as np\n",
        "import matplotlib.pyplot as plt\n",
        "\n",
        "from sklearn.datasets import fetch_openml\n",
        "from sklearn.model_selection import train_test_split\n",
        "\n",
        "from sklearn.ensemble import RandomForestClassifier, ExtraTreesClassifier\n",
        "from sklearn.svm import LinearSVC\n",
        "from sklearn.neural_network import MLPClassifier\n",
        "\n",
        "from sklearn.metrics import accuracy_score\n",
        "from sklearn.ensemble import VotingClassifier"
      ],
      "execution_count": 11,
      "outputs": []
    },
    {
      "cell_type": "code",
      "metadata": {
        "colab": {
          "base_uri": "https://localhost:8080/"
        },
        "id": "mf0DM13JKJ9g",
        "outputId": "559cae17-d13b-4ee5-f737-2cad294e372b"
      },
      "source": [
        "mnist = fetch_openml('mnist_784', version=1)\n",
        "X = mnist.data\n",
        "y = mnist.target.astype(np.uint8)\n",
        "print(X.shape)\n",
        "X_train_val, X_test, y_train_val, y_test = train_test_split(X, y, test_size=10000, random_state=42)\n",
        "X_train, X_val, y_train, y_val = train_test_split(X_train_val, y_train_val, test_size=10000, random_state=42)"
      ],
      "execution_count": 4,
      "outputs": [
        {
          "output_type": "stream",
          "name": "stdout",
          "text": [
            "(70000, 784)\n"
          ]
        }
      ]
    },
    {
      "cell_type": "code",
      "metadata": {
        "colab": {
          "base_uri": "https://localhost:8080/"
        },
        "id": "ujl-O7zgKkMh",
        "outputId": "d6316f89-2f44-4965-d7e8-bdebb3b2f1a0"
      },
      "source": [
        "#8\n",
        "\n",
        "random_forest_clf = RandomForestClassifier(n_estimators=100, random_state=42)\n",
        "extra_trees_clf = ExtraTreesClassifier(n_estimators=100, random_state=42)\n",
        "svm_clf = LinearSVC(max_iter=100, tol=20, random_state=42)\n",
        "mlp_clf = MLPClassifier(random_state=42)\n",
        "\n",
        "estimators = [random_forest_clf, extra_trees_clf, svm_clf, mlp_clf]\n",
        "for estimator in estimators:\n",
        "    print(\"Training the\", estimator)\n",
        "    estimator.fit(X_train, y_train)\n",
        "\n",
        "[estimator.score(X_val, y_val) for estimator in estimators]"
      ],
      "execution_count": 9,
      "outputs": [
        {
          "output_type": "stream",
          "name": "stdout",
          "text": [
            "Training the RandomForestClassifier(bootstrap=True, ccp_alpha=0.0, class_weight=None,\n",
            "                       criterion='gini', max_depth=None, max_features='auto',\n",
            "                       max_leaf_nodes=None, max_samples=None,\n",
            "                       min_impurity_decrease=0.0, min_impurity_split=None,\n",
            "                       min_samples_leaf=1, min_samples_split=2,\n",
            "                       min_weight_fraction_leaf=0.0, n_estimators=100,\n",
            "                       n_jobs=None, oob_score=False, random_state=42, verbose=0,\n",
            "                       warm_start=False)\n",
            "Training the ExtraTreesClassifier(bootstrap=False, ccp_alpha=0.0, class_weight=None,\n",
            "                     criterion='gini', max_depth=None, max_features='auto',\n",
            "                     max_leaf_nodes=None, max_samples=None,\n",
            "                     min_impurity_decrease=0.0, min_impurity_split=None,\n",
            "                     min_samples_leaf=1, min_samples_split=2,\n",
            "                     min_weight_fraction_leaf=0.0, n_estimators=100,\n",
            "                     n_jobs=None, oob_score=False, random_state=42, verbose=0,\n",
            "                     warm_start=False)\n",
            "Training the LinearSVC(C=1.0, class_weight=None, dual=True, fit_intercept=True,\n",
            "          intercept_scaling=1, loss='squared_hinge', max_iter=100,\n",
            "          multi_class='ovr', penalty='l2', random_state=42, tol=20, verbose=0)\n",
            "Training the MLPClassifier(activation='relu', alpha=0.0001, batch_size='auto', beta_1=0.9,\n",
            "              beta_2=0.999, early_stopping=False, epsilon=1e-08,\n",
            "              hidden_layer_sizes=(100,), learning_rate='constant',\n",
            "              learning_rate_init=0.001, max_fun=15000, max_iter=200,\n",
            "              momentum=0.9, n_iter_no_change=10, nesterovs_momentum=True,\n",
            "              power_t=0.5, random_state=42, shuffle=True, solver='adam',\n",
            "              tol=0.0001, validation_fraction=0.1, verbose=False,\n",
            "              warm_start=False)\n"
          ]
        },
        {
          "output_type": "execute_result",
          "data": {
            "text/plain": [
              "[0.9692, 0.9715, 0.8662, 0.9639]"
            ]
          },
          "metadata": {},
          "execution_count": 9
        }
      ]
    },
    {
      "cell_type": "code",
      "metadata": {
        "colab": {
          "base_uri": "https://localhost:8080/"
        },
        "id": "kjeV9LqrMBMz",
        "outputId": "2481b49f-b0af-4b21-804a-16115571b607"
      },
      "source": [
        "[accuracy_score(y_val, estimator.predict(X_val)) for estimator in estimators]"
      ],
      "execution_count": 10,
      "outputs": [
        {
          "output_type": "execute_result",
          "data": {
            "text/plain": [
              "[0.9692, 0.9715, 0.8662, 0.9639]"
            ]
          },
          "metadata": {},
          "execution_count": 10
        }
      ]
    },
    {
      "cell_type": "code",
      "metadata": {
        "colab": {
          "base_uri": "https://localhost:8080/"
        },
        "id": "NfvW6xavPGmM",
        "outputId": "8f81ea2b-cd3d-4dec-f6e6-6bb331923094"
      },
      "source": [
        "named_estimators = [\n",
        "    (\"random_forest_clf\", random_forest_clf),\n",
        "    (\"extra_trees_clf\", extra_trees_clf),\n",
        "    (\"svm_clf\", svm_clf),\n",
        "    (\"mlp_clf\", mlp_clf),\n",
        "]\n",
        "voting_clf = VotingClassifier(named_estimators)\n",
        "voting_clf.fit(X_train, y_train)\n",
        "print(voting_clf.score(X_val, y_val))\n",
        "print([estimator.score(X_val, y_val) for estimator in voting_clf.estimators_])"
      ],
      "execution_count": 21,
      "outputs": [
        {
          "output_type": "stream",
          "name": "stdout",
          "text": [
            "0.9702\n",
            "[0.9692, 0.9715, 0.8662, 0.9639]\n"
          ]
        }
      ]
    },
    {
      "cell_type": "code",
      "metadata": {
        "colab": {
          "base_uri": "https://localhost:8080/"
        },
        "id": "-eFGXd3KPx8W",
        "outputId": "af7fb71c-dd64-4a1b-f61a-ad43ca486de0"
      },
      "source": [
        "voting_clf.estimators_\n",
        "voting_clf.set_params(svm_clf=None)\n",
        "del voting_clf.estimators_[2]\n",
        "\n",
        "voting_clf.voting = 'hard'\n",
        "print(voting_clf.voting)\n",
        "print(voting_clf.score(X_val, y_val))\n",
        "\n",
        "voting_clf.voting = 'soft'\n",
        "print(voting_clf.voting)\n",
        "print(voting_clf.score(X_val, y_val))"
      ],
      "execution_count": 22,
      "outputs": [
        {
          "output_type": "stream",
          "name": "stdout",
          "text": [
            "hard\n",
            "0.9736\n",
            "soft\n",
            "0.97\n"
          ]
        }
      ]
    },
    {
      "cell_type": "code",
      "metadata": {
        "colab": {
          "base_uri": "https://localhost:8080/"
        },
        "id": "_XxSZX9mRAgC",
        "outputId": "564d9d48-dfe3-46cf-d7fb-2befed7d7ae0"
      },
      "source": [
        "voting_clf.voting = \"hard\"\n",
        "print(\"TEST ENSEMBLE : \", end='')\n",
        "print(voting_clf.score(X_test, y_test))\n",
        "\n",
        "print(\"TEST EACH : \", end='')\n",
        "print([estimator.score(X_test, y_test) for estimator in voting_clf.estimators_])"
      ],
      "execution_count": 24,
      "outputs": [
        {
          "output_type": "stream",
          "name": "stdout",
          "text": [
            "TEST ENSEMBLE : 0.9704\n",
            "TEST EACH : [0.9645, 0.9691, 0.9604]\n"
          ]
        }
      ]
    }
  ]
}