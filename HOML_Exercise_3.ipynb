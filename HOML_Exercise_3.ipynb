{
  "nbformat": 4,
  "nbformat_minor": 0,
  "metadata": {
    "accelerator": "GPU",
    "colab": {
      "name": "HOML_Exercise_3.ipynb",
      "provenance": [],
      "authorship_tag": "ABX9TyOjgMpx0PrqqK1oyGbKoxkZ",
      "include_colab_link": true
    },
    "kernelspec": {
      "display_name": "Python 3",
      "name": "python3"
    },
    "language_info": {
      "name": "python"
    }
  },
  "cells": [
    {
      "cell_type": "markdown",
      "metadata": {
        "id": "view-in-github",
        "colab_type": "text"
      },
      "source": [
        "<a href=\"https://colab.research.google.com/github/kimhwijin/HandsOnMachineLearing/blob/main/HOML_Exercise_3.ipynb\" target=\"_parent\"><img src=\"https://colab.research.google.com/assets/colab-badge.svg\" alt=\"Open In Colab\"/></a>"
      ]
    },
    {
      "cell_type": "code",
      "metadata": {
        "id": "Y-XJSUuE5BKu"
      },
      "source": [
        "#MNIST data set\n",
        "from sklearn.datasets import fetch_openml\n",
        "\n",
        "mnist = fetch_openml('mnist_784', version=1, as_frame=False)\n",
        "X, y = mnist[\"data\"], mnist[\"target\"]\n",
        "\n",
        "from sklearn.model_selection import train_test_split\n",
        "\n",
        "X_train, X_test, y_train, y_test = train_test_split(X, y, test_size=0.2, random_state=42)"
      ],
      "execution_count": null,
      "outputs": []
    },
    {
      "cell_type": "code",
      "metadata": {
        "colab": {
          "base_uri": "https://localhost:8080/"
        },
        "id": "vWHTE3fy4yXS",
        "outputId": "92546eec-5c40-490f-f0d6-e76a095f1c6d"
      },
      "source": [
        "#1\n",
        "from sklearn.model_selection import GridSearchCV\n",
        "from sklearn.neighbors import KNeighborsClassifier\n",
        "#param_grid = [{'weights': [\"uniform\", \"distance\"], 'n_neighbors': [3, 4, 5]}]\n",
        "param_grid = [{'weights': [\"distance\"], 'n_neighbors': [4]}]\n",
        "knn_clf = KNeighborsClassifier()\n",
        "grid_search = GridSearchCV(knn_clf, param_grid, cv=2, verbose=2)\n",
        "grid_search.fit(X_train, y_train)"
      ],
      "execution_count": null,
      "outputs": [
        {
          "name": "stdout",
          "output_type": "stream",
          "text": [
            "Fitting 2 folds for each of 1 candidates, totalling 2 fits\n",
            "[CV] n_neighbors=4, weights=distance .................................\n"
          ]
        },
        {
          "name": "stderr",
          "output_type": "stream",
          "text": [
            "[Parallel(n_jobs=1)]: Using backend SequentialBackend with 1 concurrent workers.\n"
          ]
        },
        {
          "name": "stdout",
          "output_type": "stream",
          "text": [
            "[CV] .................. n_neighbors=4, weights=distance, total=18.1min\n",
            "[CV] n_neighbors=4, weights=distance .................................\n"
          ]
        },
        {
          "name": "stderr",
          "output_type": "stream",
          "text": [
            "[Parallel(n_jobs=1)]: Done   1 out of   1 | elapsed: 18.1min remaining:    0.0s\n"
          ]
        },
        {
          "name": "stdout",
          "output_type": "stream",
          "text": [
            "[CV] .................. n_neighbors=4, weights=distance, total=18.1min\n"
          ]
        },
        {
          "name": "stderr",
          "output_type": "stream",
          "text": [
            "[Parallel(n_jobs=1)]: Done   2 out of   2 | elapsed: 36.1min finished\n"
          ]
        },
        {
          "data": {
            "text/plain": [
              "GridSearchCV(cv=2, error_score=nan,\n",
              "             estimator=KNeighborsClassifier(algorithm='auto', leaf_size=30,\n",
              "                                            metric='minkowski',\n",
              "                                            metric_params=None, n_jobs=None,\n",
              "                                            n_neighbors=5, p=2,\n",
              "                                            weights='uniform'),\n",
              "             iid='deprecated', n_jobs=None,\n",
              "             param_grid=[{'n_neighbors': [4], 'weights': ['distance']}],\n",
              "             pre_dispatch='2*n_jobs', refit=True, return_train_score=False,\n",
              "             scoring=None, verbose=2)"
            ]
          },
          "execution_count": 3,
          "metadata": {},
          "output_type": "execute_result"
        }
      ]
    },
    {
      "cell_type": "code",
      "metadata": {
        "colab": {
          "background_save": true,
          "base_uri": "https://localhost:8080/"
        },
        "id": "-jUv_v1m5tHP",
        "outputId": "ad86ad65-4b44-49c3-c73a-17f656e55215"
      },
      "source": [
        "from sklearn.metrics import accuracy_score\n",
        "print(grid_search.best_params_)\n",
        "print(accuracy_score(y_test, grid_search.predict(X_test)))"
      ],
      "execution_count": null,
      "outputs": [
        {
          "name": "stdout",
          "output_type": "stream",
          "text": [
            "{'n_neighbors': 4, 'weights': 'distance'}\n",
            "0.9731428571428572\n"
          ]
        }
      ]
    },
    {
      "cell_type": "code",
      "metadata": {
        "colab": {
          "background_save": true
        },
        "id": "Ph2qHs6n6vbr"
      },
      "source": [
        "#2\n",
        "import numpy as np\n",
        "from scipy.ndimage.interpolation import shift\n",
        "\n",
        "#이미지 이동\n",
        "def shift_image(image, dx=0, dy=0, shift1=False):\n",
        "    image = image.reshape((28, 28))\n",
        "    if shift1:\n",
        "        shifted_image = []\n",
        "        for dx, dy in ((1,0), (0,1), (-1,0), (0,-1)):\n",
        "            shifted_image.append(shift(image, [dy, dx], cval=0, mode='constant').reshape([-1]))\n",
        "        return shifted_image\n",
        "\n",
        "    shifted_image_down = shift(image, [dy, dx], cval=0, mode='constant')\n",
        "    return shifted_image_down.reshape([-1])\n",
        "\n",
        "#데이터 복사\n",
        "X_train_augmented = [image for image in X_train]\n",
        "y_train_augmented = [label for label in y_train]\n",
        "\n",
        "#이동 이미지 데이터 추가\n",
        "for image, label in zip(X_train, y_train):\n",
        "    for shifted_image in shift_image(image, shift1=True):\n",
        "        X_train_augmented.append(shifted_image)\n",
        "        y_train_augmented.append(label)\n",
        "\n",
        "#numpy 배열 변환\n",
        "X_train_augmented = np.array(X_train_augmented)\n",
        "y_train_augmented = np.array(y_train_augmented)\n",
        "\n",
        "#셔플\n",
        "shuffle_idx = np.random.permutation(len(X_train_augmented))\n",
        "X_train_augmented = X_train_augmented[shuffle_idx]\n",
        "y_train_augmented = y_train_augmented[shuffle_idx]"
      ],
      "execution_count": null,
      "outputs": []
    },
    {
      "cell_type": "code",
      "metadata": {
        "id": "TugrZeiwJwag"
      },
      "source": [
        "\n",
        "knn_clf = KNeighborsClassifier(**grid_search.best_params_)\n",
        "knn_clf.fit(X_train_augmented, y_train_augmented)\n",
        "print(accuracy_score(y_test, knn_clf.predict(X_test)))"
      ],
      "execution_count": null,
      "outputs": []
    }
  ]
}