{
  "nbformat": 4,
  "nbformat_minor": 0,
  "metadata": {
    "colab": {
      "name": "Train_DeepLearning_Network_11.ipynb",
      "provenance": [],
      "collapsed_sections": [],
      "toc_visible": true,
      "authorship_tag": "ABX9TyMfWGa6K0Sh0qF0ZFqLBnXm",
      "include_colab_link": true
    },
    "kernelspec": {
      "name": "python3",
      "display_name": "Python 3"
    },
    "language_info": {
      "name": "python"
    },
    "accelerator": "GPU"
  },
  "cells": [
    {
      "cell_type": "markdown",
      "metadata": {
        "id": "view-in-github",
        "colab_type": "text"
      },
      "source": [
        "<a href=\"https://colab.research.google.com/github/kimhwijin/HandsOnMachineLearing/blob/main/Train_DeepLearning_Network_11.ipynb\" target=\"_parent\"><img src=\"https://colab.research.google.com/assets/colab-badge.svg\" alt=\"Open In Colab\"/></a>"
      ]
    },
    {
      "cell_type": "code",
      "metadata": {
        "id": "S2O4SewnIVIJ"
      },
      "source": [
        "import tensorflow as tf\n",
        "from tensorflow import keras\n",
        "import numpy as np\n",
        "import matplotlib.pyplot as plt\n"
      ],
      "execution_count": null,
      "outputs": []
    },
    {
      "cell_type": "code",
      "metadata": {
        "colab": {
          "base_uri": "https://localhost:8080/",
          "height": 282
        },
        "id": "erkPCjzwIeId",
        "outputId": "f2838042-5f1d-4ed4-89d6-917ed29938a7"
      },
      "source": [
        "def logit(z):\n",
        "    return 1 / (1 + np.exp(-z))\n",
        "\n",
        "\n",
        "z = np.linspace(-5, 5, 200)\n",
        "\n",
        "plt.plot([-5, 5], [0, 0], 'k-')\n",
        "plt.plot([-5, 5], [1, 1], 'k--')\n",
        "plt.plot([0, 0], [-0.2, 1.2], 'k-')\n",
        "plt.plot([-5, 5], [-3/4, 7/4], 'g--')\n",
        "plt.plot(z, logit(z), \"b-\", linewidth=2)\n",
        "props = dict(facecolor='black', shrink=0.1)\n",
        "plt.annotate('Saturating', xytext=(3.5, 0.7), xy=(5, 1), arrowprops=props, fontsize=14, ha=\"center\")\n",
        "plt.annotate('Saturating', xytext=(-3.5, 0.3), xy=(-5, 0), arrowprops=props, fontsize=14, ha=\"center\")\n",
        "plt.annotate('Linear', xytext=(2, 0.2), xy=(0, 0.5), arrowprops=props, fontsize=14, ha=\"center\")\n",
        "plt.grid(True)\n",
        "plt.title(\"Sigmoid activation function\", fontsize=14)\n",
        "plt.axis([-5, 5, -0.2, 1.2])\n",
        "\n",
        "plt.show()"
      ],
      "execution_count": null,
      "outputs": [
        {
          "output_type": "display_data",
          "data": {
            "image/png": "[encoded data removed]",
            "text/plain": [
              "<Figure size 432x288 with 1 Axes>"
            ]
          },
          "metadata": {
            "needs_background": "light"
          }
        }
      ]
    },
    {
      "cell_type": "code",
      "metadata": {
        "colab": {
          "base_uri": "https://localhost:8080/"
        },
        "id": "b8aBUDpbIz45",
        "outputId": "7600b83b-b5c3-4c15-aac4-882db61867ae"
      },
      "source": [
        "#초기화 방법들\n",
        "keras.layers.Dense(10, activation='relu', kernel_initializer=keras.initializers.he_normal)\n",
        "he_avg_init = keras.initializers.VarianceScaling(scale=2., mode='fan_avg', distribution='uniform')\n",
        "keras.layers.Dense(10, activation='sigmoid', kernel_initializer=he_avg_init)\n",
        "\n",
        "[name for name in dir(keras.initializers) if not name.startswith(\"_\")]"
      ],
      "execution_count": null,
      "outputs": [
        {
          "output_type": "execute_result",
          "data": {
            "text/plain": [
              "['Constant',\n",
              " 'GlorotNormal',\n",
              " 'GlorotUniform',\n",
              " 'HeNormal',\n",
              " 'HeUniform',\n",
              " 'Identity',\n",
              " 'Initializer',\n",
              " 'LecunNormal',\n",
              " 'LecunUniform',\n",
              " 'Ones',\n",
              " 'Orthogonal',\n",
              " 'RandomNormal',\n",
              " 'RandomUniform',\n",
              " 'TruncatedNormal',\n",
              " 'VarianceScaling',\n",
              " 'Zeros',\n",
              " 'constant',\n",
              " 'deserialize',\n",
              " 'get',\n",
              " 'glorot_normal',\n",
              " 'glorot_uniform',\n",
              " 'he_normal',\n",
              " 'he_uniform',\n",
              " 'identity',\n",
              " 'lecun_normal',\n",
              " 'lecun_uniform',\n",
              " 'ones',\n",
              " 'orthogonal',\n",
              " 'random_normal',\n",
              " 'random_uniform',\n",
              " 'serialize',\n",
              " 'truncated_normal',\n",
              " 'variance_scaling',\n",
              " 'zeros']"
            ]
          },
          "metadata": {},
          "execution_count": 3
        }
      ]
    },
    {
      "cell_type": "code",
      "metadata": {
        "id": "izIqYlJ4V8VI"
      },
      "source": [
        "from scipy.special import erfc\n",
        "\n",
        "# alpha와 scale은 평균 0과 표준 편차 1로 자기 정규화합니다\n",
        "# (논문에 있는 식 14 참조):\n",
        "alpha_0_1 = -np.sqrt(2 / np.pi) / (erfc(1/np.sqrt(2)) * np.exp(1/2) - 1)\n",
        "scale_0_1 = (1 - erfc(1 / np.sqrt(2)) * np.sqrt(np.e)) * np.sqrt(2 * np.pi) * (2 * erfc(np.sqrt(2))*np.e**2 + np.pi*erfc(1/np.sqrt(2))**2*np.e - 2*(2+np.pi)*erfc(1/np.sqrt(2))*np.sqrt(np.e)+np.pi+2)**(-1/2)\n",
        "\n",
        "def leaky_relu(z, alpha=0.01):\n",
        "    return np.maximum(alpha*z, z)\n",
        "\n",
        "def elu(z, alpha=1):\n",
        "    return np.where(z < 0, alpha * (np.exp(z) - 1), z)\n",
        "\n",
        "def selu(z, scale=scale_0_1, alpha=alpha_0_1):\n",
        "    return scale*elu(z, alpha)\n"
      ],
      "execution_count": null,
      "outputs": []
    },
    {
      "cell_type": "code",
      "metadata": {
        "colab": {
          "base_uri": "https://localhost:8080/",
          "height": 282
        },
        "id": "LSzY7bqqWnkK",
        "outputId": "61379904-deae-48e0-f3ce-94b2ef8283fc"
      },
      "source": [
        "plt.plot(z, leaky_relu(z, 0.05), \"b-\", linewidth=2)\n",
        "plt.plot([-5, 5], [0, 0], 'k-')\n",
        "plt.plot([0, 0], [-0.5, 4.2], 'k-')\n",
        "plt.grid(True)\n",
        "props = dict(facecolor='black', shrink=0.1)\n",
        "plt.title(\"Leaky ReLU activation function\", fontsize=14)\n",
        "plt.axis([-5, 5, -0.5, 4.2])\n",
        "plt.show()"
      ],
      "execution_count": null,
      "outputs": [
        {
          "output_type": "display_data",
          "data": {
            "image/png": "[encoded data removed]",
            "text/plain": [
              "<Figure size 432x288 with 1 Axes>"
            ]
          },
          "metadata": {
            "needs_background": "light"
          }
        }
      ]
    },
    {
      "cell_type": "code",
      "metadata": {
        "colab": {
          "base_uri": "https://localhost:8080/",
          "height": 284
        },
        "id": "Q1p9DLXNWmFJ",
        "outputId": "b40ebd64-aa26-4e73-e68d-f125a91491de"
      },
      "source": [
        "plt.plot(z, elu(z), \"b-\", linewidth=2)\n",
        "plt.plot([-5, 5], [0, 0], 'k-')\n",
        "plt.plot([-5, 5], [-1, -1], 'k--')\n",
        "plt.plot([0, 0], [-2.2, 3.2], 'k-')\n",
        "plt.grid(True)\n",
        "plt.title(r\"ELU activation function ($\\alpha=1$)\", fontsize=14)\n",
        "plt.axis([-5, 5, -2.2, 3.2])\n",
        "plt.show()"
      ],
      "execution_count": null,
      "outputs": [
        {
          "output_type": "display_data",
          "data": {
            "image/png": "[encoded data removed]",
            "text/plain": [
              "<Figure size 432x288 with 1 Axes>"
            ]
          },
          "metadata": {
            "needs_background": "light"
          }
        }
      ]
    },
    {
      "cell_type": "code",
      "metadata": {
        "colab": {
          "base_uri": "https://localhost:8080/",
          "height": 282
        },
        "id": "UcJOPH2xb385",
        "outputId": "ccce4460-0f6d-4191-b7b2-9b1feb1ba91b"
      },
      "source": [
        "plt.plot(z, selu(z), \"b-\", linewidth=2)\n",
        "plt.plot([-5, 5], [0, 0], 'k-')\n",
        "plt.plot([-5, 5], [-1.758, -1.758], 'k--')\n",
        "plt.plot([0, 0], [-2.2, 3.2], 'k-')\n",
        "plt.grid(True)\n",
        "plt.title(\"SELU activation function\", fontsize=14)\n",
        "plt.axis([-5, 5, -2.2, 3.2])\n",
        "plt.show()"
      ],
      "execution_count": null,
      "outputs": [
        {
          "output_type": "display_data",
          "data": {
            "image/png": "[encoded data removed]",
            "text/plain": [
              "<Figure size 432x288 with 1 Axes>"
            ]
          },
          "metadata": {
            "needs_background": "light"
          }
        }
      ]
    },
    {
      "cell_type": "code",
      "metadata": {
        "colab": {
          "base_uri": "https://localhost:8080/"
        },
        "id": "pmSOQ_mHZyWn",
        "outputId": "ee6ef19a-dcf1-4954-b8ad-26a0a7d8d32c"
      },
      "source": [
        "\n",
        "(X_train_full, y_train_full), (X_test, y_test) = keras.datasets.fashion_mnist.load_data()\n",
        "X_train_full = X_train_full / 255.0\n",
        "X_test = X_test / 255.0\n",
        "X_valid, X_train = X_train_full[:5000], X_train_full[5000:]\n",
        "y_valid, y_train = y_train_full[:5000], y_train_full[5000:]\n",
        "print(X_train[0].shape)"
      ],
      "execution_count": null,
      "outputs": [
        {
          "output_type": "stream",
          "name": "stdout",
          "text": [
            "Downloading data from https://storage.googleapis.com/tensorflow/tf-keras-datasets/train-labels-idx1-ubyte.gz\n",
            "32768/29515 [=================================] - 0s 0us/step\n",
            "40960/29515 [=========================================] - 0s 0us/step\n",
            "Downloading data from https://storage.googleapis.com/tensorflow/tf-keras-datasets/train-images-idx3-ubyte.gz\n",
            "26427392/26421880 [==============================] - 0s 0us/step\n",
            "26435584/26421880 [==============================] - 0s 0us/step\n",
            "Downloading data from https://storage.googleapis.com/tensorflow/tf-keras-datasets/t10k-labels-idx1-ubyte.gz\n",
            "16384/5148 [===============================================================================================] - 0s 0us/step\n",
            "Downloading data from https://storage.googleapis.com/tensorflow/tf-keras-datasets/t10k-images-idx3-ubyte.gz\n",
            "4423680/4422102 [==============================] - 0s 0us/step\n",
            "4431872/4422102 [==============================] - 0s 0us/step\n",
            "(28, 28)\n"
          ]
        }
      ]
    },
    {
      "cell_type": "code",
      "metadata": {
        "id": "cPEuzZEhZ266"
      },
      "source": [
        "tf.random.set_seed(42)\n",
        "np.random.seed(42)\n",
        "\n",
        "\n",
        "#Leaky ReLU 사용\n",
        "model = keras.models.Sequential([\n",
        "    keras.layers.Flatten(input_shape=[28, 28]),\n",
        "    keras.layers.Dense(300, kernel_initializer=\"he_normal\"),\n",
        "    keras.layers.LeakyReLU(alpha=0.2),\n",
        "    keras.layers.Dense(100, kernel_initializer=\"he_normal\"),\n",
        "    keras.layers.LeakyReLU(alpha=0.2),\n",
        "    keras.layers.Dense(10, activation=\"softmax\")\n",
        "])"
      ],
      "execution_count": null,
      "outputs": []
    },
    {
      "cell_type": "code",
      "metadata": {
        "id": "PEsFzQZVaAVV"
      },
      "source": [
        "model.compile(loss=keras.losses.sparse_categorical_crossentropy,\n",
        "              optimizer=keras.optimizers.SGD(learning_rate=1e-3),\n",
        "              metrics=[\"accuracy\"])"
      ],
      "execution_count": null,
      "outputs": []
    },
    {
      "cell_type": "code",
      "metadata": {
        "colab": {
          "base_uri": "https://localhost:8080/"
        },
        "id": "GgBQEcStaayb",
        "outputId": "f132771b-2b6c-4c1d-efd3-71cac9b7482c"
      },
      "source": [
        "history = model.fit(X_train, y_train, epochs=10,\n",
        "                    validation_data=(X_valid, y_valid))"
      ],
      "execution_count": null,
      "outputs": [
        {
          "output_type": "stream",
          "name": "stdout",
          "text": [
            "Epoch 1/10\n",
            "1719/1719 [==============================] - 6s 2ms/step - loss: 1.3122 - accuracy: 0.6186 - val_loss: 0.9047 - val_accuracy: 0.7158\n",
            "Epoch 2/10\n",
            "1719/1719 [==============================] - 4s 2ms/step - loss: 0.8059 - accuracy: 0.7345 - val_loss: 0.7203 - val_accuracy: 0.7636\n",
            "Epoch 3/10\n",
            "1719/1719 [==============================] - 4s 2ms/step - loss: 0.6870 - accuracy: 0.7706 - val_loss: 0.6475 - val_accuracy: 0.7886\n",
            "Epoch 4/10\n",
            "1719/1719 [==============================] - 4s 2ms/step - loss: 0.6249 - accuracy: 0.7932 - val_loss: 0.5924 - val_accuracy: 0.8072\n",
            "Epoch 5/10\n",
            "1719/1719 [==============================] - 4s 2ms/step - loss: 0.5849 - accuracy: 0.8068 - val_loss: 0.5597 - val_accuracy: 0.8194\n",
            "Epoch 6/10\n",
            "1719/1719 [==============================] - 4s 2ms/step - loss: 0.5563 - accuracy: 0.8152 - val_loss: 0.5361 - val_accuracy: 0.8238\n",
            "Epoch 7/10\n",
            "1719/1719 [==============================] - 4s 2ms/step - loss: 0.5347 - accuracy: 0.8219 - val_loss: 0.5166 - val_accuracy: 0.8306\n",
            "Epoch 8/10\n",
            "1719/1719 [==============================] - 4s 2ms/step - loss: 0.5179 - accuracy: 0.8269 - val_loss: 0.5094 - val_accuracy: 0.8284\n",
            "Epoch 9/10\n",
            "1719/1719 [==============================] - 4s 2ms/step - loss: 0.5045 - accuracy: 0.8292 - val_loss: 0.4901 - val_accuracy: 0.8398\n",
            "Epoch 10/10\n",
            "1719/1719 [==============================] - 4s 2ms/step - loss: 0.4926 - accuracy: 0.8321 - val_loss: 0.4819 - val_accuracy: 0.8394\n"
          ]
        }
      ]
    },
    {
      "cell_type": "code",
      "metadata": {
        "id": "bbbBx3Q0eTB9"
      },
      "source": [
        "pixel_means = X_train.mean(axis=0, keepdims=True)\n",
        "pixel_stds = X_train.std(axis=0, keepdims=True)\n",
        "X_train_scaled = (X_train - pixel_means) / pixel_stds\n",
        "X_valid_scaled = (X_valid - pixel_means) / pixel_stds\n",
        "X_test_scaled = (X_test - pixel_means) / pixel_stds"
      ],
      "execution_count": null,
      "outputs": []
    },
    {
      "cell_type": "code",
      "metadata": {
        "id": "VfpdMmgxa3bB"
      },
      "source": [
        "#SELU 사용\n",
        "model = keras.models.Sequential()\n",
        "model.add(keras.layers.Flatten(input_shape=[28, 28]))\n",
        "model.add(keras.layers.Dense(300, activation=\"selu\",\n",
        "                             kernel_initializer=\"lecun_normal\"))\n",
        "for layer in range(99):\n",
        "    model.add(keras.layers.Dense(100, activation=\"selu\",\n",
        "                                 kernel_initializer=\"lecun_normal\"))\n",
        "model.add(keras.layers.Dense(10, activation=\"softmax\"))\n",
        "\n",
        "model.compile(loss=keras.losses.sparse_categorical_crossentropy,\n",
        "              optimizer=keras.optimizers.SGD(learning_rate=1e-3),\n",
        "              metrics=[\"accuracy\"])"
      ],
      "execution_count": null,
      "outputs": []
    },
    {
      "cell_type": "code",
      "metadata": {
        "colab": {
          "base_uri": "https://localhost:8080/"
        },
        "id": "H8HR4LJ8d-Ka",
        "outputId": "1d1bc729-aca9-48bc-f3ad-cfb65869cff5"
      },
      "source": [
        "history = model.fit(X_train_scaled, y_train, epochs=20,\n",
        "                    validation_data=(X_valid_scaled, y_valid))"
      ],
      "execution_count": null,
      "outputs": [
        {
          "output_type": "stream",
          "name": "stdout",
          "text": [
            "Epoch 1/20\n",
            "1719/1719 [==============================] - 19s 10ms/step - loss: 1.4098 - accuracy: 0.4563 - val_loss: 1.0157 - val_accuracy: 0.6286\n",
            "Epoch 2/20\n",
            "1719/1719 [==============================] - 16s 9ms/step - loss: 0.8472 - accuracy: 0.6847 - val_loss: 0.7561 - val_accuracy: 0.7348\n",
            "Epoch 3/20\n",
            "1719/1719 [==============================] - 16s 9ms/step - loss: 0.8056 - accuracy: 0.6983 - val_loss: 0.7390 - val_accuracy: 0.7166\n",
            "Epoch 4/20\n",
            "1719/1719 [==============================] - 16s 9ms/step - loss: 0.7290 - accuracy: 0.7176 - val_loss: 0.7459 - val_accuracy: 0.7508\n",
            "Epoch 5/20\n",
            "1719/1719 [==============================] - 16s 9ms/step - loss: 0.6148 - accuracy: 0.7710 - val_loss: 0.6452 - val_accuracy: 0.7764\n",
            "Epoch 6/20\n",
            "1719/1719 [==============================] - 16s 9ms/step - loss: 0.5751 - accuracy: 0.7898 - val_loss: 0.5625 - val_accuracy: 0.7994\n",
            "Epoch 7/20\n",
            "1719/1719 [==============================] - 16s 9ms/step - loss: 0.5323 - accuracy: 0.8058 - val_loss: 0.5094 - val_accuracy: 0.8138\n",
            "Epoch 8/20\n",
            "1719/1719 [==============================] - 16s 9ms/step - loss: 0.5205 - accuracy: 0.8114 - val_loss: 0.4959 - val_accuracy: 0.8248\n",
            "Epoch 9/20\n",
            "1719/1719 [==============================] - 16s 9ms/step - loss: 0.4844 - accuracy: 0.8241 - val_loss: 0.4602 - val_accuracy: 0.8342\n",
            "Epoch 10/20\n",
            "1719/1719 [==============================] - 16s 9ms/step - loss: 0.4669 - accuracy: 0.8313 - val_loss: 0.4805 - val_accuracy: 0.8296\n",
            "Epoch 11/20\n",
            "1719/1719 [==============================] - 16s 9ms/step - loss: 0.4442 - accuracy: 0.8418 - val_loss: 0.4447 - val_accuracy: 0.8438\n",
            "Epoch 12/20\n",
            "1719/1719 [==============================] - 16s 9ms/step - loss: 0.4237 - accuracy: 0.8504 - val_loss: 0.4133 - val_accuracy: 0.8606\n",
            "Epoch 13/20\n",
            "1719/1719 [==============================] - 16s 9ms/step - loss: 0.4079 - accuracy: 0.8563 - val_loss: 0.4227 - val_accuracy: 0.8572\n",
            "Epoch 14/20\n",
            "1719/1719 [==============================] - 16s 9ms/step - loss: 0.3929 - accuracy: 0.8620 - val_loss: 0.4299 - val_accuracy: 0.8494\n",
            "Epoch 15/20\n",
            "1719/1719 [==============================] - 16s 9ms/step - loss: 0.3854 - accuracy: 0.8645 - val_loss: 0.4092 - val_accuracy: 0.8600\n",
            "Epoch 16/20\n",
            "1719/1719 [==============================] - 17s 10ms/step - loss: 0.3815 - accuracy: 0.8671 - val_loss: 0.4419 - val_accuracy: 0.8508\n",
            "Epoch 17/20\n",
            "1719/1719 [==============================] - 16s 9ms/step - loss: 0.3725 - accuracy: 0.8691 - val_loss: 0.4025 - val_accuracy: 0.8622\n",
            "Epoch 18/20\n",
            "1719/1719 [==============================] - 16s 9ms/step - loss: 0.3578 - accuracy: 0.8735 - val_loss: 0.3930 - val_accuracy: 0.8728\n",
            "Epoch 19/20\n",
            "1719/1719 [==============================] - 16s 9ms/step - loss: 0.3486 - accuracy: 0.8765 - val_loss: 0.3995 - val_accuracy: 0.8670\n",
            "Epoch 20/20\n",
            "1719/1719 [==============================] - 16s 9ms/step - loss: 0.3385 - accuracy: 0.8798 - val_loss: 0.4118 - val_accuracy: 0.8586\n"
          ]
        }
      ]
    },
    {
      "cell_type": "code",
      "metadata": {
        "id": "rHnNa2ISd4Ch"
      },
      "source": [
        "model = keras.models.Sequential()\n",
        "model.add(keras.layers.Flatten(input_shape=[28, 28]))\n",
        "model.add(keras.layers.Dense(300, activation=\"relu\", kernel_initializer=\"he_normal\"))\n",
        "for layer in range(99):\n",
        "    model.add(keras.layers.Dense(100, activation=\"relu\", kernel_initializer=\"he_normal\"))\n",
        "model.add(keras.layers.Dense(10, activation=\"softmax\"))\n",
        "\n",
        "model.compile(loss=keras.losses.sparse_categorical_crossentropy,\n",
        "              optimizer=keras.optimizers.SGD(learning_rate=1e-3),\n",
        "              metrics=[\"accuracy\"])"
      ],
      "execution_count": null,
      "outputs": []
    },
    {
      "cell_type": "code",
      "metadata": {
        "colab": {
          "base_uri": "https://localhost:8080/"
        },
        "id": "GEHYiT01eayp",
        "outputId": "f0eb1100-269b-43f7-dfa6-492a61461d2d"
      },
      "source": [
        "history = model.fit(X_train_scaled, y_train, epochs=20,\n",
        "                    validation_data=(X_valid_scaled, y_valid))"
      ],
      "execution_count": null,
      "outputs": [
        {
          "output_type": "stream",
          "name": "stdout",
          "text": [
            "Epoch 1/20\n",
            "1719/1719 [==============================] - 19s 9ms/step - loss: 1.9807 - accuracy: 0.2162 - val_loss: 1.7354 - val_accuracy: 0.3332\n",
            "Epoch 2/20\n",
            "1719/1719 [==============================] - 16s 9ms/step - loss: 1.3946 - accuracy: 0.4027 - val_loss: 1.2286 - val_accuracy: 0.4382\n",
            "Epoch 3/20\n",
            "1719/1719 [==============================] - 16s 9ms/step - loss: 1.0685 - accuracy: 0.5509 - val_loss: 0.9101 - val_accuracy: 0.6096\n",
            "Epoch 4/20\n",
            "1719/1719 [==============================] - 16s 9ms/step - loss: 0.9544 - accuracy: 0.5985 - val_loss: 0.8065 - val_accuracy: 0.6528\n",
            "Epoch 5/20\n",
            "1719/1719 [==============================] - 16s 9ms/step - loss: 0.8682 - accuracy: 0.6345 - val_loss: 0.8774 - val_accuracy: 0.6328\n",
            "Epoch 6/20\n",
            "1719/1719 [==============================] - 16s 9ms/step - loss: 0.8094 - accuracy: 0.6607 - val_loss: 0.7068 - val_accuracy: 0.7090\n",
            "Epoch 7/20\n",
            "1719/1719 [==============================] - 16s 9ms/step - loss: 0.7804 - accuracy: 0.6741 - val_loss: 0.8724 - val_accuracy: 0.6410\n",
            "Epoch 8/20\n",
            "1719/1719 [==============================] - 16s 9ms/step - loss: 0.7330 - accuracy: 0.6931 - val_loss: 0.8107 - val_accuracy: 0.6526\n",
            "Epoch 9/20\n",
            "1719/1719 [==============================] - 16s 9ms/step - loss: 0.7863 - accuracy: 0.6933 - val_loss: 1.0305 - val_accuracy: 0.5924\n",
            "Epoch 10/20\n",
            "1719/1719 [==============================] - 16s 9ms/step - loss: 0.6912 - accuracy: 0.7501 - val_loss: 0.7083 - val_accuracy: 0.7542\n",
            "Epoch 11/20\n",
            "1719/1719 [==============================] - 15s 9ms/step - loss: 0.6482 - accuracy: 0.7681 - val_loss: 0.6294 - val_accuracy: 0.7830\n",
            "Epoch 12/20\n",
            "1719/1719 [==============================] - 16s 9ms/step - loss: 0.6426 - accuracy: 0.7746 - val_loss: 0.6089 - val_accuracy: 0.7862\n",
            "Epoch 13/20\n",
            "1719/1719 [==============================] - 16s 9ms/step - loss: 0.5881 - accuracy: 0.7925 - val_loss: 0.5849 - val_accuracy: 0.7938\n",
            "Epoch 14/20\n",
            "1719/1719 [==============================] - 16s 9ms/step - loss: 0.5538 - accuracy: 0.8003 - val_loss: 0.5695 - val_accuracy: 0.7948\n",
            "Epoch 15/20\n",
            "1719/1719 [==============================] - 16s 9ms/step - loss: 0.5623 - accuracy: 0.7974 - val_loss: 0.5477 - val_accuracy: 0.8116\n",
            "Epoch 16/20\n",
            "1719/1719 [==============================] - 16s 9ms/step - loss: 0.5142 - accuracy: 0.8174 - val_loss: 0.5533 - val_accuracy: 0.8122\n",
            "Epoch 17/20\n",
            "1719/1719 [==============================] - 16s 10ms/step - loss: 0.4966 - accuracy: 0.8273 - val_loss: 0.5255 - val_accuracy: 0.8164\n",
            "Epoch 18/20\n",
            "1719/1719 [==============================] - 16s 9ms/step - loss: 0.5159 - accuracy: 0.8261 - val_loss: 0.5436 - val_accuracy: 0.8228\n",
            "Epoch 19/20\n",
            "1719/1719 [==============================] - 16s 9ms/step - loss: 0.5288 - accuracy: 0.8209 - val_loss: 0.6975 - val_accuracy: 0.7464\n",
            "Epoch 20/20\n",
            "1719/1719 [==============================] - 16s 9ms/step - loss: 0.5044 - accuracy: 0.8297 - val_loss: 0.6050 - val_accuracy: 0.7924\n"
          ]
        }
      ]
    },
    {
      "cell_type": "code",
      "metadata": {
        "colab": {
          "base_uri": "https://localhost:8080/"
        },
        "id": "yY3F2ZsIgcwZ",
        "outputId": "3956fe5d-a80d-4db5-ecaa-95d7869a5dec"
      },
      "source": [
        "#BatchNomalization\n",
        "model = keras.models.Sequential([\n",
        "    keras.layers.Flatten(input_shape=[28, 28]),\n",
        "    keras.layers.BatchNormalization(),\n",
        "    keras.layers.Dense(300, activation=\"relu\"),\n",
        "    keras.layers.BatchNormalization(),\n",
        "    keras.layers.Dense(100, activation=\"relu\"),\n",
        "    keras.layers.BatchNormalization(),\n",
        "    keras.layers.Dense(10, activation=\"softmax\")\n",
        "])\n",
        "model.summary()\n",
        "\n",
        "model.compile(loss=keras.losses.sparse_categorical_crossentropy,\n",
        "              optimizer=keras.optimizers.SGD(learning_rate=1e-3),\n",
        "              metrics=[\"accuracy\"])\n"
      ],
      "execution_count": null,
      "outputs": [
        {
          "output_type": "stream",
          "name": "stdout",
          "text": [
            "Model: \"sequential_3\"\n",
            "_________________________________________________________________\n",
            " Layer (type)                Output Shape              Param #   \n",
            "=================================================================\n",
            " flatten_3 (Flatten)         (None, 784)               0         \n",
            "                                                                 \n",
            " batch_normalization (BatchN  (None, 784)              3136      \n",
            " ormalization)                                                   \n",
            "                                                                 \n",
            " dense_207 (Dense)           (None, 300)               235500    \n",
            "                                                                 \n",
            " batch_normalization_1 (Batc  (None, 300)              1200      \n",
            " hNormalization)                                                 \n",
            "                                                                 \n",
            " dense_208 (Dense)           (None, 100)               30100     \n",
            "                                                                 \n",
            " batch_normalization_2 (Batc  (None, 100)              400       \n",
            " hNormalization)                                                 \n",
            "                                                                 \n",
            " dense_209 (Dense)           (None, 10)                1010      \n",
            "                                                                 \n",
            "=================================================================\n",
            "Total params: 271,346\n",
            "Trainable params: 268,978\n",
            "Non-trainable params: 2,368\n",
            "_________________________________________________________________\n"
          ]
        }
      ]
    },
    {
      "cell_type": "code",
      "metadata": {
        "colab": {
          "base_uri": "https://localhost:8080/"
        },
        "id": "sY1zYqmTpi69",
        "outputId": "d6f2d141-f9e9-4b15-f9aa-179a10f5e23f"
      },
      "source": [
        "#파라미터 확인하기, 784 * 4 = 3136\n",
        "#non - trainable 1568 + 600 + 200 = 2368 -> 역전파로 훈련되지 않음... 데이터로 훈련됨\n",
        "bn1 = model.layers[1]\n",
        "[(var.name, var.trainable) for var in bn1.variables]"
      ],
      "execution_count": null,
      "outputs": [
        {
          "output_type": "execute_result",
          "data": {
            "text/plain": [
              "[('batch_normalization/gamma:0', True),\n",
              " ('batch_normalization/beta:0', True),\n",
              " ('batch_normalization/moving_mean:0', False),\n",
              " ('batch_normalization/moving_variance:0', False)]"
            ]
          },
          "metadata": {},
          "execution_count": 18
        }
      ]
    },
    {
      "cell_type": "code",
      "metadata": {
        "id": "p5Spfg5cqaVP"
      },
      "source": [
        "#배치 정규화 층에 이동 파라미터가 있으므로 편향 제거\n",
        "#활성화 함수 이전에 배치 정규화 층 구성\n",
        "model = keras.models.Sequential([\n",
        "    keras.layers.Flatten(input_shape=[28, 28]),\n",
        "    keras.layers.BatchNormalization(),\n",
        "    keras.layers.Dense(300, use_bias=False),\n",
        "    keras.layers.BatchNormalization(),\n",
        "    keras.layers.Activation(\"relu\"),\n",
        "    keras.layers.Dense(100, use_bias=False),\n",
        "    keras.layers.BatchNormalization(),\n",
        "    keras.layers.Activation(\"relu\"),\n",
        "    keras.layers.Dense(10, activation=\"softmax\")\n",
        "])\n",
        "model.compile(loss=keras.losses.sparse_categorical_crossentropy,\n",
        "              optimizer=keras.optimizers.SGD(learning_rate=1e-3),\n",
        "              metrics=[\"accuracy\"])"
      ],
      "execution_count": null,
      "outputs": []
    },
    {
      "cell_type": "code",
      "metadata": {
        "colab": {
          "base_uri": "https://localhost:8080/"
        },
        "id": "ZwPEahaxrfrm",
        "outputId": "8f4f1c6e-8853-477a-96cb-04d6e9e6cb84"
      },
      "source": [
        "history = model.fit(X_train, y_train, epochs=10,\n",
        "                    validation_data=(X_valid, y_valid))"
      ],
      "execution_count": null,
      "outputs": [
        {
          "output_type": "stream",
          "name": "stdout",
          "text": [
            "Epoch 1/10\n",
            "1719/1719 [==============================] - 7s 4ms/step - loss: 1.0346 - accuracy: 0.6741 - val_loss: 0.6706 - val_accuracy: 0.7816\n",
            "Epoch 2/10\n",
            "1719/1719 [==============================] - 6s 3ms/step - loss: 0.6728 - accuracy: 0.7816 - val_loss: 0.5536 - val_accuracy: 0.8152\n",
            "Epoch 3/10\n",
            "1719/1719 [==============================] - 6s 3ms/step - loss: 0.5920 - accuracy: 0.8039 - val_loss: 0.5007 - val_accuracy: 0.8326\n",
            "Epoch 4/10\n",
            "1719/1719 [==============================] - 6s 3ms/step - loss: 0.5416 - accuracy: 0.8180 - val_loss: 0.4667 - val_accuracy: 0.8370\n",
            "Epoch 5/10\n",
            "1719/1719 [==============================] - 6s 3ms/step - loss: 0.5098 - accuracy: 0.8255 - val_loss: 0.4441 - val_accuracy: 0.8446\n",
            "Epoch 6/10\n",
            "1719/1719 [==============================] - 6s 3ms/step - loss: 0.4882 - accuracy: 0.8319 - val_loss: 0.4266 - val_accuracy: 0.8506\n",
            "Epoch 7/10\n",
            "1719/1719 [==============================] - 6s 3ms/step - loss: 0.4714 - accuracy: 0.8385 - val_loss: 0.4124 - val_accuracy: 0.8548\n",
            "Epoch 8/10\n",
            "1719/1719 [==============================] - 6s 3ms/step - loss: 0.4565 - accuracy: 0.8419 - val_loss: 0.4027 - val_accuracy: 0.8594\n",
            "Epoch 9/10\n",
            "1719/1719 [==============================] - 6s 3ms/step - loss: 0.4442 - accuracy: 0.8469 - val_loss: 0.3929 - val_accuracy: 0.8628\n",
            "Epoch 10/10\n",
            "1719/1719 [==============================] - 6s 3ms/step - loss: 0.4314 - accuracy: 0.8513 - val_loss: 0.3856 - val_accuracy: 0.8638\n"
          ]
        }
      ]
    },
    {
      "cell_type": "code",
      "metadata": {
        "id": "V0NaOQAlrmna"
      },
      "source": [
        "model = keras.models.Sequential([\n",
        "    keras.layers.Flatten(input_shape=[28, 28]),\n",
        "    keras.layers.BatchNormalization(),\n",
        "    keras.layers.Dense(300, use_bias=False),\n",
        "    keras.layers.BatchNormalization(),\n",
        "    keras.layers.Activation(\"elu\"),\n",
        "    keras.layers.Dense(100, use_bias=False),\n",
        "    keras.layers.BatchNormalization(),\n",
        "    keras.layers.Activation(\"elu\"),\n",
        "    keras.layers.Dense(10, activation=\"softmax\")\n",
        "])\n",
        "model.compile(loss=keras.losses.sparse_categorical_crossentropy,\n",
        "              optimizer=keras.optimizers.SGD(learning_rate=1e-3),\n",
        "              metrics=[\"accuracy\"])"
      ],
      "execution_count": null,
      "outputs": []
    },
    {
      "cell_type": "code",
      "metadata": {
        "colab": {
          "base_uri": "https://localhost:8080/"
        },
        "id": "CKEIm6kFrpUe",
        "outputId": "87a40593-3aa5-4a4e-f05d-374d0d44b1e4"
      },
      "source": [
        "history = model.fit(X_train, y_train, epochs=10,\n",
        "                    validation_data=(X_valid, y_valid))"
      ],
      "execution_count": null,
      "outputs": [
        {
          "output_type": "stream",
          "name": "stdout",
          "text": [
            "Epoch 1/10\n",
            "1719/1719 [==============================] - 7s 3ms/step - loss: 0.8649 - accuracy: 0.7164 - val_loss: 0.6075 - val_accuracy: 0.8068\n",
            "Epoch 2/10\n",
            "1719/1719 [==============================] - 6s 3ms/step - loss: 0.6106 - accuracy: 0.7923 - val_loss: 0.5230 - val_accuracy: 0.8274\n",
            "Epoch 3/10\n",
            "1719/1719 [==============================] - 6s 3ms/step - loss: 0.5531 - accuracy: 0.8106 - val_loss: 0.4878 - val_accuracy: 0.8364\n",
            "Epoch 4/10\n",
            "1719/1719 [==============================] - 6s 3ms/step - loss: 0.5181 - accuracy: 0.8233 - val_loss: 0.4636 - val_accuracy: 0.8442\n",
            "Epoch 5/10\n",
            "1719/1719 [==============================] - 6s 3ms/step - loss: 0.4947 - accuracy: 0.8297 - val_loss: 0.4483 - val_accuracy: 0.8490\n",
            "Epoch 6/10\n",
            "1719/1719 [==============================] - 6s 3ms/step - loss: 0.4788 - accuracy: 0.8340 - val_loss: 0.4348 - val_accuracy: 0.8546\n",
            "Epoch 7/10\n",
            "1719/1719 [==============================] - 6s 3ms/step - loss: 0.4657 - accuracy: 0.8389 - val_loss: 0.4246 - val_accuracy: 0.8590\n",
            "Epoch 8/10\n",
            "1719/1719 [==============================] - 6s 3ms/step - loss: 0.4545 - accuracy: 0.8418 - val_loss: 0.4186 - val_accuracy: 0.8610\n",
            "Epoch 9/10\n",
            "1719/1719 [==============================] - 6s 3ms/step - loss: 0.4459 - accuracy: 0.8452 - val_loss: 0.4114 - val_accuracy: 0.8626\n",
            "Epoch 10/10\n",
            "1719/1719 [==============================] - 6s 3ms/step - loss: 0.4361 - accuracy: 0.8478 - val_loss: 0.4056 - val_accuracy: 0.8636\n"
          ]
        }
      ]
    },
    {
      "cell_type": "code",
      "metadata": {
        "id": "bTE7lm7MsjKt"
      },
      "source": [
        "#전이 학습!\n",
        "\n",
        "def split_dataset(X, y):\n",
        "    y_5_or_6 = (y == 5) | (y == 6) # sandals or shirts\n",
        "    y_A = y[~y_5_or_6]\n",
        "    y_A[y_A > 6] -= 2 # class indices 7, 8, 9 should be moved to 5, 6, 7\n",
        "    y_B = (y[y_5_or_6] == 6).astype(np.float32) # binary classification task: is it a shirt (class 6)?\n",
        "    return ((X[~y_5_or_6], y_A),\n",
        "            (X[y_5_or_6], y_B))\n",
        "\n",
        "#샌달과 셔츠를 제외한 데이터셋 , 셔츠인지 샌달인지 나누는 데이터셋\n",
        "(X_train_A, y_train_A), (X_train_B, y_train_B) = split_dataset(X_train, y_train)\n",
        "(X_valid_A, y_valid_A), (X_valid_B, y_valid_B) = split_dataset(X_valid, y_valid)\n",
        "(X_test_A, y_test_A), (X_test_B, y_test_B) = split_dataset(X_test, y_test)\n",
        "\n",
        "#적은 데이터셋\n",
        "X_train_B = X_train_B[:200]\n",
        "y_train_B = y_train_B[:200]"
      ],
      "execution_count": null,
      "outputs": []
    },
    {
      "cell_type": "code",
      "metadata": {
        "colab": {
          "base_uri": "https://localhost:8080/"
        },
        "id": "r5qX8mqC1Wu9",
        "outputId": "cbed91b4-992d-49d9-dda2-66338850391a"
      },
      "source": [
        "#샌달 셔츠 제외한 분류기\n",
        "model_A = keras.models.Sequential()\n",
        "model_A.add(keras.layers.Flatten(input_shape=[28, 28]))\n",
        "for n_hidden in (300, 100, 50, 50, 50):\n",
        "    model_A.add(keras.layers.Dense(n_hidden, activation=keras.activations.selu))\n",
        "model_A.add(keras.layers.Dense(8, activation=\"softmax\"))\n",
        "\n",
        "model_A.compile(loss=keras.losses.sparse_categorical_crossentropy, optimizer=keras.optimizers.SGD(learning_rate=1e-3), metrics=['accuracy'])\n",
        "\n",
        "history = model_A.fit(X_train_A, y_train_A, epochs=20, validation_data=(X_valid_A, y_valid_A))\n",
        "model_A.save(\"my_model_A.h5\")"
      ],
      "execution_count": null,
      "outputs": [
        {
          "output_type": "stream",
          "name": "stdout",
          "text": [
            "Epoch 1/20\n",
            "1375/1375 [==============================] - 4s 3ms/step - loss: 0.5740 - accuracy: 0.8178 - val_loss: 0.3801 - val_accuracy: 0.8652\n",
            "Epoch 2/20\n",
            "1375/1375 [==============================] - 3s 3ms/step - loss: 0.3528 - accuracy: 0.8768 - val_loss: 0.3230 - val_accuracy: 0.8879\n",
            "Epoch 3/20\n",
            "1375/1375 [==============================] - 4s 3ms/step - loss: 0.3168 - accuracy: 0.8886 - val_loss: 0.2937 - val_accuracy: 0.8971\n",
            "Epoch 4/20\n",
            "1375/1375 [==============================] - 3s 3ms/step - loss: 0.2980 - accuracy: 0.8950 - val_loss: 0.2832 - val_accuracy: 0.9028\n",
            "Epoch 5/20\n",
            "1375/1375 [==============================] - 4s 3ms/step - loss: 0.2854 - accuracy: 0.9009 - val_loss: 0.2734 - val_accuracy: 0.9076\n",
            "Epoch 6/20\n",
            "1375/1375 [==============================] - 4s 3ms/step - loss: 0.2762 - accuracy: 0.9043 - val_loss: 0.2682 - val_accuracy: 0.9098\n",
            "Epoch 7/20\n",
            "1375/1375 [==============================] - 3s 3ms/step - loss: 0.2683 - accuracy: 0.9072 - val_loss: 0.2655 - val_accuracy: 0.9113\n",
            "Epoch 8/20\n",
            "1375/1375 [==============================] - 3s 3ms/step - loss: 0.2620 - accuracy: 0.9106 - val_loss: 0.2577 - val_accuracy: 0.9165\n",
            "Epoch 9/20\n",
            "1375/1375 [==============================] - 4s 3ms/step - loss: 0.2567 - accuracy: 0.9124 - val_loss: 0.2542 - val_accuracy: 0.9173\n",
            "Epoch 10/20\n",
            "1375/1375 [==============================] - 3s 3ms/step - loss: 0.2519 - accuracy: 0.9131 - val_loss: 0.2521 - val_accuracy: 0.9170\n",
            "Epoch 11/20\n",
            "1375/1375 [==============================] - 3s 3ms/step - loss: 0.2476 - accuracy: 0.9151 - val_loss: 0.2467 - val_accuracy: 0.9188\n",
            "Epoch 12/20\n",
            "1375/1375 [==============================] - 4s 3ms/step - loss: 0.2437 - accuracy: 0.9165 - val_loss: 0.2461 - val_accuracy: 0.9193\n",
            "Epoch 13/20\n",
            "1375/1375 [==============================] - 4s 3ms/step - loss: 0.2402 - accuracy: 0.9172 - val_loss: 0.2439 - val_accuracy: 0.9173\n",
            "Epoch 14/20\n",
            "1375/1375 [==============================] - 3s 2ms/step - loss: 0.2367 - accuracy: 0.9189 - val_loss: 0.2416 - val_accuracy: 0.9200\n",
            "Epoch 15/20\n",
            "1375/1375 [==============================] - 4s 3ms/step - loss: 0.2338 - accuracy: 0.9196 - val_loss: 0.2470 - val_accuracy: 0.9155\n",
            "Epoch 16/20\n",
            "1375/1375 [==============================] - 3s 3ms/step - loss: 0.2306 - accuracy: 0.9211 - val_loss: 0.2385 - val_accuracy: 0.9238\n",
            "Epoch 17/20\n",
            "1375/1375 [==============================] - 3s 3ms/step - loss: 0.2283 - accuracy: 0.9217 - val_loss: 0.2405 - val_accuracy: 0.9223\n",
            "Epoch 18/20\n",
            "1375/1375 [==============================] - 4s 3ms/step - loss: 0.2255 - accuracy: 0.9221 - val_loss: 0.2436 - val_accuracy: 0.9160\n",
            "Epoch 19/20\n",
            "1375/1375 [==============================] - 4s 3ms/step - loss: 0.2230 - accuracy: 0.9232 - val_loss: 0.2340 - val_accuracy: 0.9213\n",
            "Epoch 20/20\n",
            "1375/1375 [==============================] - 3s 3ms/step - loss: 0.2208 - accuracy: 0.9244 - val_loss: 0.2338 - val_accuracy: 0.9215\n"
          ]
        }
      ]
    },
    {
      "cell_type": "code",
      "metadata": {
        "colab": {
          "base_uri": "https://localhost:8080/"
        },
        "id": "5rQASLe-2DTj",
        "outputId": "80f4936e-9e3b-4013-806a-6ce84849ec48"
      },
      "source": [
        "model_B = keras.models.Sequential()\n",
        "model_B.add(keras.layers.Flatten(input_shape=[28, 28]))\n",
        "for n_hidden in (300, 100, 50, 50, 50):\n",
        "    model_B.add(keras.layers.Dense(n_hidden, activation=keras.activations.selu))\n",
        "model_B.add(keras.layers.Dense(1, activation=keras.activations.sigmoid))\n",
        "\n",
        "model_B.compile(loss=keras.losses.binary_crossentropy,\n",
        "                optimizer=keras.optimizers.SGD(learning_rate=1e-3),\n",
        "                metrics=[\"accuracy\"])\n",
        "\n",
        "history = model_B.fit(X_train_B, y_train_B, epochs=20,\n",
        "                      validation_data=(X_valid_B, y_valid_B))\n"
      ],
      "execution_count": null,
      "outputs": [
        {
          "output_type": "stream",
          "name": "stdout",
          "text": [
            "Epoch 1/20\n",
            "7/7 [==============================] - 1s 40ms/step - loss: 0.5516 - accuracy: 0.7300 - val_loss: 0.4668 - val_accuracy: 0.7860\n",
            "Epoch 2/20\n",
            "7/7 [==============================] - 0s 14ms/step - loss: 0.3959 - accuracy: 0.8450 - val_loss: 0.3576 - val_accuracy: 0.8702\n",
            "Epoch 3/20\n",
            "7/7 [==============================] - 0s 16ms/step - loss: 0.2998 - accuracy: 0.9050 - val_loss: 0.2917 - val_accuracy: 0.9016\n",
            "Epoch 4/20\n",
            "7/7 [==============================] - 0s 14ms/step - loss: 0.2431 - accuracy: 0.9300 - val_loss: 0.2457 - val_accuracy: 0.9290\n",
            "Epoch 5/20\n",
            "7/7 [==============================] - 0s 16ms/step - loss: 0.2028 - accuracy: 0.9400 - val_loss: 0.2137 - val_accuracy: 0.9422\n",
            "Epoch 6/20\n",
            "7/7 [==============================] - 0s 14ms/step - loss: 0.1733 - accuracy: 0.9600 - val_loss: 0.1901 - val_accuracy: 0.9452\n",
            "Epoch 7/20\n",
            "7/7 [==============================] - 0s 17ms/step - loss: 0.1532 - accuracy: 0.9600 - val_loss: 0.1721 - val_accuracy: 0.9503\n",
            "Epoch 8/20\n",
            "7/7 [==============================] - 0s 15ms/step - loss: 0.1372 - accuracy: 0.9650 - val_loss: 0.1568 - val_accuracy: 0.9615\n",
            "Epoch 9/20\n",
            "7/7 [==============================] - 0s 16ms/step - loss: 0.1237 - accuracy: 0.9650 - val_loss: 0.1437 - val_accuracy: 0.9675\n",
            "Epoch 10/20\n",
            "7/7 [==============================] - 0s 15ms/step - loss: 0.1111 - accuracy: 0.9750 - val_loss: 0.1336 - val_accuracy: 0.9686\n",
            "Epoch 11/20\n",
            "7/7 [==============================] - 0s 15ms/step - loss: 0.1024 - accuracy: 0.9800 - val_loss: 0.1252 - val_accuracy: 0.9716\n",
            "Epoch 12/20\n",
            "7/7 [==============================] - 0s 16ms/step - loss: 0.0949 - accuracy: 0.9850 - val_loss: 0.1182 - val_accuracy: 0.9726\n",
            "Epoch 13/20\n",
            "7/7 [==============================] - 0s 14ms/step - loss: 0.0885 - accuracy: 0.9850 - val_loss: 0.1121 - val_accuracy: 0.9746\n",
            "Epoch 14/20\n",
            "7/7 [==============================] - 0s 13ms/step - loss: 0.0828 - accuracy: 0.9850 - val_loss: 0.1068 - val_accuracy: 0.9757\n",
            "Epoch 15/20\n",
            "7/7 [==============================] - 0s 16ms/step - loss: 0.0780 - accuracy: 0.9850 - val_loss: 0.1022 - val_accuracy: 0.9797\n",
            "Epoch 16/20\n",
            "7/7 [==============================] - 0s 16ms/step - loss: 0.0738 - accuracy: 0.9900 - val_loss: 0.0981 - val_accuracy: 0.9797\n",
            "Epoch 17/20\n",
            "7/7 [==============================] - 0s 30ms/step - loss: 0.0698 - accuracy: 0.9900 - val_loss: 0.0944 - val_accuracy: 0.9817\n",
            "Epoch 18/20\n",
            "7/7 [==============================] - 0s 14ms/step - loss: 0.0664 - accuracy: 0.9900 - val_loss: 0.0912 - val_accuracy: 0.9817\n",
            "Epoch 19/20\n",
            "7/7 [==============================] - 0s 14ms/step - loss: 0.0633 - accuracy: 0.9900 - val_loss: 0.0879 - val_accuracy: 0.9817\n",
            "Epoch 20/20\n",
            "7/7 [==============================] - 0s 16ms/step - loss: 0.0601 - accuracy: 0.9900 - val_loss: 0.0850 - val_accuracy: 0.9817\n"
          ]
        }
      ]
    },
    {
      "cell_type": "code",
      "metadata": {
        "colab": {
          "base_uri": "https://localhost:8080/"
        },
        "id": "OOwOvOuu2ezV",
        "outputId": "3b0109b8-e904-4c48-8141-1af4de41d1c1"
      },
      "source": [
        "#model A 를 그대로 사용하면 원본 모델 가중치가 변경이된다.\n",
        "#클론해서 사용함\n",
        "\n",
        "model_A_clone = keras.models.clone_model(model_A)\n",
        "model_A_clone.set_weights(model_A.get_weights())\n",
        "model_B_on_A = keras.models.Sequential(model_A_clone.layers[:-1])\n",
        "model_B_on_A.add(keras.layers.Dense(1, activation=\"sigmoid\"))\n",
        "model_B_on_A.summary()\n"
      ],
      "execution_count": null,
      "outputs": [
        {
          "output_type": "stream",
          "name": "stdout",
          "text": [
            "Model: \"sequential_8\"\n",
            "_________________________________________________________________\n",
            " Layer (type)                Output Shape              Param #   \n",
            "=================================================================\n",
            " flatten_6 (Flatten)         (None, 784)               0         \n",
            "                                                                 \n",
            " dense_216 (Dense)           (None, 300)               235500    \n",
            "                                                                 \n",
            " dense_217 (Dense)           (None, 100)               30100     \n",
            "                                                                 \n",
            " dense_218 (Dense)           (None, 50)                5050      \n",
            "                                                                 \n",
            " dense_219 (Dense)           (None, 50)                2550      \n",
            "                                                                 \n",
            " dense_220 (Dense)           (None, 50)                2550      \n",
            "                                                                 \n",
            " dense_228 (Dense)           (None, 1)                 51        \n",
            "                                                                 \n",
            "=================================================================\n",
            "Total params: 275,801\n",
            "Trainable params: 275,801\n",
            "Non-trainable params: 0\n",
            "_________________________________________________________________\n"
          ]
        }
      ]
    },
    {
      "cell_type": "code",
      "metadata": {
        "colab": {
          "base_uri": "https://localhost:8080/"
        },
        "id": "dkAFzp2r24V4",
        "outputId": "b7453566-b6a0-4138-b125-656fe9cddfa7"
      },
      "source": [
        "#레이어를 동결시킨다.\n",
        "for layer in model_B_on_A.layers[:-1]:\n",
        "    layer.trainable = False\n",
        "\n",
        "model_B_on_A.compile(loss=\"binary_crossentropy\",\n",
        "                     optimizer=keras.optimizers.SGD(learning_rate=1e-3),\n",
        "                     metrics=[\"accuracy\"])\n",
        "\n",
        "model_B_on_A.fit(X_train_B, y_train_B, epochs=4, validation_data=[X_valid_B, y_valid_B])\n",
        "\n",
        "for layer in model_B_on_A.layers[:-1]:\n",
        "    layer.trainable = True\n",
        "\n",
        "model_B_on_A.compile(loss=\"binary_crossentropy\",\n",
        "                     optimizer=keras.optimizers.SGD(learning_rate=1e-4),\n",
        "                     metrics=[\"accuracy\"])\n",
        "history = model_B_on_A.fit(X_train_B, y_train_B, epochs=16,\n",
        "                           validation_data=(X_valid_B, y_valid_B))"
      ],
      "execution_count": null,
      "outputs": [
        {
          "output_type": "stream",
          "name": "stdout",
          "text": [
            "Epoch 1/4\n",
            "7/7 [==============================] - 1s 35ms/step - loss: 0.7096 - accuracy: 0.5550 - val_loss: 0.7054 - val_accuracy: 0.5649\n",
            "Epoch 2/4\n",
            "7/7 [==============================] - 0s 15ms/step - loss: 0.6469 - accuracy: 0.6600 - val_loss: 0.6482 - val_accuracy: 0.6359\n",
            "Epoch 3/4\n",
            "7/7 [==============================] - 0s 15ms/step - loss: 0.5937 - accuracy: 0.6950 - val_loss: 0.5975 - val_accuracy: 0.6785\n",
            "Epoch 4/4\n",
            "7/7 [==============================] - 0s 17ms/step - loss: 0.5468 - accuracy: 0.7350 - val_loss: 0.5544 - val_accuracy: 0.7140\n",
            "Epoch 1/16\n",
            "7/7 [==============================] - 1s 36ms/step - loss: 0.5126 - accuracy: 0.7550 - val_loss: 0.5319 - val_accuracy: 0.7373\n",
            "Epoch 2/16\n",
            "7/7 [==============================] - 0s 13ms/step - loss: 0.4909 - accuracy: 0.7650 - val_loss: 0.5113 - val_accuracy: 0.7606\n",
            "Epoch 3/16\n",
            "7/7 [==============================] - 0s 16ms/step - loss: 0.4709 - accuracy: 0.7900 - val_loss: 0.4918 - val_accuracy: 0.7789\n",
            "Epoch 4/16\n",
            "7/7 [==============================] - 0s 16ms/step - loss: 0.4523 - accuracy: 0.8000 - val_loss: 0.4741 - val_accuracy: 0.7921\n",
            "Epoch 5/16\n",
            "7/7 [==============================] - 0s 15ms/step - loss: 0.4353 - accuracy: 0.8150 - val_loss: 0.4576 - val_accuracy: 0.7982\n",
            "Epoch 6/16\n",
            "7/7 [==============================] - 0s 16ms/step - loss: 0.4193 - accuracy: 0.8300 - val_loss: 0.4423 - val_accuracy: 0.8154\n",
            "Epoch 7/16\n",
            "7/7 [==============================] - 0s 16ms/step - loss: 0.4047 - accuracy: 0.8450 - val_loss: 0.4282 - val_accuracy: 0.8256\n",
            "Epoch 8/16\n",
            "7/7 [==============================] - 0s 14ms/step - loss: 0.3911 - accuracy: 0.8500 - val_loss: 0.4150 - val_accuracy: 0.8327\n",
            "Epoch 9/16\n",
            "7/7 [==============================] - 0s 16ms/step - loss: 0.3786 - accuracy: 0.8700 - val_loss: 0.4030 - val_accuracy: 0.8458\n",
            "Epoch 10/16\n",
            "7/7 [==============================] - 0s 15ms/step - loss: 0.3670 - accuracy: 0.8800 - val_loss: 0.3909 - val_accuracy: 0.8540\n",
            "Epoch 11/16\n",
            "7/7 [==============================] - 0s 15ms/step - loss: 0.3555 - accuracy: 0.8800 - val_loss: 0.3797 - val_accuracy: 0.8631\n",
            "Epoch 12/16\n",
            "7/7 [==============================] - 0s 14ms/step - loss: 0.3449 - accuracy: 0.8800 - val_loss: 0.3691 - val_accuracy: 0.8702\n",
            "Epoch 13/16\n",
            "7/7 [==============================] - 0s 14ms/step - loss: 0.3347 - accuracy: 0.8850 - val_loss: 0.3591 - val_accuracy: 0.8732\n",
            "Epoch 14/16\n",
            "7/7 [==============================] - 0s 16ms/step - loss: 0.3253 - accuracy: 0.8950 - val_loss: 0.3496 - val_accuracy: 0.8803\n",
            "Epoch 15/16\n",
            "7/7 [==============================] - 0s 13ms/step - loss: 0.3162 - accuracy: 0.8950 - val_loss: 0.3403 - val_accuracy: 0.8854\n",
            "Epoch 16/16\n",
            "7/7 [==============================] - 0s 14ms/step - loss: 0.3074 - accuracy: 0.9000 - val_loss: 0.3316 - val_accuracy: 0.8895\n"
          ]
        }
      ]
    },
    {
      "cell_type": "code",
      "metadata": {
        "colab": {
          "base_uri": "https://localhost:8080/"
        },
        "id": "LDHsGJv34q-l",
        "outputId": "d0fed730-05b4-40c5-9184-0cae9d9e84cf"
      },
      "source": [
        "model_B_on_A.evaluate(X_test_B, y_test_B)"
      ],
      "execution_count": null,
      "outputs": [
        {
          "output_type": "stream",
          "name": "stdout",
          "text": [
            "63/63 [==============================] - 0s 2ms/step - loss: 0.3315 - accuracy: 0.8865\n"
          ]
        },
        {
          "output_type": "execute_result",
          "data": {
            "text/plain": [
              "[0.3315048813819885, 0.8865000009536743]"
            ]
          },
          "metadata": {},
          "execution_count": 28
        }
      ]
    },
    {
      "cell_type": "markdown",
      "metadata": {
        "id": "EON1YqgghdPe"
      },
      "source": [
        "# 옵티마이저"
      ]
    },
    {
      "cell_type": "code",
      "metadata": {
        "id": "3Rpu9ltEhgT7"
      },
      "source": [
        "\n",
        "#모멘텀 최적화\n",
        "optimizer = keras.optimizers.SGD(learning_rate=0.001, momentum=0.9)\n",
        "#네스트로프 최적화\n",
        "optimizer = keras.optimizers.SGD(learning_rate=0.001, momentum=0.9, nesterov=True)\n",
        "#AdaGrad\n",
        "optimizer = keras.optimizers.Adagrad(learning_rate=0.001)\n",
        "#RMSProp\n",
        "optimizer = keras.optimizers.RMSprop(learning_rate=0.001, rho=0.9) #beta = rho\n",
        "#Adam\n",
        "optimizer = keras.optimizers.Adam(learning_rate=0.001, beta_1=0.9, beta_2=0.999) #beta1 : momentum, beta2 : gradient 평균 비율\n",
        "#Nadam\n",
        "optimizer = keras.optimizers.Nadam(learning_rate=0.001, beta_1=0.9, beta_2=0.999)"
      ],
      "execution_count": 29,
      "outputs": []
    },
    {
      "cell_type": "markdown",
      "metadata": {
        "id": "TLtv8GbW3G0D"
      },
      "source": [
        "# 학습률 스케줄링\n"
      ]
    },
    {
      "cell_type": "code",
      "metadata": {
        "colab": {
          "base_uri": "https://localhost:8080/"
        },
        "id": "jBQOD_Yh2sFM",
        "outputId": "86fdf90b-8eff-4dff-d959-612487eae49b"
      },
      "source": [
        "#거듭제곱 스케줄링\n",
        "#케라스 업데이트 공식 : lr = lr0 / ( 1 + t / s ) ** c\n",
        "#s = 1 / decay  -> s = 1000\n",
        "optimizer = keras.optimizers.SGD(learning_rate=0.001, decay=1e-4)\n",
        "\n",
        "model = keras.models.Sequential([\n",
        "    keras.layers.Flatten(input_shape=[28, 28]),\n",
        "    keras.layers.Dense(300, activation=\"selu\", kernel_initializer=\"lecun_normal\"),\n",
        "    keras.layers.Dense(100, activation=\"selu\", kernel_initializer=\"lecun_normal\"),\n",
        "    keras.layers.Dense(10, activation=\"softmax\")\n",
        "])\n",
        "model.compile(loss=\"sparse_categorical_crossentropy\", optimizer=optimizer, metrics=[\"accuracy\"])\n",
        "\n",
        "n_epochs = 25\n",
        "history = model.fit(X_train_scaled, y_train, epochs=n_epochs,\n",
        "                    validation_data=(X_valid_scaled, y_valid))"
      ],
      "execution_count": 35,
      "outputs": [
        {
          "output_type": "stream",
          "name": "stdout",
          "text": [
            "Epoch 1/25\n",
            "1719/1719 [==============================] - 4s 2ms/step - loss: 0.6986 - accuracy: 0.7599 - val_loss: 0.5333 - val_accuracy: 0.8228\n",
            "Epoch 2/25\n",
            "1719/1719 [==============================] - 4s 2ms/step - loss: 0.5065 - accuracy: 0.8245 - val_loss: 0.4792 - val_accuracy: 0.8380\n",
            "Epoch 3/25\n",
            "1719/1719 [==============================] - 4s 2ms/step - loss: 0.4694 - accuracy: 0.8370 - val_loss: 0.4597 - val_accuracy: 0.8466\n",
            "Epoch 4/25\n",
            "1719/1719 [==============================] - 4s 2ms/step - loss: 0.4491 - accuracy: 0.8440 - val_loss: 0.4431 - val_accuracy: 0.8482\n",
            "Epoch 5/25\n",
            "1719/1719 [==============================] - 4s 2ms/step - loss: 0.4353 - accuracy: 0.8489 - val_loss: 0.4341 - val_accuracy: 0.8540\n",
            "Epoch 6/25\n",
            "1719/1719 [==============================] - 4s 2ms/step - loss: 0.4251 - accuracy: 0.8521 - val_loss: 0.4276 - val_accuracy: 0.8552\n",
            "Epoch 7/25\n",
            "1719/1719 [==============================] - 4s 2ms/step - loss: 0.4171 - accuracy: 0.8555 - val_loss: 0.4207 - val_accuracy: 0.8572\n",
            "Epoch 8/25\n",
            "1719/1719 [==============================] - 4s 2ms/step - loss: 0.4107 - accuracy: 0.8574 - val_loss: 0.4176 - val_accuracy: 0.8594\n",
            "Epoch 9/25\n",
            "1719/1719 [==============================] - 4s 2ms/step - loss: 0.4052 - accuracy: 0.8589 - val_loss: 0.4135 - val_accuracy: 0.8602\n",
            "Epoch 10/25\n",
            "1719/1719 [==============================] - 4s 2ms/step - loss: 0.4003 - accuracy: 0.8609 - val_loss: 0.4105 - val_accuracy: 0.8598\n",
            "Epoch 11/25\n",
            "1719/1719 [==============================] - 4s 2ms/step - loss: 0.3963 - accuracy: 0.8621 - val_loss: 0.4077 - val_accuracy: 0.8616\n",
            "Epoch 12/25\n",
            "1719/1719 [==============================] - 4s 2ms/step - loss: 0.3926 - accuracy: 0.8635 - val_loss: 0.4060 - val_accuracy: 0.8620\n",
            "Epoch 13/25\n",
            "1719/1719 [==============================] - 4s 2ms/step - loss: 0.3894 - accuracy: 0.8651 - val_loss: 0.4031 - val_accuracy: 0.8640\n",
            "Epoch 14/25\n",
            "1719/1719 [==============================] - 4s 2ms/step - loss: 0.3864 - accuracy: 0.8656 - val_loss: 0.4021 - val_accuracy: 0.8632\n",
            "Epoch 15/25\n",
            "1719/1719 [==============================] - 4s 2ms/step - loss: 0.3838 - accuracy: 0.8661 - val_loss: 0.4005 - val_accuracy: 0.8632\n",
            "Epoch 16/25\n",
            "1719/1719 [==============================] - 4s 2ms/step - loss: 0.3812 - accuracy: 0.8679 - val_loss: 0.3987 - val_accuracy: 0.8648\n",
            "Epoch 17/25\n",
            "1719/1719 [==============================] - 4s 2ms/step - loss: 0.3789 - accuracy: 0.8687 - val_loss: 0.3974 - val_accuracy: 0.8644\n",
            "Epoch 18/25\n",
            "1719/1719 [==============================] - 4s 2ms/step - loss: 0.3768 - accuracy: 0.8692 - val_loss: 0.3955 - val_accuracy: 0.8656\n",
            "Epoch 19/25\n",
            "1719/1719 [==============================] - 4s 2ms/step - loss: 0.3750 - accuracy: 0.8698 - val_loss: 0.3947 - val_accuracy: 0.8672\n",
            "Epoch 20/25\n",
            "1719/1719 [==============================] - 4s 2ms/step - loss: 0.3732 - accuracy: 0.8704 - val_loss: 0.3936 - val_accuracy: 0.8674\n",
            "Epoch 21/25\n",
            "1719/1719 [==============================] - 4s 2ms/step - loss: 0.3713 - accuracy: 0.8711 - val_loss: 0.3928 - val_accuracy: 0.8676\n",
            "Epoch 22/25\n",
            "1719/1719 [==============================] - 4s 2ms/step - loss: 0.3697 - accuracy: 0.8716 - val_loss: 0.3914 - val_accuracy: 0.8674\n",
            "Epoch 23/25\n",
            "1719/1719 [==============================] - 4s 2ms/step - loss: 0.3682 - accuracy: 0.8721 - val_loss: 0.3910 - val_accuracy: 0.8682\n",
            "Epoch 24/25\n",
            "1719/1719 [==============================] - 4s 2ms/step - loss: 0.3669 - accuracy: 0.8726 - val_loss: 0.3894 - val_accuracy: 0.8674\n",
            "Epoch 25/25\n",
            "1719/1719 [==============================] - 4s 2ms/step - loss: 0.3655 - accuracy: 0.8731 - val_loss: 0.3889 - val_accuracy: 0.8676\n"
          ]
        }
      ]
    },
    {
      "cell_type": "code",
      "metadata": {
        "colab": {
          "base_uri": "https://localhost:8080/",
          "height": 296
        },
        "id": "qGsi15AT4mCs",
        "outputId": "eeceef23-3ead-4d91-9494-ba8345731db7"
      },
      "source": [
        "import math\n",
        "\n",
        "learning_rate = 0.001\n",
        "decay = 1e-4\n",
        "batch_size = 32\n",
        "n_steps_per_epoch = math.ceil(len(X_train) / batch_size)\n",
        "epochs = np.arange(n_epochs)\n",
        "lrs = learning_rate / (1 + decay * epochs * n_steps_per_epoch)\n",
        "\n",
        "plt.plot(epochs, lrs,  \"o-\")\n",
        "plt.axis([0, n_epochs - 1, 0, 0.005])\n",
        "plt.xlabel(\"Epoch\")\n",
        "plt.ylabel(\"Learning Rate\")\n",
        "plt.title(\"Power Scheduling\", fontsize=14)\n",
        "plt.grid(True)\n",
        "plt.show()"
      ],
      "execution_count": 40,
      "outputs": [
        {
          "output_type": "display_data",
          "data": {
            "image/png": "[encoded data removed]",
            "text/plain": [
              "<Figure size 432x288 with 1 Axes>"
            ]
          },
          "metadata": {
            "needs_background": "light"
          }
        }
      ]
    },
    {
      "cell_type": "code",
      "metadata": {
        "colab": {
          "base_uri": "https://localhost:8080/"
        },
        "id": "f5ijYqmU477U",
        "outputId": "69d1b3ae-d4dd-42d2-dfc2-611d1a63c8b5"
      },
      "source": [
        "#지수 기반 스케줄링\n",
        "# lr = lr0 * 0.1**(epoch / s)\n",
        "\n",
        "def exponential_decay(lr, s):\n",
        "    def exponential_decay_fn(epoch):\n",
        "        return lr * 0.1**(epoch / s)\n",
        "    return exponential_decay_fn\n",
        "\n",
        "exponential_decay_fn = exponential_decay(0.01, 20)\n",
        "\n",
        "model = keras.models.Sequential([\n",
        "    keras.layers.Flatten(input_shape=[28, 28]),\n",
        "    keras.layers.Dense(300, activation=\"selu\", kernel_initializer=\"lecun_normal\"),\n",
        "    keras.layers.Dense(100, activation=\"selu\", kernel_initializer=\"lecun_normal\"),\n",
        "    keras.layers.Dense(10, activation=\"softmax\")\n",
        "])\n",
        "model.compile(loss=\"sparse_categorical_crossentropy\", optimizer=\"nadam\", metrics=[\"accuracy\"])\n",
        "n_epochs = 25\n",
        "\n",
        "#여기 함수를 넣어야되서 decay함수를 반환하는 함수를 만들었음.\n",
        "#함수의 인자로 에폭과 현재 학습률을 받을 수 있음.\n",
        "lr_scheduler = keras.callbacks.LearningRateScheduler(exponential_decay_fn)\n",
        "#selu라서 표준화된 데이터를 넣음\n",
        "history = model.fit(X_train_scaled, y_train, epochs=n_epochs,\n",
        "                    validation_data=(X_valid_scaled, y_valid),\n",
        "                    callbacks=[lr_scheduler])"
      ],
      "execution_count": 42,
      "outputs": [
        {
          "output_type": "stream",
          "name": "stdout",
          "text": [
            "Epoch 1/25\n",
            "1719/1719 [==============================] - 6s 3ms/step - loss: 0.9254 - accuracy: 0.7436 - val_loss: 0.9771 - val_accuracy: 0.6756 - lr: 0.0100\n",
            "Epoch 2/25\n",
            "1719/1719 [==============================] - 5s 3ms/step - loss: 0.7128 - accuracy: 0.7920 - val_loss: 0.6836 - val_accuracy: 0.8278 - lr: 0.0089\n",
            "Epoch 3/25\n",
            "1719/1719 [==============================] - 5s 3ms/step - loss: 0.6329 - accuracy: 0.8187 - val_loss: 0.7031 - val_accuracy: 0.8116 - lr: 0.0079\n",
            "Epoch 4/25\n",
            "1719/1719 [==============================] - 6s 3ms/step - loss: 0.5928 - accuracy: 0.8338 - val_loss: 0.5461 - val_accuracy: 0.8368 - lr: 0.0071\n",
            "Epoch 5/25\n",
            "1719/1719 [==============================] - 5s 3ms/step - loss: 0.5318 - accuracy: 0.8469 - val_loss: 0.5740 - val_accuracy: 0.8364 - lr: 0.0063\n",
            "Epoch 6/25\n",
            "1719/1719 [==============================] - 5s 3ms/step - loss: 0.4746 - accuracy: 0.8624 - val_loss: 0.5564 - val_accuracy: 0.8552 - lr: 0.0056\n",
            "Epoch 7/25\n",
            "1719/1719 [==============================] - 5s 3ms/step - loss: 0.4467 - accuracy: 0.8690 - val_loss: 0.5169 - val_accuracy: 0.8460 - lr: 0.0050\n",
            "Epoch 8/25\n",
            "1719/1719 [==============================] - 5s 3ms/step - loss: 0.4081 - accuracy: 0.8773 - val_loss: 0.5983 - val_accuracy: 0.8400 - lr: 0.0045\n",
            "Epoch 9/25\n",
            "1719/1719 [==============================] - 5s 3ms/step - loss: 0.3696 - accuracy: 0.8875 - val_loss: 0.5345 - val_accuracy: 0.8660 - lr: 0.0040\n",
            "Epoch 10/25\n",
            "1719/1719 [==============================] - 6s 3ms/step - loss: 0.3487 - accuracy: 0.8921 - val_loss: 0.4532 - val_accuracy: 0.8768 - lr: 0.0035\n",
            "Epoch 11/25\n",
            "1719/1719 [==============================] - 5s 3ms/step - loss: 0.3246 - accuracy: 0.8993 - val_loss: 0.4655 - val_accuracy: 0.8772 - lr: 0.0032\n",
            "Epoch 12/25\n",
            "1719/1719 [==============================] - 5s 3ms/step - loss: 0.2997 - accuracy: 0.9063 - val_loss: 0.4945 - val_accuracy: 0.8704 - lr: 0.0028\n",
            "Epoch 13/25\n",
            "1719/1719 [==============================] - 5s 3ms/step - loss: 0.2852 - accuracy: 0.9092 - val_loss: 0.5558 - val_accuracy: 0.8786 - lr: 0.0025\n",
            "Epoch 14/25\n",
            "1719/1719 [==============================] - 5s 3ms/step - loss: 0.2625 - accuracy: 0.9178 - val_loss: 0.4739 - val_accuracy: 0.8756 - lr: 0.0022\n",
            "Epoch 15/25\n",
            "1719/1719 [==============================] - 6s 3ms/step - loss: 0.2456 - accuracy: 0.9221 - val_loss: 0.4939 - val_accuracy: 0.8836 - lr: 0.0020\n",
            "Epoch 16/25\n",
            "1719/1719 [==============================] - 6s 3ms/step - loss: 0.2294 - accuracy: 0.9269 - val_loss: 0.4899 - val_accuracy: 0.8844 - lr: 0.0018\n",
            "Epoch 17/25\n",
            "1719/1719 [==============================] - 6s 3ms/step - loss: 0.2142 - accuracy: 0.9310 - val_loss: 0.5363 - val_accuracy: 0.8840 - lr: 0.0016\n",
            "Epoch 18/25\n",
            "1719/1719 [==============================] - 6s 3ms/step - loss: 0.2003 - accuracy: 0.9365 - val_loss: 0.4946 - val_accuracy: 0.8834 - lr: 0.0014\n",
            "Epoch 19/25\n",
            "1719/1719 [==============================] - 5s 3ms/step - loss: 0.1930 - accuracy: 0.9395 - val_loss: 0.5004 - val_accuracy: 0.8958 - lr: 0.0013\n",
            "Epoch 20/25\n",
            "1719/1719 [==============================] - 5s 3ms/step - loss: 0.1812 - accuracy: 0.9436 - val_loss: 0.4853 - val_accuracy: 0.8884 - lr: 0.0011\n",
            "Epoch 21/25\n",
            "1719/1719 [==============================] - 6s 3ms/step - loss: 0.1672 - accuracy: 0.9481 - val_loss: 0.5489 - val_accuracy: 0.8856 - lr: 0.0010\n",
            "Epoch 22/25\n",
            "1719/1719 [==============================] - 6s 3ms/step - loss: 0.1534 - accuracy: 0.9518 - val_loss: 0.5289 - val_accuracy: 0.8932 - lr: 8.9125e-04\n",
            "Epoch 23/25\n",
            "1719/1719 [==============================] - 5s 3ms/step - loss: 0.1422 - accuracy: 0.9547 - val_loss: 0.5550 - val_accuracy: 0.8896 - lr: 7.9433e-04\n",
            "Epoch 24/25\n",
            "1719/1719 [==============================] - 5s 3ms/step - loss: 0.1347 - accuracy: 0.9577 - val_loss: 0.5493 - val_accuracy: 0.8912 - lr: 7.0795e-04\n",
            "Epoch 25/25\n",
            "1719/1719 [==============================] - 5s 3ms/step - loss: 0.1258 - accuracy: 0.9607 - val_loss: 0.5649 - val_accuracy: 0.8938 - lr: 6.3096e-04\n"
          ]
        }
      ]
    },
    {
      "cell_type": "code",
      "metadata": {
        "colab": {
          "base_uri": "https://localhost:8080/",
          "height": 296
        },
        "id": "8BrAmXA36s0V",
        "outputId": "3eacb80b-fd6d-4a10-c719-3f569e676560"
      },
      "source": [
        "plt.plot(history.epoch, history.history[\"lr\"], \"o-\")\n",
        "plt.axis([0, n_epochs - 1, 0, 0.011])\n",
        "plt.xlabel(\"Epoch\")\n",
        "plt.ylabel(\"Learning Rate\")\n",
        "plt.title(\"Exponential Scheduling\", fontsize=14)\n",
        "plt.grid(True)\n",
        "plt.show()"
      ],
      "execution_count": 43,
      "outputs": [
        {
          "output_type": "display_data",
          "data": {
            "image/png": "[encoded data removed]",
            "text/plain": [
              "<Figure size 432x288 with 1 Axes>"
            ]
          },
          "metadata": {
            "needs_background": "light"
          }
        }
      ]
    },
    {
      "cell_type": "code",
      "metadata": {
        "colab": {
          "base_uri": "https://localhost:8080/"
        },
        "id": "LrH4otjl6ufj",
        "outputId": "80db8b6e-3522-4529-e6a8-983ad850f5dc"
      },
      "source": [
        "#사용자 지정 콜백함수로 에폭이 아니라 매 반복마다 학습률 업데이트\n",
        "\n",
        "def exponential_decay(s):\n",
        "    def exponential_decay_fn(epoch, lr):\n",
        "        return lr * 0.1**(1 / s)\n",
        "    return exponential_decay_fn\n",
        "\n",
        "K = keras.backend\n",
        "\n",
        "class ExponentialDecay(keras.callbacks.Callback):\n",
        "    def __init__(self, s=40000):\n",
        "        super().__init__()\n",
        "        self.s = s\n",
        "        self.lr = []\n",
        "    #한번의 에폭에 1719번의 배치반복을 수행함\n",
        "    def on_batch_begin(self, batch, logs=None):\n",
        "        # 노트: 에포크마다 `batch` 매개변수가 재설정됩니다\n",
        "        #현재 학습률\n",
        "        lr = K.get_value(self.model.optimizer.lr)\n",
        "        self.lr.append(lr)\n",
        "        #학습률 갱신\n",
        "        K.set_value(self.model.optimizer.lr, lr * 0.1**(1 / self.s))\n",
        "\n",
        "    def on_epoch_end(self, epoch, logs=None):\n",
        "        logs = logs or {}\n",
        "        logs['lr'] = K.get_value(self.model.optimizer.lr)\n",
        "\n",
        "model = keras.models.Sequential([\n",
        "    keras.layers.Flatten(input_shape=[28, 28]),\n",
        "    keras.layers.Dense(300, activation=\"selu\", kernel_initializer=\"lecun_normal\"),\n",
        "    keras.layers.Dense(100, activation=\"selu\", kernel_initializer=\"lecun_normal\"),\n",
        "    keras.layers.Dense(10, activation=\"softmax\")\n",
        "])\n",
        "lr0 = 0.01\n",
        "optimizer = keras.optimizers.Nadam(learning_rate=lr0)\n",
        "model.compile(loss=\"sparse_categorical_crossentropy\", optimizer=optimizer, metrics=[\"accuracy\"])\n",
        "n_epochs = 25\n",
        "\n",
        "s = 20 * len(X_train) // 32 # 20 에포크 동안 스텝 횟수 (배치 크기 = 32)\n",
        "exp_decay = ExponentialDecay(s)\n",
        "history = model.fit(X_train_scaled, y_train, epochs=n_epochs,\n",
        "                    validation_data=(X_valid_scaled, y_valid),\n",
        "                    callbacks=[exp_decay])"
      ],
      "execution_count": 45,
      "outputs": [
        {
          "output_type": "stream",
          "name": "stdout",
          "text": [
            "Epoch 1/25\n",
            "1719/1719 [==============================] - 7s 4ms/step - loss: 0.8058 - accuracy: 0.7669 - val_loss: 0.7807 - val_accuracy: 0.7400 - lr: 0.0089\n",
            "Epoch 2/25\n",
            "1719/1719 [==============================] - 7s 4ms/step - loss: 0.6545 - accuracy: 0.8019 - val_loss: 0.5832 - val_accuracy: 0.8228 - lr: 0.0079\n",
            "Epoch 3/25\n",
            "1719/1719 [==============================] - 7s 4ms/step - loss: 0.5647 - accuracy: 0.8268 - val_loss: 0.6790 - val_accuracy: 0.8130 - lr: 0.0071\n",
            "Epoch 4/25\n",
            "1719/1719 [==============================] - 7s 4ms/step - loss: 0.5294 - accuracy: 0.8334 - val_loss: 0.4973 - val_accuracy: 0.8536 - lr: 0.0063\n",
            "Epoch 5/25\n",
            "1719/1719 [==============================] - 7s 4ms/step - loss: 0.4808 - accuracy: 0.8499 - val_loss: 0.5565 - val_accuracy: 0.8582 - lr: 0.0056\n",
            "Epoch 6/25\n",
            "1719/1719 [==============================] - 7s 4ms/step - loss: 0.4417 - accuracy: 0.8587 - val_loss: 0.4572 - val_accuracy: 0.8596 - lr: 0.0050\n",
            "Epoch 7/25\n",
            "1719/1719 [==============================] - 7s 4ms/step - loss: 0.4072 - accuracy: 0.8674 - val_loss: 0.4934 - val_accuracy: 0.8536 - lr: 0.0045\n",
            "Epoch 8/25\n",
            "1719/1719 [==============================] - 7s 4ms/step - loss: 0.3713 - accuracy: 0.8785 - val_loss: 0.5006 - val_accuracy: 0.8566 - lr: 0.0040\n",
            "Epoch 9/25\n",
            "1719/1719 [==============================] - 7s 4ms/step - loss: 0.3459 - accuracy: 0.8858 - val_loss: 0.4510 - val_accuracy: 0.8706 - lr: 0.0035\n",
            "Epoch 10/25\n",
            "1719/1719 [==============================] - 7s 4ms/step - loss: 0.3183 - accuracy: 0.8923 - val_loss: 0.4007 - val_accuracy: 0.8838 - lr: 0.0032\n",
            "Epoch 11/25\n",
            "1719/1719 [==============================] - 7s 4ms/step - loss: 0.2940 - accuracy: 0.9004 - val_loss: 0.4095 - val_accuracy: 0.8784 - lr: 0.0028\n",
            "Epoch 12/25\n",
            "1719/1719 [==============================] - 7s 4ms/step - loss: 0.2757 - accuracy: 0.9052 - val_loss: 0.4086 - val_accuracy: 0.8790 - lr: 0.0025\n",
            "Epoch 13/25\n",
            "1719/1719 [==============================] - 7s 4ms/step - loss: 0.2560 - accuracy: 0.9122 - val_loss: 0.4560 - val_accuracy: 0.8830 - lr: 0.0022\n",
            "Epoch 14/25\n",
            "1719/1719 [==============================] - 7s 4ms/step - loss: 0.2382 - accuracy: 0.9177 - val_loss: 0.4663 - val_accuracy: 0.8740 - lr: 0.0020\n",
            "Epoch 15/25\n",
            "1719/1719 [==============================] - 7s 4ms/step - loss: 0.2240 - accuracy: 0.9231 - val_loss: 0.4684 - val_accuracy: 0.8814 - lr: 0.0018\n",
            "Epoch 16/25\n",
            "1719/1719 [==============================] - 7s 4ms/step - loss: 0.2077 - accuracy: 0.9297 - val_loss: 0.4716 - val_accuracy: 0.8892 - lr: 0.0016\n",
            "Epoch 17/25\n",
            "1719/1719 [==============================] - 7s 4ms/step - loss: 0.1915 - accuracy: 0.9330 - val_loss: 0.5090 - val_accuracy: 0.8838 - lr: 0.0014\n",
            "Epoch 18/25\n",
            "1719/1719 [==============================] - 7s 4ms/step - loss: 0.1810 - accuracy: 0.9387 - val_loss: 0.4739 - val_accuracy: 0.8904 - lr: 0.0013\n",
            "Epoch 19/25\n",
            "1719/1719 [==============================] - 7s 4ms/step - loss: 0.1647 - accuracy: 0.9446 - val_loss: 0.4884 - val_accuracy: 0.8908 - lr: 0.0011\n",
            "Epoch 20/25\n",
            "1719/1719 [==============================] - 7s 4ms/step - loss: 0.1529 - accuracy: 0.9485 - val_loss: 0.4736 - val_accuracy: 0.8884 - lr: 9.9967e-04\n",
            "Epoch 21/25\n",
            "1719/1719 [==============================] - 7s 4ms/step - loss: 0.1437 - accuracy: 0.9514 - val_loss: 0.5174 - val_accuracy: 0.8878 - lr: 8.9094e-04\n",
            "Epoch 22/25\n",
            "1719/1719 [==============================] - 7s 4ms/step - loss: 0.1351 - accuracy: 0.9548 - val_loss: 0.5662 - val_accuracy: 0.8908 - lr: 7.9404e-04\n",
            "Epoch 23/25\n",
            "1719/1719 [==============================] - 7s 4ms/step - loss: 0.1271 - accuracy: 0.9576 - val_loss: 0.5657 - val_accuracy: 0.8910 - lr: 7.0767e-04\n",
            "Epoch 24/25\n",
            "1719/1719 [==============================] - 7s 4ms/step - loss: 0.1188 - accuracy: 0.9609 - val_loss: 0.5819 - val_accuracy: 0.8902 - lr: 6.3071e-04\n",
            "Epoch 25/25\n",
            "1719/1719 [==============================] - 7s 4ms/step - loss: 0.1120 - accuracy: 0.9635 - val_loss: 0.6029 - val_accuracy: 0.8864 - lr: 5.6211e-04\n"
          ]
        }
      ]
    },
    {
      "cell_type": "code",
      "metadata": {
        "colab": {
          "base_uri": "https://localhost:8080/",
          "height": 296
        },
        "id": "WAS2ocJU85vl",
        "outputId": "5386c604-4e61-4aad-bff0-58c59feefc76"
      },
      "source": [
        "n_steps = n_epochs * len(X_train) // 32\n",
        "steps = np.arange(n_steps)\n",
        "lr = exp_decay.lr[:42968]\n",
        "plt.plot(steps, lr, \"-\", linewidth=2)\n",
        "plt.axis([0, n_steps - 1, 0, lr0 * 1.1])\n",
        "plt.xlabel(\"Batch\")\n",
        "plt.ylabel(\"Learning Rate\")\n",
        "plt.title(\"Exponential Scheduling (per batch)\", fontsize=14)\n",
        "plt.grid(True)\n",
        "plt.show()"
      ],
      "execution_count": 51,
      "outputs": [
        {
          "output_type": "display_data",
          "data": {
            "image/png": "[encoded data removed]",
            "text/plain": [
              "<Figure size 432x288 with 1 Axes>"
            ]
          },
          "metadata": {
            "needs_background": "light"
          }
        }
      ]
    }
  ]
}