{
  "nbformat": 4,
  "nbformat_minor": 0,
  "metadata": {
    "colab": {
      "name": "ModelTraining_4.ipynb",
      "provenance": [],
      "collapsed_sections": [],
      "authorship_tag": "ABX9TyPpBlB0P0R+Uqjq0+Sj6uhe",
      "include_colab_link": true
    },
    "kernelspec": {
      "name": "python3",
      "display_name": "Python 3"
    },
    "language_info": {
      "name": "python"
    },
    "accelerator": "TPU"
  },
  "cells": [
    {
      "cell_type": "markdown",
      "metadata": {
        "id": "view-in-github",
        "colab_type": "text"
      },
      "source": [
        "<a href=\"https://colab.research.google.com/github/kimhwijin/HandsOnMachineLearing/blob/main/ModelTraining_4.ipynb\" target=\"_parent\"><img src=\"https://colab.research.google.com/assets/colab-badge.svg\" alt=\"Open In Colab\"/></a>"
      ]
    },
    {
      "cell_type": "code",
      "metadata": {
        "id": "IJ4VUYCVWO9z",
        "colab": {
          "base_uri": "https://localhost:8080/",
          "height": 284
        },
        "outputId": "d3cdc86c-c03f-4959-ceb5-bfba5034799c"
      },
      "source": [
        "#Model Training\n",
        "\n",
        "#정규방정식 증명\n",
        "#theta_hat = (X.T X)^-1 X.T Y \n",
        "import numpy as np\n",
        "import matplotlib.pyplot as plt\n",
        "X = 2 * np.random.rand(100 ,1)\n",
        "y = 4 + 3 * X + np.random.randn(100, 1) # 기대 파라미터 : 4, 3\n",
        "plt.plot(X, y, 'o')"
      ],
      "execution_count": 1,
      "outputs": [
        {
          "output_type": "execute_result",
          "data": {
            "text/plain": [
              "[<matplotlib.lines.Line2D at 0x7ffa6f08cdd0>]"
            ]
          },
          "metadata": {},
          "execution_count": 1
        },
        {
          "output_type": "display_data",
          "data": {
            "image/png": "[encoded data removed]",
            "text/plain": [
              "<Figure size 432x288 with 1 Axes>"
            ]
          },
          "metadata": {
            "needs_background": "light"
          }
        }
      ]
    },
    {
      "cell_type": "code",
      "metadata": {
        "colab": {
          "base_uri": "https://localhost:8080/"
        },
        "id": "zo9uxQlvfmBC",
        "outputId": "fa05462a-4845-413b-8be9-beac49ae6e88"
      },
      "source": [
        "#정규방정식을 통한 theta 계산\n",
        "X_b = np.c_[np.ones((100, 1)), X] #샘플에 x0 = 1 을 추가\n",
        "theta_best = np.linalg.inv(X_b.T.dot(X_b)).dot(X_b.T).dot(y)\n",
        "print(theta_best)\n",
        "#random.randn 가우시안 noise 때문에 정확한 예측은 안됌"
      ],
      "execution_count": 2,
      "outputs": [
        {
          "output_type": "stream",
          "name": "stdout",
          "text": [
            "[[3.88716772]\n",
            " [2.93341231]]\n"
          ]
        }
      ]
    },
    {
      "cell_type": "code",
      "metadata": {
        "colab": {
          "base_uri": "https://localhost:8080/",
          "height": 303
        },
        "id": "cBDYgmWLgHwT",
        "outputId": "ad1c1121-d336-412b-d18e-bfdaf217c160"
      },
      "source": [
        "X_new = np.array([[0], [2]])\n",
        "X_new_b =  np.c_[np.ones((2,1)), X_new]\n",
        "y_predict = X_new_b.dot(theta_best)\n",
        "print(y_predict)\n",
        "plt.plot(X_new, y_predict, 'r-')\n",
        "plt.plot(X,y, \"b.\")\n",
        "plt.axis([0, 2, 0, 15])\n",
        "plt.show()"
      ],
      "execution_count": 3,
      "outputs": [
        {
          "output_type": "stream",
          "name": "stdout",
          "text": [
            "[[3.88716772]\n",
            " [9.75399235]]\n"
          ]
        },
        {
          "output_type": "display_data",
          "data": {
            "image/png": "[encoded data removed]",
            "text/plain": [
              "<Figure size 432x288 with 1 Axes>"
            ]
          },
          "metadata": {
            "needs_background": "light"
          }
        }
      ]
    },
    {
      "cell_type": "code",
      "metadata": {
        "colab": {
          "base_uri": "https://localhost:8080/"
        },
        "id": "As8c5k7VjNWa",
        "outputId": "4dafbb1b-a91a-45d4-868b-98985bd0681b"
      },
      "source": [
        "#사이킷런의 선형 회귀\n",
        "from sklearn.linear_model import LinearRegression\n",
        "lin_reg = LinearRegression()\n",
        "lin_reg.fit(X, y)\n",
        "print(lin_reg.intercept_, lin_reg.coef_)\n",
        "print(lin_reg.predict(X_new))\n",
        "\n",
        "#LinearRegression -> 최소 제곱을 기반으로함\n",
        "theta_best_svd, residuals, rank, s = np.linalg.lstsq(X_b, y, rcond=1e-6)\n",
        "print(theta_best_svd)\n",
        "\n",
        "#theta_hat = X^+ y 를 계산한다. X^+ 는 유사역행렬(무어-펜로즈 역행렬)\n",
        "print(np.linalg.pinv(X_b).dot(y))"
      ],
      "execution_count": 4,
      "outputs": [
        {
          "output_type": "stream",
          "name": "stdout",
          "text": [
            "[3.88716772] [[2.93341231]]\n",
            "[[3.88716772]\n",
            " [9.75399235]]\n",
            "[[3.88716772]\n",
            " [2.93341231]]\n",
            "[[3.88716772]\n",
            " [2.93341231]]\n"
          ]
        }
      ]
    },
    {
      "cell_type": "code",
      "metadata": {
        "colab": {
          "base_uri": "https://localhost:8080/",
          "height": 303
        },
        "id": "oc01MVABvVwW",
        "outputId": "51d025b8-9faf-49b2-e374-b37eab7f3106"
      },
      "source": [
        "#경사 하강법\n",
        "eta = 0.1 #0.02 #0.5\n",
        "n_iterations = 1000\n",
        "m = 100\n",
        "\n",
        "theta = np.random.randn(2,1)\n",
        "\n",
        "for iteration in range(n_iterations):\n",
        "    gradients = 2/m * X_b.T.dot(X_b.dot(theta)- y)\n",
        "    theta = theta - eta * gradients\n",
        "    plt.plot(X, X_b.dot(theta), 'r-')\n",
        "print(theta)\n",
        "\n",
        "plt.plot(X,y, \"b.\")\n",
        "plt.axis([0, 2, 0, 15])\n",
        "plt.show()"
      ],
      "execution_count": 5,
      "outputs": [
        {
          "output_type": "stream",
          "name": "stdout",
          "text": [
            "[[3.88716772]\n",
            " [2.93341231]]\n"
          ]
        },
        {
          "output_type": "display_data",
          "data": {
            "image/png": "[encoded data removed]",
            "text/plain": [
              "<Figure size 432x288 with 1 Axes>"
            ]
          },
          "metadata": {
            "needs_background": "light"
          }
        }
      ]
    },
    {
      "cell_type": "code",
      "metadata": {
        "colab": {
          "base_uri": "https://localhost:8080/"
        },
        "id": "U_GOUmcZTBa1",
        "outputId": "1a0ba236-98bf-4ae6-9656-c8486d7c8da3"
      },
      "source": [
        "#SGD 학습 스케쥴 적용하기\n",
        "n_epochs = 50\n",
        "t0, t1 = 5, 50 #학습 스케쥴\n",
        "\n",
        "def learning_schedule(t):\n",
        "    return t0 / (t + t1)\n",
        "\n",
        "theta = np.random.randn(2, 1) #무작위 초기화\n",
        "\n",
        "for epoch in range(n_epochs):\n",
        "    for i in range(m):\n",
        "        random_index = np.random.randint(m)\n",
        "        xi = X_b[random_index:random_index+1]\n",
        "        yi = y[random_index:random_index+1]\n",
        "        gradients = 2 * xi.T.dot(xi.dot(theta) - yi)\n",
        "        eta = learning_schedule(epoch * m + i)\n",
        "        theta = theta - eta * gradients\n",
        "\n",
        "print(theta)"
      ],
      "execution_count": 6,
      "outputs": [
        {
          "output_type": "stream",
          "name": "stdout",
          "text": [
            "[[3.88677888]\n",
            " [2.93916115]]\n"
          ]
        }
      ]
    },
    {
      "cell_type": "code",
      "metadata": {
        "colab": {
          "base_uri": "https://localhost:8080/"
        },
        "id": "i62ihjAHXddM",
        "outputId": "f99f5006-45da-4987-f080-cb8bcf8c03b2"
      },
      "source": [
        "#sklearn의 SGDRegressor 사용해보기\n",
        "#SGDRegressor eta(t) = eta0 / t ** power_t  (default t = 0.01, power_t = 0.25)\n",
        "from sklearn.linear_model import SGDRegressor\n",
        "sgd_reg = SGDRegressor(max_iter=1000, tol=1e-3, penalty=None, eta0=0.1)\n",
        "sgd_reg.fit(X, y.ravel())\n",
        "print(sgd_reg.intercept_, sgd_reg.coef_)"
      ],
      "execution_count": 7,
      "outputs": [
        {
          "output_type": "stream",
          "name": "stdout",
          "text": [
            "[3.84577869] [2.91076503]\n"
          ]
        }
      ]
    },
    {
      "cell_type": "code",
      "metadata": {
        "colab": {
          "base_uri": "https://localhost:8080/",
          "height": 282
        },
        "id": "6buYe7VRzkS_",
        "outputId": "c740828a-a87d-43a3-f758-46a171b9403b"
      },
      "source": [
        "#다항 회귀\n",
        "m = 100\n",
        "X = 6 * np.random.rand(m, 1) - 3 #-3 ~ 3\n",
        "y = 0.5 * X ** 2 + X + 2 + np.random.randn(m, 1)\n",
        "plt.plot(X, y, '.')"
      ],
      "execution_count": 34,
      "outputs": [
        {
          "output_type": "execute_result",
          "data": {
            "text/plain": [
              "[<matplotlib.lines.Line2D at 0x7ffa4d9d1f90>]"
            ]
          },
          "metadata": {},
          "execution_count": 34
        },
        {
          "output_type": "display_data",
          "data": {
            "image/png": "[encoded data removed]",
            "text/plain": [
              "<Figure size 432x288 with 1 Axes>"
            ]
          },
          "metadata": {
            "needs_background": "light"
          }
        }
      ]
    },
    {
      "cell_type": "code",
      "metadata": {
        "colab": {
          "base_uri": "https://localhost:8080/"
        },
        "id": "1kU96Yq_0CwT",
        "outputId": "38159113-b8ba-48ac-96e6-ae3f36ba275b"
      },
      "source": [
        "#훈련세트(X) 의 각 특성을 제곱하여 새로운 특성으로 추가한다.\n",
        "from sklearn.preprocessing import PolynomialFeatures\n",
        "poly_features = PolynomialFeatures(degree=2, include_bias=False)\n",
        "X_poly = poly_features.fit_transform(X)\n",
        "print(X[0])\n",
        "print(X_poly[0])\n",
        "#Polynomial Features 같은경우 팩토리얼의 수준으로 늘어난다. degree = d, features = n : n개의 특성을 0 ~ d 개를 뽑을 수 있는 중복조합의 수"
      ],
      "execution_count": 35,
      "outputs": [
        {
          "output_type": "stream",
          "name": "stdout",
          "text": [
            "[1.63527275]\n",
            "[1.63527275 2.67411698]\n"
          ]
        }
      ]
    },
    {
      "cell_type": "code",
      "metadata": {
        "colab": {
          "base_uri": "https://localhost:8080/",
          "height": 300
        },
        "id": "OTcuW9Fd0ip8",
        "outputId": "cc2c4177-3c5e-499f-b222-ecc92483b128"
      },
      "source": [
        "#데이터셋을 변화시켜 선형 회귀로 비선형 데이터셋을 훈련시킨다.\n",
        "lin_reg = LinearRegression()\n",
        "lin_reg.fit(X_poly, y)\n",
        "print(lin_reg.intercept_, lin_reg.coef_)\n",
        "plt.plot(X, y, '.')\n",
        "plt.plot(X, lin_reg.predict(X_poly), 'r.')"
      ],
      "execution_count": 91,
      "outputs": [
        {
          "output_type": "stream",
          "name": "stdout",
          "text": [
            "[2.02487789] [[0.95866104 0.51368766]]\n"
          ]
        },
        {
          "output_type": "execute_result",
          "data": {
            "text/plain": [
              "[<matplotlib.lines.Line2D at 0x7ffa4c986a50>]"
            ]
          },
          "metadata": {},
          "execution_count": 91
        },
        {
          "output_type": "display_data",
          "data": {
            "image/png": "[encoded data removed]",
            "text/plain": [
              "<Figure size 432x288 with 1 Axes>"
            ]
          },
          "metadata": {
            "needs_background": "light"
          }
        }
      ]
    },
    {
      "cell_type": "code",
      "metadata": {
        "colab": {
          "base_uri": "https://localhost:8080/",
          "height": 269
        },
        "id": "D2qI9LTX5zmO",
        "outputId": "dc204c84-e009-4ac2-9fa8-5a8ba7ad36c2"
      },
      "source": [
        "#학습 곡선\n",
        "#훈련 세트, 검증 세트를 점차 추가하면서 과소적합, 과대적합 부분을 확인한다.\n",
        "\n",
        "from sklearn.metrics import mean_squared_error\n",
        "from sklearn.model_selection import train_test_split\n",
        "\n",
        "#1차 방정식 : 과소적합 그래프\n",
        "def plot_learning_curves(model, X, y):\n",
        "    X_train, X_val, y_train, y_val = train_test_split(X, y, test_size=0.2)\n",
        "    train_errors, val_errors = [], []\n",
        "    for m in range(1, len(X_train)):\n",
        "        model.fit(X_train[:m], y_train[:m])\n",
        "        y_train_predict = model.predict(X_train[:m])\n",
        "        y_val_predict = model.predict(X_val)\n",
        "        train_errors.append(mean_squared_error(y_train[:m], y_train_predict))\n",
        "        val_errors.append(mean_squared_error(y_val, y_val_predict))\n",
        "    plt.plot(np.sqrt(train_errors), \"r-+\", linewidth=2, label=\"훈련세트\")\n",
        "    plt.plot(np.sqrt(val_errors), \"b-\", linewidth=3, label=\"검증세트\")\n",
        "    plt.ylim(0, 3)\n",
        "lin_reg = LinearRegression()\n",
        "plot_learning_curves(lin_reg, X, y)"
      ],
      "execution_count": 71,
      "outputs": [
        {
          "output_type": "display_data",
          "data": {
            "image/png": "[encoded data removed]",
            "text/plain": [
              "<Figure size 432x288 with 1 Axes>"
            ]
          },
          "metadata": {
            "needs_background": "light"
          }
        }
      ]
    },
    {
      "cell_type": "code",
      "metadata": {
        "colab": {
          "base_uri": "https://localhost:8080/",
          "height": 269
        },
        "id": "h-c_iufQAIQT",
        "outputId": "932f73a8-613d-46bf-829e-e6535e6dd12e"
      },
      "source": [
        "#10차 방정식\n",
        "from sklearn.pipeline import Pipeline\n",
        "\n",
        "polynomial_regression = Pipeline([\n",
        "                                  (\"poly_features\", PolynomialFeatures(degree=10, include_bias=False)),\n",
        "                                  (\"lin_reg\", LinearRegression()),\n",
        "])\n",
        "plot_learning_curves(polynomial_regression, X, y)"
      ],
      "execution_count": 73,
      "outputs": [
        {
          "output_type": "display_data",
          "data": {
            "image/png": "[encoded data removed]",
            "text/plain": [
              "<Figure size 432x288 with 1 Axes>"
            ]
          },
          "metadata": {
            "needs_background": "light"
          }
        }
      ]
    },
    {
      "cell_type": "code",
      "metadata": {
        "colab": {
          "base_uri": "https://localhost:8080/",
          "height": 282
        },
        "id": "VHDqdyekEwL1",
        "outputId": "e0b97c9d-df69-47a5-b7c7-4c291f0e38de"
      },
      "source": [
        "#릿지 회귀, 규제적용\n",
        "from sklearn.linear_model import Ridge\n",
        "ridge_reg = Ridge(alpha=1, solver=\"cholesky\")\n",
        "ridge_reg.fit(X_poly, y)\n",
        "plt.plot(X,ridge_reg.predict(X_poly), '.' ,alpha=0.5)\n",
        "sgd_reg = SGDRegressor(penalty=\"l2\") #penalty l2 는 비용함수에 가중치 벡터의 l2 norm 제곱을 2로 나눈 규제항을 추가한다. ridge와 같다.\n",
        "sgd_reg.fit(X_poly, y.ravel())\n",
        "plt.plot(X, sgd_reg.predict(X_poly), 'r.',alpha=0.5)\n",
        "plt.plot(X, lin_reg.predict(X_poly), 'y.')"
      ],
      "execution_count": 89,
      "outputs": [
        {
          "output_type": "execute_result",
          "data": {
            "text/plain": [
              "[<matplotlib.lines.Line2D at 0x7ffa4caaa150>]"
            ]
          },
          "metadata": {},
          "execution_count": 89
        },
        {
          "output_type": "display_data",
          "data": {
            "image/png": "[encoded data removed]",
            "text/plain": [
              "<Figure size 432x288 with 1 Axes>"
            ]
          },
          "metadata": {
            "needs_background": "light"
          }
        }
      ]
    },
    {
      "cell_type": "code",
      "metadata": {
        "id": "kb3ZeUbwIIXX"
      },
      "source": [
        ""
      ],
      "execution_count": null,
      "outputs": []
    }
  ]
}