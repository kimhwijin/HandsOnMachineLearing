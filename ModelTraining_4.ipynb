{
  "nbformat": 4,
  "nbformat_minor": 0,
  "metadata": {
    "colab": {
      "name": "ModelTraining_4.ipynb",
      "provenance": [],
      "collapsed_sections": [],
      "authorship_tag": "ABX9TyOTD6M1b4BXGE9rG2W+BZSF",
      "include_colab_link": true
    },
    "kernelspec": {
      "name": "python3",
      "display_name": "Python 3"
    },
    "language_info": {
      "name": "python"
    }
  },
  "cells": [
    {
      "cell_type": "markdown",
      "metadata": {
        "id": "view-in-github",
        "colab_type": "text"
      },
      "source": [
        "<a href=\"https://colab.research.google.com/github/kimhwijin/HandsOnMachineLearing/blob/main/ModelTraining_4.ipynb\" target=\"_parent\"><img src=\"https://colab.research.google.com/assets/colab-badge.svg\" alt=\"Open In Colab\"/></a>"
      ]
    },
    {
      "cell_type": "code",
      "metadata": {
        "id": "IJ4VUYCVWO9z",
        "colab": {
          "base_uri": "https://localhost:8080/",
          "height": 284
        },
        "outputId": "89821c31-a80b-47f0-a822-eadc0fab36ac"
      },
      "source": [
        "#Model Training\n",
        "\n",
        "#정규방정식 증명\n",
        "#theta_hat = (X.T X)^-1 X.T Y \n",
        "import numpy as np\n",
        "import matplotlib.pyplot as plt\n",
        "X = 2 * np.random.rand(100 ,1)\n",
        "y = 4 + 3 * X + np.random.randn(100, 1) # 기대 파라미터 : 4, 3\n",
        "plt.plot(X, y, 'o')"
      ],
      "execution_count": 2,
      "outputs": [
        {
          "output_type": "execute_result",
          "data": {
            "text/plain": [
              "[<matplotlib.lines.Line2D at 0x7fe6c0cbdcd0>]"
            ]
          },
          "metadata": {},
          "execution_count": 2
        },
        {
          "output_type": "display_data",
          "data": {
            "image/png": "[encoded data removed]",
            "text/plain": [
              "<Figure size 432x288 with 1 Axes>"
            ]
          },
          "metadata": {
            "needs_background": "light"
          }
        }
      ]
    },
    {
      "cell_type": "code",
      "metadata": {
        "colab": {
          "base_uri": "https://localhost:8080/"
        },
        "id": "zo9uxQlvfmBC",
        "outputId": "37a216d0-bb79-4dda-c32c-774d36d7ab2f"
      },
      "source": [
        "#정규방정식을 통한 theta 계산\n",
        "X_b = np.c_[np.ones((100, 1)), X] #샘플에 x0 = 1 을 추가\n",
        "theta_best = np.linalg.inv(X_b.T.dot(X_b)).dot(X_b.T).dot(y)\n",
        "print(theta_best)\n",
        "#random.randn 가우시안 noise 때문에 정확한 예측은 안됌"
      ],
      "execution_count": 4,
      "outputs": [
        {
          "output_type": "stream",
          "name": "stdout",
          "text": [
            "[[4.07279024]\n",
            " [2.92365858]]\n"
          ]
        }
      ]
    },
    {
      "cell_type": "code",
      "metadata": {
        "colab": {
          "base_uri": "https://localhost:8080/",
          "height": 303
        },
        "id": "cBDYgmWLgHwT",
        "outputId": "0b56434e-3bad-4508-e0ac-fbbff8be0a04"
      },
      "source": [
        "X_new = np.array([[0], [2]])\n",
        "X_new_b =  np.c_[np.ones((2,1)), X_new]\n",
        "y_predict = X_new_b.dot(theta_best)\n",
        "print(y_predict)\n",
        "plt.plot(X_new, y_predict, 'r-')\n",
        "plt.plot(X,y, \"b.\")\n",
        "plt.axis([0, 2, 0, 15])\n",
        "plt.show()"
      ],
      "execution_count": 6,
      "outputs": [
        {
          "output_type": "stream",
          "name": "stdout",
          "text": [
            "[[4.07279024]\n",
            " [9.92010739]]\n"
          ]
        },
        {
          "output_type": "display_data",
          "data": {
            "image/png": "[encoded data removed]",
            "text/plain": [
              "<Figure size 432x288 with 1 Axes>"
            ]
          },
          "metadata": {
            "needs_background": "light"
          }
        }
      ]
    },
    {
      "cell_type": "code",
      "metadata": {
        "colab": {
          "base_uri": "https://localhost:8080/"
        },
        "id": "As8c5k7VjNWa",
        "outputId": "32a5beb4-4ad3-4e0b-ee25-eadc18ba85f8"
      },
      "source": [
        "#사이킷런의 선형 회귀\n",
        "from sklearn.linear_model import LinearRegression\n",
        "lin_reg = LinearRegression()\n",
        "lin_reg.fit(X, y)\n",
        "print(lin_reg.intercept_, lin_reg.coef_)\n",
        "print(lin_reg.predict(X_new))\n",
        "\n",
        "#LinearRegression -> 최소 제곱을 기반으로함\n",
        "theta_best_svd, residuals, rank, s = np.linalg.lstsq(X_b, y, rcond=1e-6)\n",
        "print(theta_best_svd)\n",
        "\n",
        "#theta_hat = X^+ y 를 계산한다. X^+ 는 유사역행렬(무어-펜로즈 역행렬)\n",
        "print(np.linalg.pinv(X_b).dot(y))"
      ],
      "execution_count": 9,
      "outputs": [
        {
          "output_type": "stream",
          "name": "stdout",
          "text": [
            "[4.07279024] [[2.92365858]]\n",
            "[[4.07279024]\n",
            " [9.92010739]]\n",
            "[[4.07279024]\n",
            " [2.92365858]]\n",
            "[[4.07279024]\n",
            " [2.92365858]]\n"
          ]
        }
      ]
    },
    {
      "cell_type": "code",
      "metadata": {
        "colab": {
          "base_uri": "https://localhost:8080/",
          "height": 303
        },
        "id": "oc01MVABvVwW",
        "outputId": "773b43cc-13f6-49cb-959c-f533c3dccc7a"
      },
      "source": [
        "#경사 하강법\n",
        "eta = 0.1 #0.02 #0.5\n",
        "n_iterations = 1000\n",
        "m = 100\n",
        "\n",
        "theta = np.random.randn(2,1)\n",
        "\n",
        "for iteration in range(n_iterations):\n",
        "    gradients = 2/m * X_b.T.dot(X_b.dot(theta)- y)\n",
        "    theta = theta - eta * gradients\n",
        "    plt.plot(X, X_b.dot(theta), 'r-')\n",
        "print(theta)\n",
        "\n",
        "plt.plot(X,y, \"b.\")\n",
        "plt.axis([0, 2, 0, 15])\n",
        "plt.show()"
      ],
      "execution_count": 15,
      "outputs": [
        {
          "output_type": "stream",
          "name": "stdout",
          "text": [
            "[[4.07279024]\n",
            " [2.92365858]]\n"
          ]
        },
        {
          "output_type": "display_data",
          "data": {
            "image/png": "[encoded data removed]",
            "text/plain": [
              "<Figure size 432x288 with 1 Axes>"
            ]
          },
          "metadata": {
            "needs_background": "light"
          }
        }
      ]
    }
  ]
}