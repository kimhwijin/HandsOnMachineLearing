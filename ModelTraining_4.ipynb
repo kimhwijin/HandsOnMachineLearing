{
  "nbformat": 4,
  "nbformat_minor": 0,
  "metadata": {
    "colab": {
      "name": "ModelTraining_4.ipynb",
      "provenance": [],
      "collapsed_sections": [],
      "authorship_tag": "ABX9TyM5QKaqqPrY9QeKBPB66Cfo",
      "include_colab_link": true
    },
    "kernelspec": {
      "name": "python3",
      "display_name": "Python 3"
    },
    "language_info": {
      "name": "python"
    }
  },
  "cells": [
    {
      "cell_type": "markdown",
      "metadata": {
        "id": "view-in-github",
        "colab_type": "text"
      },
      "source": [
        "<a href=\"https://colab.research.google.com/github/kimhwijin/HandsOnMachineLearing/blob/main/ModelTraining_4.ipynb\" target=\"_parent\"><img src=\"https://colab.research.google.com/assets/colab-badge.svg\" alt=\"Open In Colab\"/></a>"
      ]
    },
    {
      "cell_type": "code",
      "metadata": {
        "id": "IJ4VUYCVWO9z",
        "colab": {
          "base_uri": "https://localhost:8080/",
          "height": 284
        },
        "outputId": "3ba11866-e30a-4b48-b716-46b41c4f8698"
      },
      "source": [
        "#Model Training\n",
        "\n",
        "#정규방정식 증명\n",
        "#theta_hat = (X.T X)^-1 X.T Y \n",
        "import numpy as np\n",
        "import matplotlib.pyplot as plt\n",
        "X = 2 * np.random.rand(100 ,1)\n",
        "y = 4 + 3 * X + np.random.randn(100, 1) # 기대 파라미터 : 4, 3\n",
        "plt.plot(X, y, 'o')"
      ],
      "execution_count": 1,
      "outputs": [
        {
          "output_type": "execute_result",
          "data": {
            "text/plain": [
              "[<matplotlib.lines.Line2D at 0x7feeeec494d0>]"
            ]
          },
          "metadata": {},
          "execution_count": 1
        },
        {
          "output_type": "display_data",
          "data": {
            "image/png": "[encoded data removed]",
            "text/plain": [
              "<Figure size 432x288 with 1 Axes>"
            ]
          },
          "metadata": {
            "needs_background": "light"
          }
        }
      ]
    },
    {
      "cell_type": "code",
      "metadata": {
        "colab": {
          "base_uri": "https://localhost:8080/"
        },
        "id": "zo9uxQlvfmBC",
        "outputId": "eba173be-5978-4dbd-a3bb-1e90397c2f3a"
      },
      "source": [
        "#정규방정식을 통한 theta 계산\n",
        "X_b = np.c_[np.ones((100, 1)), X] #샘플에 x0 = 1 을 추가\n",
        "theta_best = np.linalg.inv(X_b.T.dot(X_b)).dot(X_b.T).dot(y)\n",
        "print(theta_best)\n",
        "#random.randn 가우시안 noise 때문에 정확한 예측은 안됌"
      ],
      "execution_count": 2,
      "outputs": [
        {
          "output_type": "stream",
          "name": "stdout",
          "text": [
            "[[4.07030493]\n",
            " [2.97335438]]\n"
          ]
        }
      ]
    },
    {
      "cell_type": "code",
      "metadata": {
        "colab": {
          "base_uri": "https://localhost:8080/",
          "height": 303
        },
        "id": "cBDYgmWLgHwT",
        "outputId": "3a831221-2f44-4190-890a-3d90fcda24b1"
      },
      "source": [
        "X_new = np.array([[0], [2]])\n",
        "X_new_b =  np.c_[np.ones((2,1)), X_new]\n",
        "y_predict = X_new_b.dot(theta_best)\n",
        "print(y_predict)\n",
        "plt.plot(X_new, y_predict, 'r-')\n",
        "plt.plot(X,y, \"b.\")\n",
        "plt.axis([0, 2, 0, 15])\n",
        "plt.show()"
      ],
      "execution_count": 3,
      "outputs": [
        {
          "output_type": "stream",
          "name": "stdout",
          "text": [
            "[[ 4.07030493]\n",
            " [10.01701368]]\n"
          ]
        },
        {
          "output_type": "display_data",
          "data": {
            "image/png": "[encoded data removed]",
            "text/plain": [
              "<Figure size 432x288 with 1 Axes>"
            ]
          },
          "metadata": {
            "needs_background": "light"
          }
        }
      ]
    },
    {
      "cell_type": "code",
      "metadata": {
        "colab": {
          "base_uri": "https://localhost:8080/"
        },
        "id": "As8c5k7VjNWa",
        "outputId": "99530f02-687b-4797-98a9-467034f86d19"
      },
      "source": [
        "#사이킷런의 선형 회귀\n",
        "from sklearn.linear_model import LinearRegression\n",
        "lin_reg = LinearRegression()\n",
        "lin_reg.fit(X, y)\n",
        "print(lin_reg.intercept_, lin_reg.coef_)\n",
        "print(lin_reg.predict(X_new))\n",
        "\n",
        "#LinearRegression -> 최소 제곱을 기반으로함\n",
        "theta_best_svd, residuals, rank, s = np.linalg.lstsq(X_b, y, rcond=1e-6)\n",
        "print(theta_best_svd)\n",
        "\n",
        "#theta_hat = X^+ y 를 계산한다. X^+ 는 유사역행렬(무어-펜로즈 역행렬)\n",
        "print(np.linalg.pinv(X_b).dot(y))"
      ],
      "execution_count": 4,
      "outputs": [
        {
          "output_type": "stream",
          "name": "stdout",
          "text": [
            "[4.07030493] [[2.97335438]]\n",
            "[[ 4.07030493]\n",
            " [10.01701368]]\n",
            "[[4.07030493]\n",
            " [2.97335438]]\n",
            "[[4.07030493]\n",
            " [2.97335438]]\n"
          ]
        }
      ]
    },
    {
      "cell_type": "code",
      "metadata": {
        "colab": {
          "base_uri": "https://localhost:8080/",
          "height": 303
        },
        "id": "oc01MVABvVwW",
        "outputId": "65777a40-9e1a-4510-aa44-39eb07ebe667"
      },
      "source": [
        "#경사 하강법\n",
        "eta = 0.1 #0.02 #0.5\n",
        "n_iterations = 1000\n",
        "m = 100\n",
        "\n",
        "theta = np.random.randn(2,1)\n",
        "\n",
        "for iteration in range(n_iterations):\n",
        "    gradients = 2/m * X_b.T.dot(X_b.dot(theta)- y)\n",
        "    theta = theta - eta * gradients\n",
        "    plt.plot(X, X_b.dot(theta), 'r-')\n",
        "print(theta)\n",
        "\n",
        "plt.plot(X,y, \"b.\")\n",
        "plt.axis([0, 2, 0, 15])\n",
        "plt.show()"
      ],
      "execution_count": 5,
      "outputs": [
        {
          "output_type": "stream",
          "name": "stdout",
          "text": [
            "[[4.07030493]\n",
            " [2.97335438]]\n"
          ]
        },
        {
          "output_type": "display_data",
          "data": {
            "image/png": "[encoded data removed]",
            "text/plain": [
              "<Figure size 432x288 with 1 Axes>"
            ]
          },
          "metadata": {
            "needs_background": "light"
          }
        }
      ]
    },
    {
      "cell_type": "code",
      "metadata": {
        "colab": {
          "base_uri": "https://localhost:8080/"
        },
        "id": "U_GOUmcZTBa1",
        "outputId": "0ca2eb92-44bd-4c0b-aa46-bfdb01bccaf8"
      },
      "source": [
        "#SGD 학습 스케쥴 적용하기\n",
        "n_epochs = 50\n",
        "t0, t1 = 5, 50 #학습 스케쥴\n",
        "\n",
        "def learning_schedule(t):\n",
        "    return t0 / (t + t1)\n",
        "\n",
        "theta = np.random.randn(2, 1) #무작위 초기화\n",
        "\n",
        "for epoch in range(n_epochs):\n",
        "    for i in range(m):\n",
        "        random_index = np.random.randint(m)\n",
        "        xi = X_b[random_index:random_index+1]\n",
        "        yi = y[random_index:random_index+1]\n",
        "        gradients = 2 * xi.T.dot(xi.dot(theta) - yi)\n",
        "        eta = learning_schedule(epoch * m + i)\n",
        "        theta = theta - eta * gradients\n",
        "\n",
        "print(theta)"
      ],
      "execution_count": 13,
      "outputs": [
        {
          "output_type": "stream",
          "name": "stdout",
          "text": [
            "[[4.04585382]\n",
            " [3.02004409]]\n"
          ]
        }
      ]
    },
    {
      "cell_type": "code",
      "metadata": {
        "colab": {
          "base_uri": "https://localhost:8080/"
        },
        "id": "i62ihjAHXddM",
        "outputId": "2f574554-0883-4120-aa6e-61b1d9d2d6de"
      },
      "source": [
        "#sklearn의 SGDRegressor 사용해보기\n",
        "#SGDRegressor eta(t) = eta0 / t ** power_t  (default t = 0.01, power_t = 0.25)\n",
        "from sklearn.linear_model import SGDRegressor\n",
        "sgd_reg = SGDRegressor(max_iter=1000, tol=1e-3, penalty=None, eta0=0.1)\n",
        "sgd_reg.fit(X, y.ravel())\n",
        "print(sgd_reg.intercept_, sgd_reg.coef_)"
      ],
      "execution_count": 14,
      "outputs": [
        {
          "output_type": "stream",
          "name": "stdout",
          "text": [
            "[4.0625539] [3.05640938]\n"
          ]
        }
      ]
    }
  ]
}