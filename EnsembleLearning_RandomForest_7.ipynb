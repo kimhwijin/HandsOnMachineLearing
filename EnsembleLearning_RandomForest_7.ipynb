{
  "nbformat": 4,
  "nbformat_minor": 0,
  "metadata": {
    "colab": {
      "name": "EnsembleLearning_RandomForest_7.ipynb",
      "provenance": [],
      "collapsed_sections": [],
      "authorship_tag": "ABX9TyOHuk9aUIdV6Hy3UuGSmqG2",
      "include_colab_link": true
    },
    "kernelspec": {
      "name": "python3",
      "display_name": "Python 3"
    },
    "language_info": {
      "name": "python"
    }
  },
  "cells": [
    {
      "cell_type": "markdown",
      "metadata": {
        "id": "view-in-github",
        "colab_type": "text"
      },
      "source": [
        "<a href=\"https://colab.research.google.com/github/kimhwijin/HandsOnMachineLearing/blob/main/EnsembleLearning_RandomForest_7.ipynb\" target=\"_parent\"><img src=\"https://colab.research.google.com/assets/colab-badge.svg\" alt=\"Open In Colab\"/></a>"
      ]
    },
    {
      "cell_type": "code",
      "metadata": {
        "id": "0eKzcZsAV_YJ"
      },
      "source": [
        "from sklearn.ensemble import RandomForestClassifier\n",
        "from sklearn.ensemble import VotingClassifier\n",
        "from sklearn.linear_model import LogisticRegression\n",
        "from sklearn.svm import SVC\n",
        "from sklearn import datasets\n",
        "import numpy as np\n"
      ],
      "execution_count": 1,
      "outputs": []
    },
    {
      "cell_type": "code",
      "metadata": {
        "id": "GaUpNH0VqHsQ"
      },
      "source": [
        "from sklearn.model_selection import train_test_split\n",
        "iris = datasets.make_moons(n_samples=1000, noise=0.4)\n",
        "X = iris[0]\n",
        "y = iris[1]\n",
        "X_train, X_test, y_train, y_test = train_test_split(X, y, test_size=0.4)"
      ],
      "execution_count": 2,
      "outputs": []
    },
    {
      "cell_type": "code",
      "metadata": {
        "id": "PGheOPrCa7UG"
      },
      "source": [
        "log_clf = LogisticRegression()\n",
        "rnd_clf = RandomForestClassifier()\n",
        "svm_clf = SVC()\n",
        "\n",
        "#3개의 분류기의 예측 클래스중 비중이 높은 클래스를 선택한다.\n",
        "voting_clf = VotingClassifier(\n",
        "    estimators=[('lr', log_clf), ('rf', rnd_clf), ('svc', svm_clf)],\n",
        "    voting='hard'\n",
        ")"
      ],
      "execution_count": 3,
      "outputs": []
    },
    {
      "cell_type": "code",
      "metadata": {
        "id": "CF2V3dONa-t1",
        "colab": {
          "base_uri": "https://localhost:8080/"
        },
        "outputId": "a51a52c3-e120-4749-e3cd-149d5bc2eba4"
      },
      "source": [
        "from sklearn.metrics import accuracy_score\n",
        "for clf in (log_clf, rnd_clf, svm_clf, voting_clf):\n",
        "    clf.fit(X_train, y_train)\n",
        "    y_pred = clf.predict(X_test)\n",
        "    print(clf.__class__.__name__, accuracy_score(y_test, y_pred))"
      ],
      "execution_count": 4,
      "outputs": [
        {
          "output_type": "stream",
          "name": "stdout",
          "text": [
            "LogisticRegression 0.845\n",
            "RandomForestClassifier 0.8475\n",
            "SVC 0.8925\n",
            "VotingClassifier 0.8725\n"
          ]
        }
      ]
    },
    {
      "cell_type": "code",
      "metadata": {
        "id": "VMpjDnkJsZzX",
        "colab": {
          "base_uri": "https://localhost:8080/"
        },
        "outputId": "51e461e2-4ed1-4dd9-d354-0532cf0f2d8e"
      },
      "source": [
        "from sklearn.ensemble import BaggingClassifier\n",
        "from sklearn.tree import DecisionTreeClassifier\n",
        "\n",
        "#결정 트리 500개를 이용해서, 무작위 100개의 sample을 추출한 후 훈련한다.\n",
        "bag_clf = BaggingClassifier(\n",
        "    DecisionTreeClassifier(), n_estimators=500,\n",
        "    max_samples=100, bootstrap=True, n_jobs=-1\n",
        ")\n",
        "\n",
        "bag_clf.fit(X_train, y_train)\n",
        "y_pred = bag_clf.predict(X_test)\n",
        "print(clf.__class__.__name__, accuracy_score(y_test, y_pred))"
      ],
      "execution_count": 5,
      "outputs": [
        {
          "output_type": "stream",
          "name": "stdout",
          "text": [
            "VotingClassifier 0.885\n"
          ]
        }
      ]
    },
    {
      "cell_type": "code",
      "metadata": {
        "colab": {
          "base_uri": "https://localhost:8080/"
        },
        "id": "5Z2uDTORNibX",
        "outputId": "85f4dbdd-812d-405d-841d-3ac75aa630d6"
      },
      "source": [
        "#oob 평가\n",
        "bag_clf = BaggingClassifier(\n",
        "    DecisionTreeClassifier(), n_estimators=500,\n",
        "    max_samples=100, bootstrap=True, n_jobs=-1, oob_score=True\n",
        ")\n",
        "bag_clf.fit(X_train, y_train)\n",
        "#훈련이 끝난시점 자동으로 oob 평가를 수행한다.\n",
        "print('oob', bag_clf.oob_score_)\n",
        "y_pred = bag_clf.predict(X_test)\n",
        "print(bag_clf.__class__.__name__, accuracy_score(y_test, y_pred))\n",
        "#oob 샘플에 대한 결정함수\n",
        "print(len(bag_clf.oob_decision_function_), bag_clf.oob_decision_function_)"
      ],
      "execution_count": 6,
      "outputs": [
        {
          "output_type": "stream",
          "name": "stdout",
          "text": [
            "oob 0.8583333333333333\n",
            "BaggingClassifier 0.8825\n",
            "600 [[0.02588235 0.97411765]\n",
            " [0.04205607 0.95794393]\n",
            " [0.98108747 0.01891253]\n",
            " ...\n",
            " [0.23185012 0.76814988]\n",
            " [0.68298368 0.31701632]\n",
            " [0.73522459 0.26477541]]\n"
          ]
        }
      ]
    },
    {
      "cell_type": "code",
      "metadata": {
        "colab": {
          "base_uri": "https://localhost:8080/"
        },
        "id": "3OvmBOf0Pu2g",
        "outputId": "d1e9ad52-5200-4f86-b4ff-32fa47eafb94"
      },
      "source": [
        "#RandomForestClassifier\n",
        "from sklearn.ensemble import RandomForestClassifier\n",
        "\n",
        "rnd_clf = RandomForestClassifier(n_estimators=500, max_leaf_nodes=16, n_jobs=-1)\n",
        "rnd_clf.fit(X_train, y_train)\n",
        "\n",
        "y_pred_rf = rnd_clf.predict(X_test)\n",
        "print(accuracy_score(y_test, y_pred_rf))"
      ],
      "execution_count": 7,
      "outputs": [
        {
          "output_type": "stream",
          "name": "stdout",
          "text": [
            "0.88\n"
          ]
        }
      ]
    },
    {
      "cell_type": "code",
      "metadata": {
        "colab": {
          "base_uri": "https://localhost:8080/"
        },
        "id": "WzwCYw2RONtl",
        "outputId": "d955278c-732e-437e-ecc1-27ce5636a4be"
      },
      "source": [
        "#특성 중요도\n",
        "from sklearn.datasets import load_iris\n",
        "iris = load_iris()\n",
        "rnd_clf = RandomForestClassifier(n_estimators=500, n_jobs=-1)\n",
        "rnd_clf.fit(iris['data'], iris['target'])\n",
        "for name, score in zip(iris['feature_names'], rnd_clf.feature_importances_):\n",
        "    print(name, score)\n"
      ],
      "execution_count": 8,
      "outputs": [
        {
          "output_type": "stream",
          "name": "stdout",
          "text": [
            "sepal length (cm) 0.08986248208552819\n",
            "sepal width (cm) 0.022406149995574293\n",
            "petal length (cm) 0.45596222327433195\n",
            "petal width (cm) 0.43176914464456556\n"
          ]
        }
      ]
    },
    {
      "cell_type": "code",
      "metadata": {
        "colab": {
          "base_uri": "https://localhost:8080/"
        },
        "id": "3J1DKh1wujlE",
        "outputId": "a09174dd-7650-41a3-ca81-700f149d7c0b"
      },
      "source": [
        "#Ada Boost\n",
        "#200개의 depth 1인 200개의 결정트리로 이루어진 Ada Boost\n",
        "\n",
        "from sklearn.ensemble import AdaBoostClassifier\n",
        "\n",
        "ada_clf = AdaBoostClassifier(\n",
        "    DecisionTreeClassifier(max_depth=1), n_estimators=200, algorithm='SAMME.R', learning_rate=0.5\n",
        ")\n",
        "ada_clf.fit(X_train, y_train)"
      ],
      "execution_count": 9,
      "outputs": [
        {
          "output_type": "execute_result",
          "data": {
            "text/plain": [
              "AdaBoostClassifier(algorithm='SAMME.R',\n",
              "                   base_estimator=DecisionTreeClassifier(ccp_alpha=0.0,\n",
              "                                                         class_weight=None,\n",
              "                                                         criterion='gini',\n",
              "                                                         max_depth=1,\n",
              "                                                         max_features=None,\n",
              "                                                         max_leaf_nodes=None,\n",
              "                                                         min_impurity_decrease=0.0,\n",
              "                                                         min_impurity_split=None,\n",
              "                                                         min_samples_leaf=1,\n",
              "                                                         min_samples_split=2,\n",
              "                                                         min_weight_fraction_leaf=0.0,\n",
              "                                                         presort='deprecated',\n",
              "                                                         random_state=None,\n",
              "                                                         splitter='best'),\n",
              "                   learning_rate=0.5, n_estimators=200, random_state=None)"
            ]
          },
          "metadata": {},
          "execution_count": 9
        }
      ]
    },
    {
      "cell_type": "code",
      "metadata": {
        "colab": {
          "base_uri": "https://localhost:8080/"
        },
        "id": "XEbR9nSG0nYt",
        "outputId": "37d435a1-7fe2-48c5-f2a6-786eb5bae1d2"
      },
      "source": [
        "#그레디언트 부스팅\n",
        "#그레디언트 트리 부스팅\n",
        "\n",
        "from sklearn.tree import DecisionTreeRegressor\n",
        "\n",
        "tree_reg1 = DecisionTreeClassifier(max_depth=2)\n",
        "tree_reg1.fit(X_train, y_train)"
      ],
      "execution_count": 10,
      "outputs": [
        {
          "output_type": "execute_result",
          "data": {
            "text/plain": [
              "DecisionTreeClassifier(ccp_alpha=0.0, class_weight=None, criterion='gini',\n",
              "                       max_depth=2, max_features=None, max_leaf_nodes=None,\n",
              "                       min_impurity_decrease=0.0, min_impurity_split=None,\n",
              "                       min_samples_leaf=1, min_samples_split=2,\n",
              "                       min_weight_fraction_leaf=0.0, presort='deprecated',\n",
              "                       random_state=None, splitter='best')"
            ]
          },
          "metadata": {},
          "execution_count": 10
        }
      ]
    },
    {
      "cell_type": "code",
      "metadata": {
        "id": "PVzGKXpE5PC8"
      },
      "source": [
        "y2 = y_train - tree_reg1.predict(X_train)\n",
        "tree_reg2 = DecisionTreeRegressor(max_depth=2)\n",
        "tree_reg2.fit(X_train, y2)\n",
        "\n",
        "y3 = y2 - tree_reg2.predict(X_train)\n",
        "tree_reg3 = DecisionTreeRegressor(max_depth=2)\n",
        "tree_reg3.fit(X_train, y3)\n",
        "\n",
        "y_pred = sum(tree.predict(X_test) for tree in (tree_reg1, tree_reg2, tree_reg3))"
      ],
      "execution_count": 11,
      "outputs": []
    },
    {
      "cell_type": "code",
      "metadata": {
        "colab": {
          "base_uri": "https://localhost:8080/"
        },
        "id": "gtJ8v1M65mrb",
        "outputId": "dfaff0cf-e933-4b4c-b886-7fa1fa8b3e88"
      },
      "source": [
        "from sklearn.ensemble import GradientBoostingRegressor\n",
        "\n",
        "#learning_rate 는 각트리의 기여 정도를 설정한다.\n",
        "\n",
        "gbrt = GradientBoostingRegressor(max_depth=2, n_estimators=3, learning_rate=1.0)\n",
        "gbrt.fit(X_train, y_train)"
      ],
      "execution_count": 12,
      "outputs": [
        {
          "output_type": "execute_result",
          "data": {
            "text/plain": [
              "GradientBoostingRegressor(alpha=0.9, ccp_alpha=0.0, criterion='friedman_mse',\n",
              "                          init=None, learning_rate=1.0, loss='ls', max_depth=2,\n",
              "                          max_features=None, max_leaf_nodes=None,\n",
              "                          min_impurity_decrease=0.0, min_impurity_split=None,\n",
              "                          min_samples_leaf=1, min_samples_split=2,\n",
              "                          min_weight_fraction_leaf=0.0, n_estimators=3,\n",
              "                          n_iter_no_change=None, presort='deprecated',\n",
              "                          random_state=None, subsample=1.0, tol=0.0001,\n",
              "                          validation_fraction=0.1, verbose=0, warm_start=False)"
            ]
          },
          "metadata": {},
          "execution_count": 12
        }
      ]
    },
    {
      "cell_type": "code",
      "metadata": {
        "id": "sidkjhg2IfH6",
        "colab": {
          "base_uri": "https://localhost:8080/",
          "height": 442
        },
        "outputId": "75c6f4a4-3995-42c1-ec1b-be851e436ce3"
      },
      "source": [
        "#gradient boost 최적의 트리개수 찾기\n",
        "import numpy as np\n",
        "from sklearn.model_selection import train_test_split\n",
        "from sklearn.metrics import mean_squared_error\n",
        "\n",
        "X_train, X_val, y_train, y_val = train_test_split(X, y)\n",
        "\n",
        "gbrt = GradientBoostingRegressor(max_depth=2, n_estimators=120)\n",
        "gbrt.fit(X_train, y_train)\n",
        "\n",
        "errors = [mean_squared_error(y_val, y_pred) for y_pred in gbrt.staged_predict(X_val)]\n",
        "best_n_estimators = np.argmin(errors)\n",
        "import matplotlib.pyplot as plt\n",
        "plt.plot(range(len(errors)), errors)\n",
        "print(best_n_estimators)\n",
        "gbrt_best = GradientBoostingRegressor(max_depth=2, n_estimators=best_n_estimators)\n",
        "gbrt_best.fit(X_train, y_train)"
      ],
      "execution_count": 16,
      "outputs": [
        {
          "output_type": "stream",
          "name": "stdout",
          "text": [
            "38\n"
          ]
        },
        {
          "output_type": "execute_result",
          "data": {
            "text/plain": [
              "GradientBoostingRegressor(alpha=0.9, ccp_alpha=0.0, criterion='friedman_mse',\n",
              "                          init=None, learning_rate=0.1, loss='ls', max_depth=2,\n",
              "                          max_features=None, max_leaf_nodes=None,\n",
              "                          min_impurity_decrease=0.0, min_impurity_split=None,\n",
              "                          min_samples_leaf=1, min_samples_split=2,\n",
              "                          min_weight_fraction_leaf=0.0, n_estimators=38,\n",
              "                          n_iter_no_change=None, presort='deprecated',\n",
              "                          random_state=None, subsample=1.0, tol=0.0001,\n",
              "                          validation_fraction=0.1, verbose=0, warm_start=False)"
            ]
          },
          "metadata": {},
          "execution_count": 16
        },
        {
          "output_type": "display_data",
          "data": {
            "image/png": "[encoded data removed]",
            "text/plain": [
              "<Figure size 432x288 with 1 Axes>"
            ]
          },
          "metadata": {
            "needs_background": "light"
          }
        }
      ]
    },
    {
      "cell_type": "code",
      "metadata": {
        "id": "h4qAHo76W47d"
      },
      "source": [
        "#warm start True : 기존 트리를 유지하고 훈련을 추가한다.\n",
        "gbrt = GradientBoostingRegressor(max_depth=2, warm_start=True)\n",
        "\n",
        "min_val_error = float(\"inf\")\n",
        "error_going_up = 0\n",
        "for n_estimators in range(1, 120):\n",
        "    gbrt.n_estimators = n_estimators\n",
        "    gbrt.fit(X_train, y_train)\n",
        "\n",
        "    y_pred = gbrt.predict(X_val)\n",
        "    val_error = mean_squared_error(y_val, y_pred)\n",
        "    if val_error < min_val_error:\n",
        "        min_val_error = val_error\n",
        "        error_going_up = 0\n",
        "    else:\n",
        "        error_going_up = -1\n",
        "        if error_going_up == 5:\n",
        "            break #조기 종료\n"
      ],
      "execution_count": null,
      "outputs": []
    },
    {
      "cell_type": "code",
      "metadata": {
        "colab": {
          "base_uri": "https://localhost:8080/"
        },
        "id": "746a-sjrZcfV",
        "outputId": "d390ac22-4231-460e-dcd0-8fa7198b91a9"
      },
      "source": [
        "#XGBoost\n",
        "\n",
        "import xgboost\n",
        "\n",
        "xgb_reg = xgboost.XGBRegressor()\n",
        "xgb_reg.fit(X_train, y_train)\n",
        "y_pred = xgb_reg.predict(X_val)\n",
        "print(mean_squared_error(y_val, y_pred))\n",
        "print('---')\n",
        "xgb_reg.fit(X_train, y_train, eval_set=[(X_val, y_val)], early_stopping_rounds=2)\n",
        "y_pred = xgb_reg.predict(X_val)\n",
        "print(mean_squared_error(y_val, y_pred))"
      ],
      "execution_count": 20,
      "outputs": [
        {
          "output_type": "stream",
          "name": "stdout",
          "text": [
            "[06:06:57] WARNING: /workspace/src/objective/regression_obj.cu:152: reg:linear is now deprecated in favor of reg:squarederror.\n",
            "0.11471230984157137\n",
            "---\n",
            "[06:06:57] WARNING: /workspace/src/objective/regression_obj.cu:152: reg:linear is now deprecated in favor of reg:squarederror.\n",
            "[0]\tvalidation_0-rmse:0.472304\n",
            "Will train until validation_0-rmse hasn't improved in 2 rounds.\n",
            "[1]\tvalidation_0-rmse:0.44872\n",
            "[2]\tvalidation_0-rmse:0.428514\n",
            "[3]\tvalidation_0-rmse:0.412093\n",
            "[4]\tvalidation_0-rmse:0.39746\n",
            "[5]\tvalidation_0-rmse:0.385809\n",
            "[6]\tvalidation_0-rmse:0.375213\n",
            "[7]\tvalidation_0-rmse:0.366429\n",
            "[8]\tvalidation_0-rmse:0.359537\n",
            "[9]\tvalidation_0-rmse:0.353214\n",
            "[10]\tvalidation_0-rmse:0.34849\n",
            "[11]\tvalidation_0-rmse:0.345257\n",
            "[12]\tvalidation_0-rmse:0.342111\n",
            "[13]\tvalidation_0-rmse:0.340131\n",
            "[14]\tvalidation_0-rmse:0.338041\n",
            "[15]\tvalidation_0-rmse:0.337086\n",
            "[16]\tvalidation_0-rmse:0.336106\n",
            "[17]\tvalidation_0-rmse:0.335752\n",
            "[18]\tvalidation_0-rmse:0.333872\n",
            "[19]\tvalidation_0-rmse:0.333951\n",
            "[20]\tvalidation_0-rmse:0.332558\n",
            "[21]\tvalidation_0-rmse:0.332436\n",
            "[22]\tvalidation_0-rmse:0.332267\n",
            "[23]\tvalidation_0-rmse:0.330995\n",
            "[24]\tvalidation_0-rmse:0.331525\n",
            "[25]\tvalidation_0-rmse:0.330943\n",
            "[26]\tvalidation_0-rmse:0.331038\n",
            "[27]\tvalidation_0-rmse:0.330414\n",
            "[28]\tvalidation_0-rmse:0.331114\n",
            "[29]\tvalidation_0-rmse:0.331887\n",
            "Stopping. Best iteration:\n",
            "[27]\tvalidation_0-rmse:0.330414\n",
            "\n",
            "0.10917329055846091\n"
          ]
        }
      ]
    },
    {
      "cell_type": "code",
      "metadata": {
        "id": "9VWZvaPkaT7z"
      },
      "source": [
        ""
      ],
      "execution_count": null,
      "outputs": []
    }
  ]
}