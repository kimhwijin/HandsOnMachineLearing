{
  "nbformat": 4,
  "nbformat_minor": 0,
  "metadata": {
    "colab": {
      "name": "AutoEncoder_GAN_17.ipynb",
      "provenance": [],
      "toc_visible": true,
      "authorship_tag": "ABX9TyOCtZlle0kmcvJ8zMS749SF",
      "include_colab_link": true
    },
    "kernelspec": {
      "name": "python3",
      "display_name": "Python 3"
    },
    "language_info": {
      "name": "python"
    },
    "accelerator": "GPU"
  },
  "cells": [
    {
      "cell_type": "markdown",
      "metadata": {
        "id": "view-in-github",
        "colab_type": "text"
      },
      "source": [
        "<a href=\"https://colab.research.google.com/github/kimhwijin/HandsOnMachineLearing/blob/main/AutoEncoder_GAN_17.ipynb\" target=\"_parent\"><img src=\"https://colab.research.google.com/assets/colab-badge.svg\" alt=\"Open In Colab\"/></a>"
      ]
    },
    {
      "cell_type": "code",
      "execution_count": 16,
      "metadata": {
        "id": "O2qeOWUaO0dY"
      },
      "outputs": [],
      "source": [
        "from tensorflow import keras\n",
        "import numpy as np\n",
        "import tensorflow as tf\n",
        "import matplotlib.pyplot as plt\n",
        "tf.random.set_seed(42)\n",
        "np.random.seed(42)"
      ]
    },
    {
      "cell_type": "markdown",
      "source": [
        "#UnderComplete_AutoEncoder_PCA"
      ],
      "metadata": {
        "id": "6h5HlUmpPJki"
      }
    },
    {
      "cell_type": "code",
      "source": [
        "#3 -> 2\n",
        "encoder = keras.models.Sequential([\n",
        "    keras.layers.Dense(2, input_shape=[3])\n",
        "])\n",
        "#2 -> 3\n",
        "decoder = keras.models.Sequential([\n",
        "    keras.layers.Dense(3, input_shape=[2])\n",
        "])\n",
        "autoencoder = keras.models.Sequential([\n",
        "    encoder,\n",
        "    decoder\n",
        "])\n",
        "\n",
        "autoencoder.compile(loss='mse', optimizer=keras.optimizers.SGD(learning_rate=0.1))"
      ],
      "metadata": {
        "id": "jJ_9Tes3O7tw"
      },
      "execution_count": 5,
      "outputs": []
    },
    {
      "cell_type": "code",
      "source": [
        "def generate_3d_data(m, w1=0.1, w2=0.3, noise=0.1):\n",
        "    angles = np.random.rand(m) * 3 * np.pi / 2 - 0.5\n",
        "    data = np.empty((m,3))\n",
        "    data[:, 0] = np.cos(angles) + np.sin(angles) / 2 + noise * np.random.randn(m) / 2\n",
        "    data[:, 1] = np.sin(angles) * 0.7 + noise * np.random.randn(m) / 2\n",
        "    data[:, 2] = data[:, 0] * w1 + data[:, 1] * w2 + noise * np.random.randn(m)\n",
        "\n",
        "    return data\n",
        "\n",
        "X_train = generate_3d_data(60)\n",
        "#(3, )\n",
        "#print(X_train.mean(axis=0, keepdims=0).shape)\n",
        "X_train = X_train - X_train.mean(axis=0, keepdims=0)"
      ],
      "metadata": {
        "colab": {
          "base_uri": "https://localhost:8080/"
        },
        "id": "R94woOyPPjkQ",
        "outputId": "a44ed0c9-39f9-4555-bab4-596b59db7003"
      },
      "execution_count": 13,
      "outputs": [
        {
          "output_type": "stream",
          "name": "stdout",
          "text": [
            "(3,)\n"
          ]
        }
      ]
    },
    {
      "cell_type": "code",
      "source": [
        "history = autoencoder.fit(X_train, X_train, epochs=20)"
      ],
      "metadata": {
        "colab": {
          "base_uri": "https://localhost:8080/"
        },
        "id": "SZELeQ2fQpbx",
        "outputId": "2eac222e-3237-43fe-fa38-73240f0bbcc9"
      },
      "execution_count": 14,
      "outputs": [
        {
          "output_type": "stream",
          "name": "stdout",
          "text": [
            "Epoch 1/20\n",
            "2/2 [==============================] - 2s 8ms/step - loss: 0.9995\n",
            "Epoch 2/20\n",
            "2/2 [==============================] - 0s 5ms/step - loss: 0.6578\n",
            "Epoch 3/20\n",
            "2/2 [==============================] - 0s 5ms/step - loss: 0.5046\n",
            "Epoch 4/20\n",
            "2/2 [==============================] - 0s 5ms/step - loss: 0.4215\n",
            "Epoch 5/20\n",
            "2/2 [==============================] - 0s 8ms/step - loss: 0.3697\n",
            "Epoch 6/20\n",
            "2/2 [==============================] - 0s 7ms/step - loss: 0.3352\n",
            "Epoch 7/20\n",
            "2/2 [==============================] - 0s 5ms/step - loss: 0.3104\n",
            "Epoch 8/20\n",
            "2/2 [==============================] - 0s 5ms/step - loss: 0.2915\n",
            "Epoch 9/20\n",
            "2/2 [==============================] - 0s 6ms/step - loss: 0.2762\n",
            "Epoch 10/20\n",
            "2/2 [==============================] - 0s 5ms/step - loss: 0.2643\n",
            "Epoch 11/20\n",
            "2/2 [==============================] - 0s 6ms/step - loss: 0.2518\n",
            "Epoch 12/20\n",
            "2/2 [==============================] - 0s 5ms/step - loss: 0.2412\n",
            "Epoch 13/20\n",
            "2/2 [==============================] - 0s 5ms/step - loss: 0.2310\n",
            "Epoch 14/20\n",
            "2/2 [==============================] - 0s 5ms/step - loss: 0.2212\n",
            "Epoch 15/20\n",
            "2/2 [==============================] - 0s 5ms/step - loss: 0.2118\n",
            "Epoch 16/20\n",
            "2/2 [==============================] - 0s 6ms/step - loss: 0.2008\n",
            "Epoch 17/20\n",
            "2/2 [==============================] - 0s 7ms/step - loss: 0.1910\n",
            "Epoch 18/20\n",
            "2/2 [==============================] - 0s 5ms/step - loss: 0.1810\n",
            "Epoch 19/20\n",
            "2/2 [==============================] - 0s 7ms/step - loss: 0.1709\n",
            "Epoch 20/20\n",
            "2/2 [==============================] - 0s 5ms/step - loss: 0.1605\n"
          ]
        }
      ]
    },
    {
      "cell_type": "code",
      "source": [
        "codings = encoder.predict(X_train)\n",
        "\n",
        "fig = plt.figure(figsize=(4,3))\n",
        "plt.plot(codings[:,0], codings[:, 1], \"b.\")\n",
        "plt.xlabel(\"$z_1$\", fontsize=18)\n",
        "plt.ylabel(\"$z_2$\", fontsize=18, rotation=0)\n",
        "plt.grid(True)\n",
        "plt.show()"
      ],
      "metadata": {
        "colab": {
          "base_uri": "https://localhost:8080/",
          "height": 233
        },
        "id": "FuirHyp-RDIS",
        "outputId": "09764634-94e9-4145-8d09-99a288bf1cc6"
      },
      "execution_count": 19,
      "outputs": [
        {
          "output_type": "display_data",
          "data": {
            "image/png": "[encoded data removed]",
            "text/plain": [
              "<Figure size 288x216 with 1 Axes>"
            ]
          },
          "metadata": {
            "needs_background": "light"
          }
        }
      ]
    },
    {
      "cell_type": "code",
      "source": [
        ""
      ],
      "metadata": {
        "id": "qJ9jhyEwRRmV"
      },
      "execution_count": null,
      "outputs": []
    }
  ]
}