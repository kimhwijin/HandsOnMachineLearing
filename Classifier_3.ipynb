{
  "nbformat": 4,
  "nbformat_minor": 0,
  "metadata": {
    "accelerator": "TPU",
    "colab": {
      "name": "Classifier_3.ipynb",
      "provenance": [],
      "collapsed_sections": [],
      "authorship_tag": "ABX9TyNNZfxz42uJjwoVgnPdZ7dc",
      "include_colab_link": true
    },
    "kernelspec": {
      "display_name": "Python 3",
      "name": "python3"
    },
    "language_info": {
      "name": "python"
    }
  },
  "cells": [
    {
      "cell_type": "markdown",
      "metadata": {
        "id": "view-in-github",
        "colab_type": "text"
      },
      "source": [
        "<a href=\"https://colab.research.google.com/github/kimhwijin/HandsOnMachineLearing/blob/main/Classifier_3.ipynb\" target=\"_parent\"><img src=\"https://colab.research.google.com/assets/colab-badge.svg\" alt=\"Open In Colab\"/></a>"
      ]
    },
    {
      "cell_type": "code",
      "metadata": {
        "colab": {
          "base_uri": "https://localhost:8080/"
        },
        "id": "iaK4G81C1Btv",
        "outputId": "0b60cba7-d3ca-496c-9498-477c6280a7e4"
      },
      "source": [
        "from sklearn.datasets import fetch_openml\n",
        "import numpy as np\n",
        "\n",
        "mnist = fetch_openml('mnist_784', version=1)\n",
        "print(mnist.keys())"
      ],
      "execution_count": 3,
      "outputs": [
        {
          "output_type": "stream",
          "name": "stdout",
          "text": [
            "dict_keys(['data', 'target', 'frame', 'feature_names', 'target_names', 'DESCR', 'details', 'categories', 'url'])\n"
          ]
        }
      ]
    },
    {
      "cell_type": "code",
      "metadata": {
        "colab": {
          "base_uri": "https://localhost:8080/"
        },
        "id": "wp7qxb5A1Nmv",
        "outputId": "0ada5139-c2a0-41ae-dca8-295d89349f95"
      },
      "source": [
        "X, y = mnist['data'], mnist['target']\n",
        "print(X.shape, y.shape)"
      ],
      "execution_count": 4,
      "outputs": [
        {
          "output_type": "stream",
          "name": "stdout",
          "text": [
            "(70000, 784) (70000,)\n"
          ]
        }
      ]
    },
    {
      "cell_type": "code",
      "metadata": {
        "colab": {
          "base_uri": "https://localhost:8080/",
          "height": 267
        },
        "id": "es0NR2SX1daf",
        "outputId": "ff70a66e-8fa3-4fff-916e-fe00d05c17d2"
      },
      "source": [
        "#데이터 확인\n",
        "import matplotlib.pyplot as plt\n",
        "import matplotlib as mpl\n",
        "\n",
        "some_digit = X[0]\n",
        "some_label = y[0]\n",
        "some_digit_image = some_digit.reshape(28, 28)\n",
        "\n",
        "plt.imshow(some_digit_image, cmap='binary')\n",
        "plt.axis(\"off\")\n",
        "plt.show\n",
        "print(\"label : \", some_label)"
      ],
      "execution_count": 16,
      "outputs": [
        {
          "output_type": "stream",
          "name": "stdout",
          "text": [
            "label :  5\n"
          ]
        },
        {
          "output_type": "display_data",
          "data": {
            "image/png": "[encoded data removed]",
            "text/plain": [
              "<Figure size 432x288 with 1 Axes>"
            ]
          },
          "metadata": {
            "needs_background": "light"
          }
        }
      ]
    },
    {
      "cell_type": "code",
      "metadata": {
        "id": "Bt7G5LYz2TMD"
      },
      "source": [
        "#레이블 타입 변환\n",
        "y = y.astype(np.uint8)"
      ],
      "execution_count": 6,
      "outputs": []
    },
    {
      "cell_type": "code",
      "metadata": {
        "id": "acAG9drq2TTb"
      },
      "source": [
        "X_train, X_test, y_train, y_test = X[:60000], X[60000:], y[:60000], y[60000:]"
      ],
      "execution_count": 7,
      "outputs": []
    },
    {
      "cell_type": "code",
      "metadata": {
        "colab": {
          "base_uri": "https://localhost:8080/"
        },
        "id": "dZKD1C6j3dOX",
        "outputId": "40aeee50-da62-4354-ecc9-b4c18444dd19"
      },
      "source": [
        "from sklearn.linear_model import SGDClassifier\n",
        "\n",
        "#이진분류기 y = 5 인경우만\n",
        "y_train_5 = y_train == 5\n",
        "y_test_5 = y_test == 5\n",
        "sgd_clf = SGDClassifier(random_state=42)\n",
        "sgd_clf.fit(X_train, y_train_5)"
      ],
      "execution_count": null,
      "outputs": [
        {
          "data": {
            "text/plain": [
              "SGDClassifier(alpha=0.0001, average=False, class_weight=None,\n",
              "              early_stopping=False, epsilon=0.1, eta0=0.0, fit_intercept=True,\n",
              "              l1_ratio=0.15, learning_rate='optimal', loss='hinge',\n",
              "              max_iter=1000, n_iter_no_change=5, n_jobs=None, penalty='l2',\n",
              "              power_t=0.5, random_state=42, shuffle=True, tol=0.001,\n",
              "              validation_fraction=0.1, verbose=0, warm_start=False)"
            ]
          },
          "execution_count": 6,
          "metadata": {},
          "output_type": "execute_result"
        }
      ]
    },
    {
      "cell_type": "code",
      "metadata": {
        "colab": {
          "base_uri": "https://localhost:8080/"
        },
        "id": "MZPALo0v4Apr",
        "outputId": "e4c8b9b2-5887-4329-94d0-cba3f2fd6904"
      },
      "source": [
        "print(sgd_clf.predict([some_digit]))"
      ],
      "execution_count": null,
      "outputs": [
        {
          "name": "stdout",
          "output_type": "stream",
          "text": [
            "[ True]\n"
          ]
        }
      ]
    },
    {
      "cell_type": "code",
      "metadata": {
        "colab": {
          "base_uri": "https://localhost:8080/"
        },
        "id": "XLdEtsu16aj2",
        "outputId": "edb37cd5-08ac-4954-c1c0-e5a982e46fbc"
      },
      "source": [
        "#정확도 측정 구현\n",
        "#k개 fold 교차검증\n",
        "from sklearn.model_selection import StratifiedKFold\n",
        "from sklearn.base import clone\n",
        "\n",
        "skfolds = StratifiedKFold(n_splits=3, random_state=42, shuffle=True)\n",
        "\n",
        "for train_index, test_index in skfolds.split(X_train, y_train_5):\n",
        "    clone_clf = clone(sgd_clf)\n",
        "    X_train_folds = X_train[train_index]\n",
        "    y_train_folds = y_train_5[train_index]\n",
        "    X_test_fold = X_train[test_index]\n",
        "    y_test_fold = y_train_5[test_index]\n",
        "\n",
        "    clone_clf.fit(X_train_folds, y_train_folds)\n",
        "    y_pred = clone_clf.predict(X_test_fold)\n",
        "    n_correct = sum(y_pred == y_test_fold)\n",
        "    print(n_correct / len(y_pred))\n",
        "\n",
        "from sklearn.model_selection import cross_val_score\n",
        "print(cross_val_score(sgd_clf, X_train, y_train_5, cv=3, scoring='accuracy'))"
      ],
      "execution_count": null,
      "outputs": [
        {
          "name": "stdout",
          "output_type": "stream",
          "text": [
            "0.9669\n",
            "0.91625\n",
            "0.96785\n",
            "[0.95035 0.96035 0.9604 ]\n"
          ]
        }
      ]
    },
    {
      "cell_type": "code",
      "metadata": {
        "colab": {
          "base_uri": "https://localhost:8080/"
        },
        "id": "dZrS0aHE4awD",
        "outputId": "e485a992-7127-4fc7-f161-c2f78a638f98"
      },
      "source": [
        "#5가 아닐확률 : 90%\n",
        "from sklearn.base import BaseEstimator\n",
        "class Never5Classifier(BaseEstimator):\n",
        "    def fit(self, X, y=None):\n",
        "        return self\n",
        "    def predict(self, X):\n",
        "        return np.zeros((len(X), 1), dtype=bool)\n",
        "never_5_clf = Never5Classifier()\n",
        "cross_val_score(never_5_clf, X_train, y_train_5, cv=3, scoring='accuracy')"
      ],
      "execution_count": null,
      "outputs": [
        {
          "data": {
            "text/plain": [
              "array([0.91125, 0.90855, 0.90915])"
            ]
          },
          "execution_count": 10,
          "metadata": {},
          "output_type": "execute_result"
        }
      ]
    },
    {
      "cell_type": "code",
      "metadata": {
        "id": "AwNx96Ym7bFn"
      },
      "source": [
        "#오차 행렬을 이용한 성능 평가\n",
        "from sklearn.model_selection import cross_val_predict\n",
        "y_train_pred = cross_val_predict(sgd_clf, X_train, y_train_5, cv=3)\n",
        "\n",
        "from sklearn.metrics import confusion_matrix\n",
        "print(confusion_matrix(y_train_5, y_train_pred))"
      ],
      "execution_count": null,
      "outputs": []
    },
    {
      "cell_type": "code",
      "metadata": {
        "colab": {
          "base_uri": "https://localhost:8080/"
        },
        "id": "0N0EAnB2AVhj",
        "outputId": "960b740c-27e0-49df-b373-3baaaa38399e"
      },
      "source": [
        "from sklearn.metrics import precision_score, recall_score\n",
        "#정밀도 평가\n",
        "print(precision_score(y_train_5, y_train_pred)) # == 3530 / 3530 + 687\n",
        "#민감도 평가\n",
        "print(recall_score(y_train_5, y_train_pred)) # == 3530 / 3530 + 1891"
      ],
      "execution_count": null,
      "outputs": [
        {
          "name": "stdout",
          "output_type": "stream",
          "text": [
            "0.8370879772350012\n",
            "0.6511713705958311\n"
          ]
        }
      ]
    },
    {
      "cell_type": "code",
      "metadata": {
        "colab": {
          "base_uri": "https://localhost:8080/"
        },
        "id": "keKcGRX_Dg60",
        "outputId": "50977cca-0894-449f-8e24-8987461715f5"
      },
      "source": [
        "#F1 점수\n",
        "from sklearn.metrics import f1_score\n",
        "print(f1_score(y_train_5, y_train_pred))"
      ],
      "execution_count": null,
      "outputs": [
        {
          "name": "stdout",
          "output_type": "stream",
          "text": [
            "0.7325171197343846\n"
          ]
        }
      ]
    },
    {
      "cell_type": "code",
      "metadata": {
        "colab": {
          "base_uri": "https://localhost:8080/"
        },
        "id": "UCn4heu2Ezeu",
        "outputId": "d2ec0fed-aa5e-49cb-c6de-df4a7d2ecb32"
      },
      "source": [
        "#결정 함수, 결정 임계값 측정\n",
        "y_scores = sgd_clf.decision_function([some_digit])\n",
        "print(y_scores)\n",
        "\n",
        "threshold = 0\n",
        "y_some_digit_pred = (y_scores > threshold)\n",
        "print(y_some_digit_pred)\n",
        "\n",
        "#임계값 상승\n",
        "threshold = 8000\n",
        "y_some_digit_pred = (y_scores > threshold)\n",
        "print(y_some_digit_pred)\n",
        "#임계값을 높이면 재현율이 줄어든다."
      ],
      "execution_count": null,
      "outputs": [
        {
          "name": "stdout",
          "output_type": "stream",
          "text": [
            "[2164.22030239]\n",
            "[ True]\n",
            "[False]\n"
          ]
        }
      ]
    },
    {
      "cell_type": "code",
      "metadata": {
        "id": "nftgH7VqKeZE"
      },
      "source": [
        "#모든 훈련 세트 샘플 점수 구하기\n",
        "y_scores = cross_val_predict(sgd_clf, X_train, y_train_5, cv=3, method=\"decision_function\")"
      ],
      "execution_count": null,
      "outputs": []
    },
    {
      "cell_type": "code",
      "metadata": {
        "colab": {
          "base_uri": "https://localhost:8080/",
          "height": 265
        },
        "id": "gwxhE1BHKvQ5",
        "outputId": "2756ea94-3853-4ec2-db30-7629f88314c4"
      },
      "source": [
        "from sklearn.metrics import precision_recall_curve\n",
        "precisions, recalls, thresholds = precision_recall_curve(y_train_5, y_scores)\n",
        "\n",
        "def plot_precision_recall_vs_threshold(precisions, recalls, thresholds):\n",
        "    plt.plot(thresholds, precisions[:-1], \"b--\", label=\"정밀도\")\n",
        "    plt.plot(thresholds, recalls[:-1], \"g-\", label=\"재현율\")\n",
        "plot_precision_recall_vs_threshold(precisions, recalls, thresholds)\n",
        "plt.show()"
      ],
      "execution_count": null,
      "outputs": [
        {
          "data": {
            "image/png": "[encoded data removed]",
            "text/plain": [
              "<Figure size 432x288 with 1 Axes>"
            ]
          },
          "metadata": {},
          "output_type": "display_data"
        }
      ]
    },
    {
      "cell_type": "code",
      "metadata": {
        "colab": {
          "base_uri": "https://localhost:8080/",
          "height": 265
        },
        "id": "lyhwl9CmMLmC",
        "outputId": "d1449fc8-2372-47c2-d782-c7ea512b0231"
      },
      "source": [
        "#재현율에 대한 정밀도\n",
        "plt.plot(recalls[:-1], precisions[:-1], \"-\")\n",
        "plt.show()"
      ],
      "execution_count": null,
      "outputs": [
        {
          "data": {
            "image/png": "[encoded data removed]",
            "text/plain": [
              "<Figure size 432x288 with 1 Axes>"
            ]
          },
          "metadata": {},
          "output_type": "display_data"
        }
      ]
    },
    {
      "cell_type": "code",
      "metadata": {
        "colab": {
          "base_uri": "https://localhost:8080/"
        },
        "id": "eZoIPgGfMQ5I",
        "outputId": "f0941b0e-9c99-4fca-c9f9-5e9010195382"
      },
      "source": [
        "#정밀도 90%를 달성하는 분류기\n",
        "threshold_90_precision = thresholds[np.argmax(precisions >= 0.90)]\n",
        "y_train_pred_90 = (y_scores >= threshold_90_precision)\n",
        "print(precision_score(y_train_5, y_train_pred_90))\n",
        "print(recall_score(y_train_5, y_train_pred_90))\n",
        "#낮은 재현율에서의 높은 정밀도는 의미없다!"
      ],
      "execution_count": null,
      "outputs": [
        {
          "name": "stdout",
          "output_type": "stream",
          "text": [
            "0.9000345901072293\n",
            "0.4799852425751706\n"
          ]
        }
      ]
    },
    {
      "cell_type": "code",
      "metadata": {
        "colab": {
          "base_uri": "https://localhost:8080/",
          "height": 265
        },
        "id": "PJkS0UjSNcxs",
        "outputId": "2411c044-191e-4ca9-92b4-c5bcd98ad59a"
      },
      "source": [
        "#TPR 에 대한 FPR 의 곡선그래프\n",
        "from sklearn.metrics import roc_curve\n",
        "\n",
        "fpr, tpr, thresholds = roc_curve(y_train_5, y_scores)\n",
        "\n",
        "def plot_roc_curve(fpr, tpr, label=None):\n",
        "    plt.plot(fpr, tpr, linewidth=2, label=label)\n",
        "    plt.plot([0,1], [0,1], \"k--\")\n",
        "\n",
        "plot_roc_curve(fpr, tpr)\n",
        "plt.show()"
      ],
      "execution_count": null,
      "outputs": [
        {
          "data": {
            "image/png": "[encoded data removed]",
            "text/plain": [
              "<Figure size 432x288 with 1 Axes>"
            ]
          },
          "metadata": {},
          "output_type": "display_data"
        }
      ]
    },
    {
      "cell_type": "code",
      "metadata": {
        "colab": {
          "base_uri": "https://localhost:8080/"
        },
        "id": "glFSfuopRpmx",
        "outputId": "241d2a5c-c91f-4153-d700-8241aa9cca32"
      },
      "source": [
        "#AUC로 분류기 성능측정\n",
        "from sklearn.metrics import roc_auc_score\n",
        "print(roc_auc_score(y_train_5, y_scores))"
      ],
      "execution_count": null,
      "outputs": [
        {
          "name": "stdout",
          "output_type": "stream",
          "text": [
            "0.9604938554008616\n"
          ]
        }
      ]
    },
    {
      "cell_type": "code",
      "metadata": {
        "id": "n_5ctsOESRKr"
      },
      "source": [
        "#RandomForestClassifier을 훈련시켜 SGDClassifier의 ROC곡선과 ROC AUC점수를 비교한다.\n",
        "from sklearn.ensemble import RandomForestClassifier\n",
        "\n",
        "#모델생성\n",
        "forest_clf = RandomForestClassifier(random_state=42)\n",
        "#훈련\n",
        "y_probas_forest = cross_val_predict(forest_clf, X_train, y_train_5, cv=5, method=\"predict_proba\")"
      ],
      "execution_count": null,
      "outputs": []
    },
    {
      "cell_type": "code",
      "metadata": {
        "id": "MYK1BtZzTRpo"
      },
      "source": [
        "#양성 클래스에 대한 확률을 점수로 사용한다.\n",
        "y_scores_forest = y_probas_forest[:, 1]\n",
        "fpr_forest, tpr_forset, thresholds_forest = roc_curve(y_train_5, y_scores_forest)\n",
        "\n",
        "#곡선을 그린다\n",
        "plt.plot(fpr, tpr, \"b:\", label=\"SGD\")\n",
        "plot_roc_curve(fpr_forest, tpr_forset, \"random forest\")\n",
        "plt.show()\n",
        "\n",
        "#Random forest classifier가 훨씬 좋은 모습을 보여준다."
      ],
      "execution_count": null,
      "outputs": []
    },
    {
      "cell_type": "code",
      "metadata": {
        "id": "rPt8ErDeTvty"
      },
      "source": [
        "#SVM을 통해서 다중 분류기 테스트\n",
        "from sklearn.svm import SVC\n",
        "svm_clf = SVC()\n",
        "#내부적으로 N (N-1) 개의 이진 분류기 생성\n",
        "svm_clf.fit(X_train, y_train)\n",
        "print(svm_clf.predict([some_digit]))"
      ],
      "execution_count": null,
      "outputs": []
    },
    {
      "cell_type": "code",
      "metadata": {
        "id": "h_52FWvFeM8I"
      },
      "source": [
        "#각 클래스의 결정 점수 확인\n",
        "some_digit_scores = svm_clf.decision_function([some_digit])\n",
        "print(some_digit_scores)\n",
        "#9.xx인 가장높은점수가 5"
      ],
      "execution_count": null,
      "outputs": []
    },
    {
      "cell_type": "code",
      "metadata": {
        "id": "GFeLOCI4M29o"
      },
      "source": [
        "#SVC 기반 OvR 분류기를 사용하는 다중 분류기전략\n",
        "'''\n",
        "from sklearn.multiclass import OneVsRestClassifier\n",
        "ovr_clf = OneVsRestClassifier(SVC())\n",
        "ovr_clf.fit(X_train, y_train)\n",
        "\n",
        "print(ovr_clf.predict([some_digit]))\n",
        "print(len(ovr_clf.estimators_))\n",
        "'''"
      ],
      "execution_count": null,
      "outputs": []
    },
    {
      "cell_type": "code",
      "metadata": {
        "colab": {
          "background_save": true,
          "base_uri": "https://localhost:8080/"
        },
        "id": "ePGju25hVHRi",
        "outputId": "a4ce343d-d4cf-4d12-dea8-fe93ca3b78b2"
      },
      "source": [
        "#SGD 분류기 : 직접으로 다중 클래스 분류가능\n",
        "sgd_clf.fit(X_train, y_train)\n",
        "sgd_clf.predict([some_digit])\n",
        "\n",
        "print(sgd_clf.decision_function([some_digit]))\n",
        "print(cross_val_score(sgd_clf, X_train, y_train, cv=3, scoring='accuracy'))"
      ],
      "execution_count": null,
      "outputs": [
        {
          "name": "stdout",
          "output_type": "stream",
          "text": [
            "[[-31893.03095419 -34419.69069632  -9530.63950739   1823.73154031\n",
            "  -22320.14822878  -1385.80478895 -26188.91070951 -16147.51323997\n",
            "   -4604.35491274 -12050.767298  ]]\n",
            "[0.87365 0.85835 0.8689 ]\n"
          ]
        }
      ]
    },
    {
      "cell_type": "code",
      "metadata": {
        "colab": {
          "background_save": true
        },
        "id": "KFmXgx6YV7s6",
        "outputId": "4b927eec-7a55-40bc-b87a-27786d87c2c2"
      },
      "source": [
        "#입력의 스케일을 조정\n",
        "from sklearn.preprocessing import StandardScaler\n",
        "scaler = StandardScaler()\n",
        "X_train_scaled = scaler.fit_transform(X_train.astype(np.float64))\n",
        "\n",
        "#정확도 점수 측정\n",
        "print(cross_val_score(sgd_clf, X_train_scaled, y_train, cv=3, scoring='accuracy'))\n",
        "\n",
        "#confusion matrix를 통해 오차를 확인한다.\n",
        "y_train_pred = cross_val_predict(sgd_clf, X_train_scaled, y_train, cv=3)\n",
        "conf_mx = confusion_matrix(y_train, y_train_pred)\n",
        "print(conf_mx)\n",
        "\n",
        "#이미지로 변환\n",
        "plt.matshow(conf_mx, cmap=plt.cm.gray)\n",
        "plt.show()"
      ],
      "execution_count": null,
      "outputs": [
        {
          "name": "stdout",
          "output_type": "stream",
          "text": [
            "[0.8983 0.891  0.9018]\n",
            "[[5577    0   22    5    8   43   36    6  225    1]\n",
            " [   0 6400   37   24    4   44    4    7  212   10]\n",
            " [  27   27 5220   92   73   27   67   36  378   11]\n",
            " [  22   17  117 5227    2  203   27   40  403   73]\n",
            " [  12   14   41    9 5182   12   34   27  347  164]\n",
            " [  27   15   30  168   53 4444   75   14  535   60]\n",
            " [  30   15   42    3   44   97 5552    3  131    1]\n",
            " [  21   10   51   30   49   12    3 5684  195  210]\n",
            " [  17   63   48   86    3  126   25   10 5429   44]\n",
            " [  25   18   30   64  118   36    1  179  371 5107]]\n"
          ]
        },
        {
          "data": {
            "image/png": "[encoded data removed]",
            "text/plain": [
              "<Figure size 288x288 with 1 Axes>"
            ]
          },
          "metadata": {},
          "output_type": "display_data"
        }
      ]
    },
    {
      "cell_type": "code",
      "metadata": {
        "colab": {
          "background_save": true
        },
        "id": "ytfJQ8zV7FX7"
      },
      "source": [
        "#특정 클래스 데이터 개수가 적거나, 분류기가 특정 클래스를 잘 분류하지못하는 경우를 확인한다.\n",
        "\n",
        "#confusion matrix에 각 클래스의 데이터개수를 나누어서 데이터를 비율화 한다.\n",
        "row_soms = conf_mx.sum(axis=1, keepdims=True)\n",
        "norm_conf_mx = conf_mx / row_sums\n",
        "np.fill_diagonal(norm_conf_mx, 0)\n",
        "plt.matshow(norm_conf_mx, cmap=plt.cm.gray)\n",
        "plt.show()"
      ],
      "execution_count": null,
      "outputs": []
    },
    {
      "cell_type": "code",
      "metadata": {
        "id": "M0ayVB8PvgOq"
      },
      "source": [
        "# 숫자 그림을 위한 추가 함수\n",
        "def plot_digits(instances, images_per_row=10, **options):\n",
        "    size = 28\n",
        "    images_per_row = min(len(instances), images_per_row)\n",
        "    images = [instance.reshape(size,size) for instance in instances]\n",
        "    n_rows = (len(instances) - 1) // images_per_row + 1\n",
        "    row_images = []\n",
        "    n_empty = n_rows * images_per_row - len(instances)\n",
        "    images.append(np.zeros((size, size * n_empty)))\n",
        "    for row in range(n_rows):\n",
        "        rimages = images[row * images_per_row : (row + 1) * images_per_row]\n",
        "        row_images.append(np.concatenate(rimages, axis=1))\n",
        "    image = np.concatenate(row_images, axis=0)\n",
        "    plt.imshow(image, cmap = matplotlib.cm.binary, **options)\n",
        "    plt.axis(\"off\")"
      ],
      "execution_count": 14,
      "outputs": []
    },
    {
      "cell_type": "code",
      "metadata": {
        "colab": {
          "background_save": true
        },
        "id": "PhgHDFXD-qrW"
      },
      "source": [
        "#개개의 에러 분석하기\n",
        "cl_a, cl_b = 6, 8\n",
        "X_aa = X_train[(y_train == cl_a) && (y_train_pred == cl_a)]\n",
        "X_ab = X_train[(y_train == cl_a) && (y_train_pred == cl_b)]\n",
        "X_ba = X_train[(y_train == cl_b) && (y_train_pred == cl_a)]\n",
        "X_bb = X_train[(y_train == cl_b) && (y_train_pred == cl_b)]\n",
        "\n",
        "plt.figure(figsize=(8,8))\n",
        "\n",
        "\n",
        "plt.subplot(221); plot_digits(X_aa[:25], images_per_row=5)\n",
        "plt.subplot(222); plot_digits(X_ab[:25], images_per_row=5)\n",
        "plt.subplot(223); plot_digits(X_ba[:25], images_per_row=5)\n",
        "plt.subplot(224); plot_digits(X_bb[:25], images_per_row=5)"
      ],
      "execution_count": null,
      "outputs": []
    },
    {
      "cell_type": "code",
      "metadata": {
        "colab": {
          "base_uri": "https://localhost:8080/"
        },
        "id": "jGi_XKNzCx7a",
        "outputId": "cfd6bd08-3cd6-428f-fd4c-e328ecf6858b"
      },
      "source": [
        "#다중 레이블 분류\n",
        "#다중 레이블 분류를 지원하는 KNeighborsClassfier 사용\n",
        "from sklearn.neighbors import KNeighborsClassifier\n",
        "\n",
        "#7, 8, 9\n",
        "y_train_large = (y_train >= 7)\n",
        "#홀수\n",
        "y_train_odd = (y_train % 2 == 1)\n",
        "y_multilabel = np.c_[y_train_large, y_train_odd]\n",
        "\n",
        "knn_clf = KNeighborsClassifier()\n",
        "knn_clf.fit(X_train, y_multilabel)\n",
        "# 5\n",
        "print(knn_clf.predict([some_digit]))\n",
        "#false large, true odd"
      ],
      "execution_count": 9,
      "outputs": [
        {
          "output_type": "stream",
          "name": "stdout",
          "text": [
            "[[False  True]]\n"
          ]
        }
      ]
    },
    {
      "cell_type": "code",
      "metadata": {
        "id": "9NJ1bXobr2P1"
      },
      "source": [
        "#다중 레이블 분류기 평가\n",
        "#교차검증\n",
        "y_train_knn_pred = cross_val_predict(knn_clf, X_train, y_train, y_multilabel, cv=3)\n",
        "print(f1_score(y_multilabel, y_train_knn_pred, average=\"marcro\"))\n",
        "#print(f1_score(y_multilabel, y_train_knn_pred, average=\"weight\"))"
      ],
      "execution_count": null,
      "outputs": []
    },
    {
      "cell_type": "code",
      "metadata": {
        "id": "IrREHMmhs8mV"
      },
      "source": [
        "#다중 출력 분류\n",
        "#이미지의 잡음을 제거하는 시스템을 만들어보자\n",
        "\n",
        "#노이즈 이미지 생성 및 타깃 이미지\n",
        "noise = np.random.randint(0, 100, (len(X_train), 784))\n",
        "X_train_mod = X_train + noise\n",
        "noise = np.random.randint(0, 100, (len(X_test), 784))\n",
        "X_test_mod = X_test + noise\n",
        "y_train_mod = X_train\n",
        "y_test_mod = X_test"
      ],
      "execution_count": 12,
      "outputs": []
    },
    {
      "cell_type": "code",
      "metadata": {
        "colab": {
          "base_uri": "https://localhost:8080/",
          "height": 254
        },
        "id": "U2SXeOYTvOES",
        "outputId": "5320acd2-787c-44b8-bd19-ceb2eab016b0"
      },
      "source": [
        "plot_digits([X_train_mod[some_index], y_train_mod[some_index]])\n",
        "some_index = 10\n",
        "knn_clf.fit(X_train_mod, y_train_mod)"
      ],
      "execution_count": 26,
      "outputs": [
        {
          "output_type": "execute_result",
          "data": {
            "text/plain": [
              "KNeighborsClassifier(algorithm='auto', leaf_size=30, metric='minkowski',\n",
              "                     metric_params=None, n_jobs=None, n_neighbors=5, p=2,\n",
              "                     weights='uniform')"
            ]
          },
          "metadata": {},
          "execution_count": 26
        },
        {
          "output_type": "display_data",
          "data": {
            "image/png": "[encoded data removed]",
            "text/plain": [
              "<Figure size 432x288 with 1 Axes>"
            ]
          },
          "metadata": {
            "needs_background": "light"
          }
        }
      ]
    },
    {
      "cell_type": "code",
      "metadata": {
        "colab": {
          "base_uri": "https://localhost:8080/",
          "height": 248
        },
        "id": "tPnOOATPxuY4",
        "outputId": "ca135281-4cea-4468-ca34-026aa204fdba"
      },
      "source": [
        "import matplotlib\n",
        "\n",
        "clean_digit = knn_clf.predict([X_test_mod[some_index]])\n",
        "plot_digits(clean_digit)"
      ],
      "execution_count": 27,
      "outputs": [
        {
          "output_type": "display_data",
          "data": {
            "image/png": "[encoded data removed]",
            "text/plain": [
              "<Figure size 432x288 with 1 Axes>"
            ]
          },
          "metadata": {
            "needs_background": "light"
          }
        }
      ]
    }
  ]
}