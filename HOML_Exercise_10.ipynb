{
  "nbformat": 4,
  "nbformat_minor": 0,
  "metadata": {
    "colab": {
      "name": "HOML_Exercise_10.ipynb",
      "provenance": [],
      "authorship_tag": "ABX9TyMANidfeREXpo6VxUwZ7t5n",
      "include_colab_link": true
    },
    "kernelspec": {
      "name": "python3",
      "display_name": "Python 3"
    },
    "language_info": {
      "name": "python"
    },
    "accelerator": "GPU"
  },
  "cells": [
    {
      "cell_type": "markdown",
      "metadata": {
        "id": "view-in-github",
        "colab_type": "text"
      },
      "source": [
        "<a href=\"https://colab.research.google.com/github/kimhwijin/HandsOnMachineLearing/blob/main/HOML_Exercise_10.ipynb\" target=\"_parent\"><img src=\"https://colab.research.google.com/assets/colab-badge.svg\" alt=\"Open In Colab\"/></a>"
      ]
    },
    {
      "cell_type": "code",
      "metadata": {
        "id": "ZULuOds7blvA"
      },
      "source": [
        "import tensorflow as tf\n",
        "from tensorflow import keras\n",
        "import numpy as np\n",
        "import matplotlib.pyplot as plt\n",
        "import os\n",
        "\n",
        "keras.backend.clear_session()\n",
        "np.random.seed(42)\n",
        "tf.random.set_seed(42)\n"
      ],
      "execution_count": 3,
      "outputs": []
    },
    {
      "cell_type": "code",
      "metadata": {
        "colab": {
          "base_uri": "https://localhost:8080/"
        },
        "id": "MdJJh4zCbhea",
        "outputId": "31711aec-4f8b-4cf5-b554-dd860fabbcf1"
      },
      "source": [
        "#10\n",
        "(X_train_full, y_train_full), (X_test, y_test) = keras.datasets.mnist.load_data()\n",
        "\n",
        "\n",
        "X_valid, X_train = X_train_full[:5000] / 255., X_train_full[5000:] / 255.\n",
        "y_valid, y_train = y_train_full[:5000], y_train_full[5000:]\n",
        "X_test = X_test / 255.\n",
        "X_train, X_valid, X_test = X_train.astype(np.float32), X_valid.astype(np.float32), X_test.astype(np.float32)"
      ],
      "execution_count": 2,
      "outputs": [
        {
          "output_type": "stream",
          "name": "stdout",
          "text": [
            "Downloading data from https://storage.googleapis.com/tensorflow/tf-keras-datasets/mnist.npz\n",
            "11493376/11490434 [==============================] - 0s 0us/step\n",
            "11501568/11490434 [==============================] - 0s 0us/step\n"
          ]
        }
      ]
    },
    {
      "cell_type": "code",
      "metadata": {
        "colab": {
          "base_uri": "https://localhost:8080/",
          "height": 308
        },
        "id": "L52hB74Qcfph",
        "outputId": "ee06cce9-6db8-4ac7-f24f-51ba0bbc1301"
      },
      "source": [
        "n_rows = 4\n",
        "n_cols = 10\n",
        "plt.figure(figsize=(n_cols * 1.2, n_rows * 1.2))\n",
        "for row in range(n_rows):\n",
        "    for col in range(n_cols):\n",
        "        index = n_cols * row + col\n",
        "        plt.subplot(n_rows, n_cols, index + 1)\n",
        "        plt.imshow(X_train[index], cmap=\"binary\", interpolation=\"nearest\")\n",
        "        plt.axis('off')\n",
        "        plt.title(y_train[index], fontsize=12)\n",
        "plt.subplots_adjust(wspace=0.2, hspace=0.5)\n",
        "plt.show()"
      ],
      "execution_count": 4,
      "outputs": [
        {
          "output_type": "display_data",
          "data": {
            "image/png": "[encoded data removed]",
            "text/plain": [
              "<Figure size 864x345.6 with 40 Axes>"
            ]
          },
          "metadata": {
            "needs_background": "light"
          }
        }
      ]
    },
    {
      "cell_type": "code",
      "metadata": {
        "id": "sKCdo6vSckM8"
      },
      "source": [
        "#최적의 학습률 찾기\n",
        "\n",
        "K = keras.backend\n",
        "\n",
        "class ExponentialLearningRate(keras.callbacks.Callback):\n",
        "    def __init__(self, factor):\n",
        "        self.factor = factor\n",
        "        self.rates = []\n",
        "        self.losses = []\n",
        "\n",
        "    #1 배치 끝날때\n",
        "    def on_batch_end(self, batch, logs):\n",
        "        self.rates.append(K.get_value(self.model.optimizer.lr))\n",
        "        self.losses.append(logs[\"loss\"])\n",
        "        K.set_value(self.model.optimizer.lr, self.model.optimizer.lr * self.factor)\n"
      ],
      "execution_count": 5,
      "outputs": []
    },
    {
      "cell_type": "code",
      "metadata": {
        "id": "mPVQZwVacfxm"
      },
      "source": [
        "model = keras.models.Sequential([\n",
        "    keras.layers.Flatten(input_shape=[28, 28]),\n",
        "    keras.layers.Dense(300, activation=\"relu\"),\n",
        "    keras.layers.Dense(100, activation=\"relu\"),\n",
        "    keras.layers.Dense(10, activation=\"softmax\")\n",
        "])\n",
        "\n",
        "model.compile(loss=keras.losses.sparse_categorical_crossentropy,\n",
        "              optimizer=keras.optimizers.SGD(learning_rate=1e-3),\n",
        "              metrics=[\"accuracy\"])\n",
        "#배치가 끝날때 학습률을 0.5% 씩 증가시킨다.\n",
        "expon_lr = ExponentialLearningRate(factor=1.005)"
      ],
      "execution_count": 6,
      "outputs": []
    },
    {
      "cell_type": "code",
      "metadata": {
        "colab": {
          "base_uri": "https://localhost:8080/"
        },
        "id": "h-RQnzGLdZ5I",
        "outputId": "668e87e7-9bef-4c82-9515-c05c11c6f93e"
      },
      "source": [
        "history = model.fit(X_train, y_train, epochs=1,\n",
        "                    validation_data=(X_valid, y_valid),\n",
        "                    callbacks=[expon_lr])"
      ],
      "execution_count": 7,
      "outputs": [
        {
          "output_type": "stream",
          "name": "stdout",
          "text": [
            "1719/1719 [==============================] - 8s 3ms/step - loss: nan - accuracy: 0.5658 - val_loss: nan - val_accuracy: 0.0958\n"
          ]
        }
      ]
    },
    {
      "cell_type": "code",
      "metadata": {
        "colab": {
          "base_uri": "https://localhost:8080/",
          "height": 300
        },
        "id": "IybcC2xIdoMv",
        "outputId": "e161e492-1bd8-488d-b378-914d11442299"
      },
      "source": [
        "plt.plot(expon_lr.rates, expon_lr.losses)\n",
        "plt.gca().set_xscale('log')\n",
        "plt.hlines(min(expon_lr.losses), min(expon_lr.rates), max(expon_lr.rates))\n",
        "plt.axis([min(expon_lr.rates), max(expon_lr.rates), 0, expon_lr.losses[0]])\n",
        "plt.grid()\n",
        "plt.xlabel(\"Learning rate\")\n",
        "plt.ylabel(\"Loss\")"
      ],
      "execution_count": 8,
      "outputs": [
        {
          "output_type": "execute_result",
          "data": {
            "text/plain": [
              "Text(0, 0.5, 'Loss')"
            ]
          },
          "metadata": {},
          "execution_count": 8
        },
        {
          "output_type": "display_data",
          "data": {
            "image/png": "[encoded data removed]",
            "text/plain": [
              "<Figure size 432x288 with 1 Axes>"
            ]
          },
          "metadata": {
            "needs_background": "light"
          }
        }
      ]
    },
    {
      "cell_type": "code",
      "metadata": {
        "id": "VnUl16nreOwo"
      },
      "source": [
        "model = keras.models.Sequential([\n",
        "    keras.layers.Flatten(input_shape=[28, 28]),\n",
        "    keras.layers.Dense(300, activation=\"relu\"),\n",
        "    keras.layers.Dense(100, activation=\"relu\"),\n",
        "    keras.layers.Dense(10, activation=\"softmax\")\n",
        "])\n",
        "\n",
        "model.compile(loss=keras.losses.sparse_categorical_crossentropy,\n",
        "              optimizer=keras.optimizers.SGD(learning_rate=3e-1),\n",
        "              metrics=[\"accuracy\"])\n",
        "\n",
        "run_index = 1 # 실행할 때마다 이 값을 늘립니다\n",
        "run_logdir = os.path.join(os.curdir, \"my_mnist_logs\", \"run_{:03d}\".format(run_index))\n",
        "\n",
        "early_stopping_cb = keras.callbacks.EarlyStopping(patience=20)\n",
        "checkpoint_cb = keras.callbacks.ModelCheckpoint(\"my_mnist_model.h5\", save_best_only=True)\n",
        "tensorboard_cb = keras.callbacks.TensorBoard(run_logdir)"
      ],
      "execution_count": 9,
      "outputs": []
    },
    {
      "cell_type": "code",
      "metadata": {
        "colab": {
          "base_uri": "https://localhost:8080/"
        },
        "id": "JBLdojaYel7Q",
        "outputId": "3bf767c8-6102-4d67-b342-165df62cfbc5"
      },
      "source": [
        "history = model.fit(X_train, y_train, epochs=100,\n",
        "                    validation_data=(X_valid, y_valid),\n",
        "                    callbacks=[checkpoint_cb, early_stopping_cb, tensorboard_cb])"
      ],
      "execution_count": 10,
      "outputs": [
        {
          "output_type": "stream",
          "name": "stdout",
          "text": [
            "Epoch 1/100\n",
            "1719/1719 [==============================] - 5s 2ms/step - loss: 0.2338 - accuracy: 0.9270 - val_loss: 0.1048 - val_accuracy: 0.9682\n",
            "Epoch 2/100\n",
            "1719/1719 [==============================] - 4s 2ms/step - loss: 0.0934 - accuracy: 0.9707 - val_loss: 0.0921 - val_accuracy: 0.9710\n",
            "Epoch 3/100\n",
            "1719/1719 [==============================] - 4s 2ms/step - loss: 0.0660 - accuracy: 0.9790 - val_loss: 0.0726 - val_accuracy: 0.9808\n",
            "Epoch 4/100\n",
            "1719/1719 [==============================] - 4s 2ms/step - loss: 0.0467 - accuracy: 0.9850 - val_loss: 0.0750 - val_accuracy: 0.9788\n",
            "Epoch 5/100\n",
            "1719/1719 [==============================] - 4s 2ms/step - loss: 0.0354 - accuracy: 0.9890 - val_loss: 0.0789 - val_accuracy: 0.9796\n",
            "Epoch 6/100\n",
            "1719/1719 [==============================] - 4s 2ms/step - loss: 0.0288 - accuracy: 0.9908 - val_loss: 0.0675 - val_accuracy: 0.9830\n",
            "Epoch 7/100\n",
            "1719/1719 [==============================] - 4s 2ms/step - loss: 0.0230 - accuracy: 0.9926 - val_loss: 0.0879 - val_accuracy: 0.9812\n",
            "Epoch 8/100\n",
            "1719/1719 [==============================] - 4s 2ms/step - loss: 0.0173 - accuracy: 0.9943 - val_loss: 0.0921 - val_accuracy: 0.9780\n",
            "Epoch 9/100\n",
            "1719/1719 [==============================] - 4s 2ms/step - loss: 0.0190 - accuracy: 0.9937 - val_loss: 0.0899 - val_accuracy: 0.9802\n",
            "Epoch 10/100\n",
            "1719/1719 [==============================] - 4s 2ms/step - loss: 0.0148 - accuracy: 0.9950 - val_loss: 0.0790 - val_accuracy: 0.9824\n",
            "Epoch 11/100\n",
            "1719/1719 [==============================] - 4s 2ms/step - loss: 0.0090 - accuracy: 0.9972 - val_loss: 0.0984 - val_accuracy: 0.9808\n",
            "Epoch 12/100\n",
            "1719/1719 [==============================] - 4s 2ms/step - loss: 0.0099 - accuracy: 0.9970 - val_loss: 0.1015 - val_accuracy: 0.9778\n",
            "Epoch 13/100\n",
            "1719/1719 [==============================] - 4s 2ms/step - loss: 0.0092 - accuracy: 0.9967 - val_loss: 0.0914 - val_accuracy: 0.9804\n",
            "Epoch 14/100\n",
            "1719/1719 [==============================] - 4s 2ms/step - loss: 0.0071 - accuracy: 0.9976 - val_loss: 0.0952 - val_accuracy: 0.9822\n",
            "Epoch 15/100\n",
            "1719/1719 [==============================] - 4s 2ms/step - loss: 0.0058 - accuracy: 0.9983 - val_loss: 0.0898 - val_accuracy: 0.9822\n",
            "Epoch 16/100\n",
            "1719/1719 [==============================] - 4s 2ms/step - loss: 0.0060 - accuracy: 0.9981 - val_loss: 0.0902 - val_accuracy: 0.9840\n",
            "Epoch 17/100\n",
            "1719/1719 [==============================] - 4s 2ms/step - loss: 0.0078 - accuracy: 0.9976 - val_loss: 0.0958 - val_accuracy: 0.9828\n",
            "Epoch 18/100\n",
            "1719/1719 [==============================] - 4s 2ms/step - loss: 0.0075 - accuracy: 0.9975 - val_loss: 0.1032 - val_accuracy: 0.9844\n",
            "Epoch 19/100\n",
            "1719/1719 [==============================] - 4s 2ms/step - loss: 0.0061 - accuracy: 0.9978 - val_loss: 0.1063 - val_accuracy: 0.9802\n",
            "Epoch 20/100\n",
            "1719/1719 [==============================] - 4s 2ms/step - loss: 0.0055 - accuracy: 0.9987 - val_loss: 0.1001 - val_accuracy: 0.9804\n",
            "Epoch 21/100\n",
            "1719/1719 [==============================] - 4s 2ms/step - loss: 0.0038 - accuracy: 0.9987 - val_loss: 0.0960 - val_accuracy: 0.9838\n",
            "Epoch 22/100\n",
            "1719/1719 [==============================] - 4s 2ms/step - loss: 0.0036 - accuracy: 0.9989 - val_loss: 0.1084 - val_accuracy: 0.9822\n",
            "Epoch 23/100\n",
            "1719/1719 [==============================] - 4s 2ms/step - loss: 0.0041 - accuracy: 0.9990 - val_loss: 0.1283 - val_accuracy: 0.9800\n",
            "Epoch 24/100\n",
            "1719/1719 [==============================] - 4s 2ms/step - loss: 0.0020 - accuracy: 0.9994 - val_loss: 0.0898 - val_accuracy: 0.9860\n",
            "Epoch 25/100\n",
            "1719/1719 [==============================] - 4s 2ms/step - loss: 1.6604e-04 - accuracy: 1.0000 - val_loss: 0.0884 - val_accuracy: 0.9854\n",
            "Epoch 26/100\n",
            "1719/1719 [==============================] - 4s 2ms/step - loss: 6.6235e-05 - accuracy: 1.0000 - val_loss: 0.0892 - val_accuracy: 0.9852\n"
          ]
        }
      ]
    },
    {
      "cell_type": "code",
      "metadata": {
        "colab": {
          "base_uri": "https://localhost:8080/"
        },
        "id": "_Y0RERQMerOU",
        "outputId": "36c22048-e9e9-42e5-9ad0-e2365f70e3be"
      },
      "source": [
        "model = keras.models.load_model(\"my_mnist_model.h5\") # rollback to best model\n",
        "model.evaluate(X_test, y_test)"
      ],
      "execution_count": 11,
      "outputs": [
        {
          "output_type": "stream",
          "name": "stdout",
          "text": [
            "313/313 [==============================] - 1s 2ms/step - loss: 0.0724 - accuracy: 0.9799\n"
          ]
        },
        {
          "output_type": "execute_result",
          "data": {
            "text/plain": [
              "[0.0724339708685875, 0.9799000024795532]"
            ]
          },
          "metadata": {},
          "execution_count": 11
        }
      ]
    }
  ]
}